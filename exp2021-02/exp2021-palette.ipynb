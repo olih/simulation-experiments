{
 "cells": [
  {
   "cell_type": "markdown",
   "metadata": {},
   "source": [
    "## Colour Palette\n",
    "\n",
    "> In computer graphics, a palette, also called color lookup table (CLUT), is a correspondence table in which selected colors from a certain color space's color reproduction range are assigned an index, by which they can be referenced. (Wikipedia)"
   ]
  },
  {
   "cell_type": "markdown",
   "metadata": {},
   "source": [
    "| Link  | Description | Features  | Export  |  Notes |\n",
    "|---|---|---|---|---|\n",
    "|[color-palettes](https://www.canva.com/colors/color-palettes/)   | Part of Canva Pro - Ready made templates |  Likes,   | pdf  | [devs portal](https://www.canva.com/developers/)  |\n",
    "| [color-palettes](https://www.color-hex.com/color-palettes/)  |  Color-hex gives information about colors | Likes  | png  | [coolors.co](https://coolors.co/palettes/trending)  | |   |   |   | pdf, css, code   |   |"
   ]
  },
  {
   "cell_type": "code",
   "execution_count": null,
   "metadata": {},
   "outputs": [],
   "source": []
  }
 ],
 "metadata": {
  "kernelspec": {
   "display_name": "Python 3",
   "language": "python",
   "name": "python3"
  },
  "language_info": {
   "codemirror_mode": {
    "name": "ipython",
    "version": 3
   },
   "file_extension": ".py",
   "mimetype": "text/x-python",
   "name": "python",
   "nbconvert_exporter": "python",
   "pygments_lexer": "ipython3",
   "version": "3.8.5"
  }
 },
 "nbformat": 4,
 "nbformat_minor": 4
}

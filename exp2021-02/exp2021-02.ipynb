{
 "cells": [
  {
   "cell_type": "markdown",
   "metadata": {},
   "source": [
    "# Image processing\n",
    "\n",
    "## Load an image to numpy"
   ]
  },
  {
   "cell_type": "code",
   "execution_count": 94,
   "metadata": {},
   "outputs": [
    {
     "name": "stdout",
     "output_type": "stream",
     "text": [
      "Pillow Version: 8.1.0\n"
     ]
    }
   ],
   "source": [
    "import PIL\n",
    "from PIL import Image, ImagePalette\n",
    "import numpy as np\n",
    "print('Pillow Version:', PIL.__version__)\n",
    "import pandas as pd"
   ]
  },
  {
   "cell_type": "code",
   "execution_count": 95,
   "metadata": {},
   "outputs": [
    {
     "name": "stdout",
     "output_type": "stream",
     "text": [
      "shape: (1080, 1920) dtype: uint8\n",
      "palette: (256, 3) dtype: int64\n"
     ]
    }
   ],
   "source": [
    "veg_img = Image.open('vegetation2020.png').convert('P')\n",
    "palette = veg_img.getpalette()\n",
    "palette_arr = np.asarray(palette).reshape(256, 3)\n",
    "veg_img_arr = np.asarray(veg_img)\n",
    "print(f\"shape: {veg_img_arr.shape} dtype: {veg_img_arr.dtype}\")\n",
    "print(f\"palette: {palette_arr.shape} dtype: {palette_arr.dtype}\")"
   ]
  },
  {
   "cell_type": "markdown",
   "metadata": {},
   "source": [
    "## Understand the palette\n",
    "\n",
    "We can check the how many colors from the palette are been used in the entire image. For vegetation2020, it is a palette of 30 colors."
   ]
  },
  {
   "cell_type": "code",
   "execution_count": 96,
   "metadata": {},
   "outputs": [
    {
     "data": {
      "text/plain": [
       "array([ 0,  1,  2,  3,  4,  5,  6,  7,  8,  9, 10, 11, 12, 13, 14, 15, 16,\n",
       "       17, 18, 19, 20, 21, 22, 23, 24, 25, 26, 27, 28, 29], dtype=uint8)"
      ]
     },
     "execution_count": 96,
     "metadata": {},
     "output_type": "execute_result"
    }
   ],
   "source": [
    "np.unique(veg_img_arr)"
   ]
  },
  {
   "cell_type": "code",
   "execution_count": 97,
   "metadata": {},
   "outputs": [
    {
     "data": {
      "text/plain": [
       "array([[254, 254, 254],\n",
       "       [  2,   2,   2],\n",
       "       [232, 232, 232],\n",
       "       [215, 215, 215],\n",
       "       [ 23,  23,  23],\n",
       "       [ 55,  71,  97],\n",
       "       [199, 199, 200],\n",
       "       [183, 183, 183],\n",
       "       [ 39,  39,  39],\n",
       "       [167, 167, 168],\n",
       "       [ 55,  55,  55],\n",
       "       [135, 135, 136],\n",
       "       [151, 151, 151],\n",
       "       [ 71,  71,  71],\n",
       "       [119, 119, 119],\n",
       "       [ 87,  87,  87],\n",
       "       [103, 103, 103],\n",
       "       [ 72,  87, 110],\n",
       "       [142, 151, 165],\n",
       "       [107, 119, 138],\n",
       "       [ 87, 101, 122],\n",
       "       [180, 186, 195],\n",
       "       [122, 132, 150],\n",
       "       [188, 194, 202],\n",
       "       [155, 163, 176],\n",
       "       [217, 220, 225],\n",
       "       [ 97, 109, 130],\n",
       "       [222, 225, 229],\n",
       "       [ 95, 107, 128],\n",
       "       [ 64,  79, 104]])"
      ]
     },
     "execution_count": 97,
     "metadata": {},
     "output_type": "execute_result"
    }
   ],
   "source": [
    "palette_arr[0:30]"
   ]
  },
  {
   "cell_type": "code",
   "execution_count": 98,
   "metadata": {},
   "outputs": [
    {
     "data": {
      "text/plain": [
       "array([1882788,   52211,   17195,   12337,   10959,   10353,   10175,\n",
       "          8440,    8384,    7944,    7288,    7085,    6974,    6744,\n",
       "          6633,    6514,    6427,     846,     789,     674,     526,\n",
       "           507,     474,     363,     352,     305,     118,      94,\n",
       "            62,      39])"
      ]
     },
     "execution_count": 98,
     "metadata": {},
     "output_type": "execute_result"
    }
   ],
   "source": [
    "color_id, color_frequency = np.unique(veg_img_arr, return_counts = True)\n",
    "color_frequency"
   ]
  },
  {
   "cell_type": "code",
   "execution_count": 99,
   "metadata": {},
   "outputs": [],
   "source": [
    "## Change the palette"
   ]
  },
  {
   "cell_type": "code",
   "execution_count": 102,
   "metadata": {},
   "outputs": [],
   "source": [
    "def create_rgb_palette(colors, count)->ImagePalette.ImagePalette:\n",
    "    cols_flat = colors.reshape(count*3).tolist()\n",
    "    imgPalette = ImagePalette.ImagePalette('RGB', cols_flat, len(cols_flat))\n",
    "    return imgPalette\n",
    "    \n",
    "img_exp_1 = Image.fromarray(veg_img_arr, 'P')\n",
    "new_palette_arr = palette_arr[0:30].copy()\n",
    "np.random.shuffle(new_palette_arr)\n",
    "img_palette = create_rgb_palette(new_palette_arr, 30)\n",
    "img_exp_1.putpalette(img_palette)\n",
    "img_exp_1.save('img-exp-1.png')\n"
   ]
  },
  {
   "cell_type": "code",
   "execution_count": null,
   "metadata": {},
   "outputs": [],
   "source": []
  },
  {
   "cell_type": "code",
   "execution_count": null,
   "metadata": {},
   "outputs": [],
   "source": []
  }
 ],
 "metadata": {
  "kernelspec": {
   "display_name": "Python 3",
   "language": "python",
   "name": "python3"
  },
  "language_info": {
   "codemirror_mode": {
    "name": "ipython",
    "version": 3
   },
   "file_extension": ".py",
   "mimetype": "text/x-python",
   "name": "python",
   "nbconvert_exporter": "python",
   "pygments_lexer": "ipython3",
   "version": "3.8.5"
  }
 },
 "nbformat": 4,
 "nbformat_minor": 4
}

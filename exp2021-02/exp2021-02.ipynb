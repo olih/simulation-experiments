{
 "cells": [
  {
   "cell_type": "markdown",
   "metadata": {},
   "source": [
    "# Image processing\n",
    "\n",
    "## Load an image to numpy"
   ]
  },
  {
   "cell_type": "code",
   "execution_count": 103,
   "metadata": {},
   "outputs": [
    {
     "name": "stdout",
     "output_type": "stream",
     "text": [
      "Pillow Version: 8.1.0\n"
     ]
    }
   ],
   "source": [
    "import PIL\n",
    "from PIL import Image, ImagePalette\n",
    "import numpy as np\n",
    "print('Pillow Version:', PIL.__version__)\n",
    "import pandas as pd"
   ]
  },
  {
   "cell_type": "markdown",
   "metadata": {},
   "source": [
    "Let's create a helper to manipulate the image with a palette"
   ]
  },
  {
   "cell_type": "code",
   "execution_count": 125,
   "metadata": {},
   "outputs": [],
   "source": [
    "class ImageReaderHelper:\n",
    "    def __init__(self, name: str):\n",
    "        self.name = name\n",
    "    \n",
    "    def load(self):\n",
    "        self.img = Image.open(f'{self.name}.png').convert('P')\n",
    "        self.palette = self.img.getpalette()\n",
    "        self.img_arr = np.asarray(self.img)\n",
    "        self.palette_arr = np.asarray(self.palette).reshape(256, 3)\n",
    "        print(f\"{self.name} shape: {self.img_arr.shape} dtype: {self.img_arr.dtype}\")\n",
    "        print(f\"{self.name} palette: {self.palette_arr.shape} dtype: {self.palette_arr.dtype}\")\n",
    "        \n",
    "    def print_palette_info(self):\n",
    "        print('Unique colors used from palette in the image')\n",
    "        colors_used = np.unique(self.img_arr)\n",
    "        print(colors_used)\n",
    "        print('Unique RGB colors used')\n",
    "        min_color_idx = np.amin(colors_used)\n",
    "        max_color_idx = np.amax(colors_used)\n",
    "        print(f'Color index range: {min_color_idx} to {max_color_idx}')\n",
    "        rgb_colors_used = self.palette_arr[min_color_idx:max_color_idx+1]\n",
    "        print(rgb_colors_used)\n",
    "        color_id, color_frequency = np.unique(self.img_arr, return_counts = True)\n",
    "        print('Color frequency')\n",
    "        print(color_frequency)\n"
   ]
  },
  {
   "cell_type": "code",
   "execution_count": 126,
   "metadata": {},
   "outputs": [
    {
     "name": "stdout",
     "output_type": "stream",
     "text": [
      "vegetation2020 shape: (1080, 1920) dtype: uint8\n",
      "vegetation2020 palette: (256, 3) dtype: int64\n"
     ]
    }
   ],
   "source": [
    "veg2020 = ImageReaderHelper('vegetation2020')\n",
    "veg2020.load()"
   ]
  },
  {
   "cell_type": "markdown",
   "metadata": {},
   "source": [
    "## Understand the palette\n",
    "\n",
    "We can check the how many colors from the palette are been used in the entire image. For vegetation2020, it is a palette of 30 colors."
   ]
  },
  {
   "cell_type": "code",
   "execution_count": 127,
   "metadata": {},
   "outputs": [
    {
     "name": "stdout",
     "output_type": "stream",
     "text": [
      "Unique colors used from palette in the image\n",
      "[ 0  1  2  3  4  5  6  7  8  9 10 11 12 13 14 15 16 17 18 19 20 21 22 23\n",
      " 24 25 26 27 28 29]\n",
      "Unique RGB colors used\n",
      "Color index range: 0 to 29\n",
      "[[254 254 254]\n",
      " [  2   2   2]\n",
      " [232 232 232]\n",
      " [215 215 215]\n",
      " [ 23  23  23]\n",
      " [ 55  71  97]\n",
      " [199 199 200]\n",
      " [183 183 183]\n",
      " [ 39  39  39]\n",
      " [167 167 168]\n",
      " [ 55  55  55]\n",
      " [135 135 136]\n",
      " [151 151 151]\n",
      " [ 71  71  71]\n",
      " [119 119 119]\n",
      " [ 87  87  87]\n",
      " [103 103 103]\n",
      " [ 72  87 110]\n",
      " [142 151 165]\n",
      " [107 119 138]\n",
      " [ 87 101 122]\n",
      " [180 186 195]\n",
      " [122 132 150]\n",
      " [188 194 202]\n",
      " [155 163 176]\n",
      " [217 220 225]\n",
      " [ 97 109 130]\n",
      " [222 225 229]\n",
      " [ 95 107 128]\n",
      " [ 64  79 104]]\n",
      "Color frequency\n",
      "[1882788   52211   17195   12337   10959   10353   10175    8440    8384\n",
      "    7944    7288    7085    6974    6744    6633    6514    6427     846\n",
      "     789     674     526     507     474     363     352     305     118\n",
      "      94      62      39]\n"
     ]
    }
   ],
   "source": [
    "veg2020.print_palette_info()"
   ]
  },
  {
   "cell_type": "code",
   "execution_count": 99,
   "metadata": {},
   "outputs": [],
   "source": [
    "## Change the palette"
   ]
  },
  {
   "cell_type": "code",
   "execution_count": 102,
   "metadata": {},
   "outputs": [],
   "source": [
    "def create_rgb_palette(colors, count)->ImagePalette.ImagePalette:\n",
    "    cols_flat = colors.reshape(count*3).tolist()\n",
    "    imgPalette = ImagePalette.ImagePalette('RGB', cols_flat, len(cols_flat))\n",
    "    return imgPalette\n",
    "    \n",
    "img_exp_1 = Image.fromarray(veg_img_arr, 'P')\n",
    "new_palette_arr = palette_arr[0:30].copy()\n",
    "np.random.shuffle(new_palette_arr)\n",
    "img_palette = create_rgb_palette(new_palette_arr, 30)\n",
    "img_exp_1.putpalette(img_palette)\n",
    "img_exp_1.save('img-exp-1.png')\n"
   ]
  },
  {
   "cell_type": "code",
   "execution_count": null,
   "metadata": {},
   "outputs": [],
   "source": []
  },
  {
   "cell_type": "code",
   "execution_count": null,
   "metadata": {},
   "outputs": [],
   "source": []
  }
 ],
 "metadata": {
  "kernelspec": {
   "display_name": "Python 3",
   "language": "python",
   "name": "python3"
  },
  "language_info": {
   "codemirror_mode": {
    "name": "ipython",
    "version": 3
   },
   "file_extension": ".py",
   "mimetype": "text/x-python",
   "name": "python",
   "nbconvert_exporter": "python",
   "pygments_lexer": "ipython3",
   "version": "3.8.5"
  }
 },
 "nbformat": 4,
 "nbformat_minor": 4
}

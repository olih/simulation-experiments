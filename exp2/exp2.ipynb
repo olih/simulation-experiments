{
 "cells": [
  {
   "cell_type": "markdown",
   "metadata": {},
   "source": [
    "# Simulation of microservices\n",
    "\n",
    "This simulation attempts to balance the size of a micro service"
   ]
  },
  {
   "cell_type": "markdown",
   "metadata": {},
   "source": [
    "## Microservice\n",
    "\n",
    "The size of a [microservice](https://en.wikipedia.org/wiki/Microservices) is related to number of features it provides."
   ]
  },
  {
   "cell_type": "code",
   "execution_count": 24,
   "metadata": {},
   "outputs": [],
   "source": [
    "from typing import List, Tuple, Set\n",
    "from fractions import Fraction"
   ]
  },
  {
   "cell_type": "code",
   "execution_count": 25,
   "metadata": {},
   "outputs": [],
   "source": [
    "class MicroService:\n",
    "    def __init__(self):\n",
    "        self.feature_count = 0\n",
    "    \n",
    "    def set_feature_count(self, count: int):\n",
    "        self.feature_count = count\n",
    "        return self\n",
    "    \n",
    "    def to_string(self):\n",
    "        return \"MicroService: features: {}\".format(self.feature_count)\n",
    "    \n",
    "    def __str__(self):\n",
    "        return self.to_string()\n",
    "    \n",
    "    def __repr__(self):\n",
    "        return self.to_string()\n",
    "    \n",
    "    def __eq__(self, other):\n",
    "        return self.feature_count == other.feature_count\n",
    " \n",
    "    def __hash__(self):\n",
    "        return hash(self.feature_count)\n"
   ]
  },
  {
   "cell_type": "code",
   "execution_count": 33,
   "metadata": {},
   "outputs": [
    {
     "name": "stdout",
     "output_type": "stream",
     "text": [
      "MicroService: features: 3\n"
     ]
    }
   ],
   "source": [
    "micro1 = MicroService()\n",
    "micro1.set_feature_count(3)\n",
    "print(micro1)"
   ]
  },
  {
   "cell_type": "markdown",
   "metadata": {},
   "source": [
    "## ServiceSuite\n",
    "\n",
    "A service suite represents an aggregation of services used by a department.\n",
    "\n"
   ]
  },
  {
   "cell_type": "code",
   "execution_count": 34,
   "metadata": {},
   "outputs": [],
   "source": [
    "class ServiceSuite:\n",
    "    def __init__(self, services: List[MicroService]):\n",
    "        self.services = services\n",
    "       \n",
    "    def to_string(self):\n",
    "        return \"ServiceSuite: count: {}, features: {}\".format(self.get_service_count(), self.get_feature_count())\n",
    "    \n",
    "    def __str__(self):\n",
    "        return self.to_string()\n",
    "    \n",
    "    def __repr__(self):\n",
    "        return self.to_string()\n",
    "     \n",
    "    def get_feature_count(self)->int:\n",
    "        return sum([s.feature_count for s in self.services])\n",
    "    \n",
    "    def get_service_count(self)->int:\n",
    "        return len(self.services)\n",
    " \n",
    "   "
   ]
  },
  {
   "cell_type": "code",
   "execution_count": 35,
   "metadata": {},
   "outputs": [
    {
     "name": "stdout",
     "output_type": "stream",
     "text": [
      "ServiceSuite: count: 2, features: 7\n"
     ]
    }
   ],
   "source": [
    "serviceSuite1 = ServiceSuite([MicroService().set_feature_count(4),MicroService().set_feature_count(3)])\n",
    "print(serviceSuite1)"
   ]
  },
  {
   "cell_type": "markdown",
   "metadata": {},
   "source": [
    "## Business specifications\n",
    "\n",
    "We can simplify the business specifications as a number of features to provide."
   ]
  },
  {
   "cell_type": "code",
   "execution_count": 36,
   "metadata": {},
   "outputs": [],
   "source": [
    "class BusinessSpecs:\n",
    "    def __init__(self):\n",
    "        self.feature_count = 0\n",
    "    \n",
    "    def set_feature_count(self, count: int):\n",
    "        self.feature_count = count\n",
    "        return self\n",
    "    \n",
    "    def to_string(self):\n",
    "        return \"BusinessSpecs: features: {}\".format(self.feature_count)\n",
    "    \n",
    "    def __str__(self):\n",
    "        return self.to_string()\n",
    "    \n",
    "    def __repr__(self):\n",
    "        return self.to_string()\n",
    "    "
   ]
  },
  {
   "cell_type": "markdown",
   "metadata": {},
   "source": [
    "## DevTime\n",
    "\n",
    "The developer time in hours"
   ]
  },
  {
   "cell_type": "code",
   "execution_count": 40,
   "metadata": {},
   "outputs": [],
   "source": [
    "class DevTimeSpecs:\n",
    "    def __init__(self):\n",
    "        self.hours_per_service = 1\n",
    "        self.hours_per_feature = 1\n",
    "        self.penalty_exp = 1.1\n",
    "    \n",
    "    def set_hours_per_service(self, hours: float):\n",
    "        self.hours_per_service = hours\n",
    "        return self\n",
    "\n",
    "    def set_hours_per_feature(self, hours: float):\n",
    "        self.hours_per_feature = hours\n",
    "        return self\n",
    "    \n",
    "    def set_penalty_exp(self, penalty_exp: float):\n",
    "        self.penalty_exp = penalty_exp\n",
    "        return self\n",
    "\n",
    "    def to_string(self):\n",
    "        return \"DevTimeSpecs: h/service : {}, h/feature: {}\".format(self.hours_per_service, self.hours_per_feature)\n",
    "    \n",
    "    def __str__(self):\n",
    "        return self.to_string()\n",
    "    \n",
    "    def __repr__(self):\n",
    "        return self.to_string()\n",
    "    \n",
    "    def __eq__(self, other):\n",
    "        return self.feature_count == other.feature_count\n",
    " \n",
    "    def __hash__(self):\n",
    "        return hash(self.feature_count)\n",
    "    \n",
    "    def get_devtime(self, service: MicroService)->float:\n",
    "        return self.hours_per_service + service.feature_count*(self.penalty_exp**service.feature_count)*self.hours_per_feature\n"
   ]
  },
  {
   "cell_type": "code",
   "execution_count": 41,
   "metadata": {},
   "outputs": [
    {
     "name": "stdout",
     "output_type": "stream",
     "text": [
      "DevTimeSpecs: h/service : 8, h/feature: 16\n",
      "hours 85.79240000000001\n"
     ]
    }
   ],
   "source": [
    "devTimeSpecs1 = DevTimeSpecs().set_hours_per_service(8).set_hours_per_feature(16).set_penalty_exp(1.05)\n",
    "print(devTimeSpecs1)\n",
    "print(\"hours\", devTimeSpecs1.get_devtime(MicroService().set_feature_count(4)))"
   ]
  },
  {
   "cell_type": "code",
   "execution_count": null,
   "metadata": {},
   "outputs": [],
   "source": []
  }
 ],
 "metadata": {
  "kernelspec": {
   "display_name": "Python 3",
   "language": "python",
   "name": "python3"
  },
  "language_info": {
   "codemirror_mode": {
    "name": "ipython",
    "version": 3
   },
   "file_extension": ".py",
   "mimetype": "text/x-python",
   "name": "python",
   "nbconvert_exporter": "python",
   "pygments_lexer": "ipython3",
   "version": "3.7.4"
  }
 },
 "nbformat": 4,
 "nbformat_minor": 4
}

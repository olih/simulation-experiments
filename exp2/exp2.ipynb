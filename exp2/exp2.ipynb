{
 "cells": [
  {
   "cell_type": "markdown",
   "metadata": {},
   "source": [
    "# Simulation of microservices\n",
    "\n",
    "This simulation attempts to balance the size of a micro service"
   ]
  },
  {
   "cell_type": "markdown",
   "metadata": {},
   "source": [
    "## Microservice\n",
    "\n",
    "The size of a [microservice](https://en.wikipedia.org/wiki/Microservices) is related to the number of features it provides."
   ]
  },
  {
   "cell_type": "code",
   "execution_count": 140,
   "metadata": {},
   "outputs": [],
   "source": [
    "from typing import List, Tuple, Set\n",
    "from fractions import Fraction"
   ]
  },
  {
   "cell_type": "code",
   "execution_count": 166,
   "metadata": {},
   "outputs": [],
   "source": [
    "class MicroService:\n",
    "    def __init__(self):\n",
    "        self.feature_count = 0\n",
    "    \n",
    "    def set_feature_count(self, count: int):\n",
    "        self.feature_count = count\n",
    "        return self\n",
    "        \n",
    "    def __str__(self):\n",
    "        return \"MicroService: features: {}\".format(self.feature_count)\n",
    "           "
   ]
  },
  {
   "cell_type": "code",
   "execution_count": 167,
   "metadata": {},
   "outputs": [
    {
     "name": "stdout",
     "output_type": "stream",
     "text": [
      "MicroService: features: 3\n"
     ]
    }
   ],
   "source": [
    "micro1 = MicroService()\n",
    "micro1.set_feature_count(3)\n",
    "print(micro1)"
   ]
  },
  {
   "cell_type": "markdown",
   "metadata": {},
   "source": [
    "## ServiceSuite\n",
    "\n",
    "A service suite represents an aggregation of services used by a department.\n",
    "\n"
   ]
  },
  {
   "cell_type": "code",
   "execution_count": 168,
   "metadata": {},
   "outputs": [],
   "source": [
    "from random import randint\n",
    "class ServiceSuite:\n",
    "    def __init__(self):\n",
    "        self.services = []\n",
    "           \n",
    "    def __str__(self):\n",
    "        return \"ServiceSuite: count: {}, features: {}\".format(self.get_service_count(), self.get_feature_count())\n",
    "        \n",
    "    def add_microservice(self, microservice: MicroService):\n",
    "        self.services.append(microservice)\n",
    "        return self\n",
    "        \n",
    "    def get_feature_count(self)->int:\n",
    "        return sum([s.feature_count for s in self.services])\n",
    "    \n",
    "    def get_service_count(self)->int:\n",
    "        return len(self.services)\n",
    "    \n",
    "    def random_suite(self, target_feature_count: int, min_features_by_service: int):\n",
    "        \"\"\"\n",
    "        This creates a random suite that will produce the desired target number of features accross\n",
    "        different services\n",
    "        \"\"\"\n",
    "        remaining_feature_count = target_feature_count\n",
    "        while remaining_feature_count >= min_features_by_service:\n",
    "            service_feature_count = randint(min_features_by_service, remaining_feature_count)\n",
    "            if remaining_feature_count - service_feature_count <= min_features_by_service:\n",
    "                service_feature_count = remaining_feature_count\n",
    "            self.add_microservice(MicroService().set_feature_count(service_feature_count))\n",
    "            remaining_feature_count -= service_feature_count\n",
    "        return self\n",
    "    \n",
    "    def get_summary(self)->str:\n",
    "        features_by_service = \" \".join(sorted([str(s.feature_count) for s in self.services]))\n",
    "        return \"{} services, features: {}\".format(self.get_service_count(), features_by_service)\n",
    "    \n",
    "    def __eq__(self, other):\n",
    "        return self.get_summary() == other.get_summary()\n",
    "\n",
    "    def __hash__(self):\n",
    "        return hash(self.get_summary())\n",
    " \n",
    " \n",
    "   "
   ]
  },
  {
   "cell_type": "code",
   "execution_count": 169,
   "metadata": {},
   "outputs": [
    {
     "name": "stdout",
     "output_type": "stream",
     "text": [
      "ServiceSuite: count: 2, features: 10\n",
      "2 services, features: 3 7\n"
     ]
    }
   ],
   "source": [
    "serviceSuite1 = ServiceSuite()\n",
    "serviceSuite1.random_suite(target_feature_count = 10, min_features_by_service = 3)\n",
    "print(serviceSuite1)\n",
    "print(serviceSuite1.get_summary())"
   ]
  },
  {
   "cell_type": "markdown",
   "metadata": {},
   "source": [
    "## Specifications"
   ]
  },
  {
   "cell_type": "markdown",
   "metadata": {},
   "source": [
    "### Developement time\n",
    "\n",
    "The developer time in hours"
   ]
  },
  {
   "cell_type": "code",
   "execution_count": 170,
   "metadata": {},
   "outputs": [],
   "source": [
    "class DevTimeSpecs:\n",
    "    def __init__(self):\n",
    "        self.hours_per_service = 1\n",
    "        self.hours_per_feature = 1\n",
    "        self.penalty_exp = 1.1\n",
    "    \n",
    "    def set_hours_per_service(self, hours: float):\n",
    "        self.hours_per_service = hours\n",
    "        return self\n",
    "\n",
    "    def set_hours_per_feature(self, hours: float):\n",
    "        self.hours_per_feature = hours\n",
    "        return self\n",
    "    \n",
    "    def set_penalty_exp(self, penalty_exp: float):\n",
    "        self.penalty_exp = penalty_exp\n",
    "        return self\n",
    "   \n",
    "    def __str__(self):\n",
    "        return \"DevTimeSpecs: h/service : {}, h/feature: {}\".format(self.hours_per_service, self.hours_per_feature)\n",
    "        \n",
    "    def get_devtime(self, service: MicroService)->float:\n",
    "        return self.hours_per_service + service.feature_count*(self.penalty_exp**service.feature_count)*self.hours_per_feature\n",
    "   \n",
    "    def get_devtime_for_suite(self, suite: ServiceSuite)->float:\n",
    "        return sum([self.get_devtime(service) for service in suite.services])\n"
   ]
  },
  {
   "cell_type": "markdown",
   "metadata": {},
   "source": [
    "### Business specifications\n",
    "\n",
    "We can simplify the business specifications as a number of features to provide."
   ]
  },
  {
   "cell_type": "code",
   "execution_count": 171,
   "metadata": {},
   "outputs": [],
   "source": [
    "class BusinessSpecs:\n",
    "    def __init__(self):\n",
    "        self.feature_count = 0\n",
    "        self.min_features_by_service = 3\n",
    "        self.dev_time_specs = None\n",
    "    \n",
    "    def set_feature_count(self, count: int):\n",
    "        self.feature_count = count\n",
    "        return self\n",
    "    \n",
    "    def set_dev_time_specs(self, dev_time_specs: DevTimeSpecs):\n",
    "        self.dev_time_specs = dev_time_specs\n",
    "        return self\n",
    "    \n",
    "    def set_min_features_by_service(self, min_features_by_service: int):\n",
    "        self.min_features_by_service = min_features_by_service\n",
    "        return self\n",
    "       \n",
    "    def __str__(self):\n",
    "        return \"BusinessSpecs: features: {}, min feat./serv. {}, dev time: {}\".format(self.feature_count, self.min_features_by_service, self.dev_time_specs)\n",
    "    "
   ]
  },
  {
   "cell_type": "code",
   "execution_count": 172,
   "metadata": {},
   "outputs": [
    {
     "name": "stdout",
     "output_type": "stream",
     "text": [
      "hours 85.79240000000001\n"
     ]
    }
   ],
   "source": [
    "businessSpecs1 = BusinessSpecs()\n",
    "businessSpecs1.set_feature_count(50)\n",
    "businessSpecs1.set_dev_time_specs(DevTimeSpecs().set_hours_per_service(8).set_hours_per_feature(16).set_penalty_exp(1.05))\n",
    "print(\"hours\", businessSpecs.dev_time_specs.get_devtime(MicroService().set_feature_count(4)))"
   ]
  },
  {
   "cell_type": "markdown",
   "metadata": {},
   "source": [
    "## Simulation\n",
    "\n",
    "The library Pandas(https://pandas.pydata.org/) makes it simpler to manipulate data."
   ]
  },
  {
   "cell_type": "code",
   "execution_count": 200,
   "metadata": {},
   "outputs": [],
   "source": [
    "import pandas as pd\n",
    "\n",
    "class Simulation:\n",
    "    def __init__(self):\n",
    "        self.business_specs = None\n",
    "        self.service_suite_set = set([])\n",
    "        \n",
    "    def set_business_specs(self, business_specs: BusinessSpecs):\n",
    "        self.business_specs = business_specs\n",
    "        return self\n",
    "    \n",
    "    def add_service_suite(self, service_suite: ServiceSuite):\n",
    "        self.service_suite_set.add(service_suite)\n",
    "        return self\n",
    "    \n",
    "    def random_suites(self, count: int):\n",
    "        target = self.business_specs.feature_count\n",
    "        min_feat = self.business_specs.min_features_by_service\n",
    "        for _ in range(count):\n",
    "            suite = ServiceSuite().random_suite(target_feature_count = target, min_features_by_service = min_feat)\n",
    "            self.add_service_suite(suite)\n",
    "        return self\n",
    "                \n",
    "    def _to_suite_tuple(self, suite: ServiceSuite):\n",
    "        return (suite.get_summary(), suite.get_service_count(), self.business_specs.dev_time_specs.get_devtime_for_suite(suite))\n",
    "        \n",
    "    def to_list(self):\n",
    "        return [self._to_suite_tuple(suite) for suite in list(self.service_suite_set)]\n",
    "    \n",
    "    def to_dataframe(self):\n",
    "        return pd.DataFrame(self.to_list(), columns=['desc', 'services', 'hours'])\n",
    "      "
   ]
  },
  {
   "cell_type": "code",
   "execution_count": 201,
   "metadata": {},
   "outputs": [
    {
     "name": "stdout",
     "output_type": "stream",
     "text": [
      "                                desc  services        hours\n",
      "0      3 services, features: 13 32 5         3  2957.967579\n",
      "1        2 services, features: 22 28         2  2801.909627\n",
      "2    4 services, features: 16 27 3 4         4  2337.027426\n",
      "3  4 services, features: 10 11 13 16         4  1544.673784\n",
      "4       3 services, features: 4 4 42         3  5395.371637\n",
      "5        2 services, features: 10 40         2  4782.215916\n",
      "6     3 services, features: 10 12 28         3  2385.645409\n"
     ]
    }
   ],
   "source": [
    "simulation1 = Simulation().set_business_specs(businessSpecs1).random_suites(7)\n",
    "print(simulation1.to_dataframe())"
   ]
  },
  {
   "cell_type": "code",
   "execution_count": 202,
   "metadata": {},
   "outputs": [],
   "source": [
    "simulation_data = simulation1.to_dataframe()"
   ]
  },
  {
   "cell_type": "markdown",
   "metadata": {},
   "source": [
    "### Visualisation\n",
    "\n",
    "[Altair](https://altair-viz.github.io/getting_started/overview.html) is a declarative statistical visualization library for Python, based on Vega and Vega-Lite that will need to be [installed](https://altair-viz.github.io/getting_started/installation.html)."
   ]
  },
  {
   "cell_type": "code",
   "execution_count": 206,
   "metadata": {},
   "outputs": [
    {
     "data": {
      "text/html": [
       "\n",
       "<div id=\"altair-viz-977ec75f2d654e80afbb016bcc986d31\"></div>\n",
       "<script type=\"text/javascript\">\n",
       "  (function(spec, embedOpt){\n",
       "    let outputDiv = document.currentScript.previousElementSibling;\n",
       "    if (outputDiv.id !== \"altair-viz-977ec75f2d654e80afbb016bcc986d31\") {\n",
       "      outputDiv = document.getElementById(\"altair-viz-977ec75f2d654e80afbb016bcc986d31\");\n",
       "    }\n",
       "    const paths = {\n",
       "      \"vega\": \"https://cdn.jsdelivr.net/npm//vega@5?noext\",\n",
       "      \"vega-lib\": \"https://cdn.jsdelivr.net/npm//vega-lib?noext\",\n",
       "      \"vega-lite\": \"https://cdn.jsdelivr.net/npm//vega-lite@4.8.1?noext\",\n",
       "      \"vega-embed\": \"https://cdn.jsdelivr.net/npm//vega-embed@6?noext\",\n",
       "    };\n",
       "\n",
       "    function loadScript(lib) {\n",
       "      return new Promise(function(resolve, reject) {\n",
       "        var s = document.createElement('script');\n",
       "        s.src = paths[lib];\n",
       "        s.async = true;\n",
       "        s.onload = () => resolve(paths[lib]);\n",
       "        s.onerror = () => reject(`Error loading script: ${paths[lib]}`);\n",
       "        document.getElementsByTagName(\"head\")[0].appendChild(s);\n",
       "      });\n",
       "    }\n",
       "\n",
       "    function showError(err) {\n",
       "      outputDiv.innerHTML = `<div class=\"error\" style=\"color:red;\">${err}</div>`;\n",
       "      throw err;\n",
       "    }\n",
       "\n",
       "    function displayChart(vegaEmbed) {\n",
       "      vegaEmbed(outputDiv, spec, embedOpt)\n",
       "        .catch(err => showError(`Javascript Error: ${err.message}<br>This usually means there's a typo in your chart specification. See the javascript console for the full traceback.`));\n",
       "    }\n",
       "\n",
       "    if(typeof define === \"function\" && define.amd) {\n",
       "      requirejs.config({paths});\n",
       "      require([\"vega-embed\"], displayChart, err => showError(`Error loading script: ${err.message}`));\n",
       "    } else if (typeof vegaEmbed === \"function\") {\n",
       "      displayChart(vegaEmbed);\n",
       "    } else {\n",
       "      loadScript(\"vega\")\n",
       "        .then(() => loadScript(\"vega-lite\"))\n",
       "        .then(() => loadScript(\"vega-embed\"))\n",
       "        .catch(showError)\n",
       "        .then(() => displayChart(vegaEmbed));\n",
       "    }\n",
       "  })({\"config\": {\"view\": {\"continuousWidth\": 400, \"continuousHeight\": 300}}, \"data\": {\"name\": \"data-ff69fa9beab043e4fddc5efa49c2c0db\"}, \"mark\": \"point\", \"encoding\": {\"x\": {\"type\": \"quantitative\", \"field\": \"services\"}, \"y\": {\"type\": \"quantitative\", \"field\": \"hours\"}}, \"$schema\": \"https://vega.github.io/schema/vega-lite/v4.8.1.json\", \"datasets\": {\"data-ff69fa9beab043e4fddc5efa49c2c0db\": [{\"desc\": \"3 services, features: 13 32 5\", \"services\": 3, \"hours\": 2957.9675785282825}, {\"desc\": \"2 services, features: 22 28\", \"services\": 2, \"hours\": 2801.909627441925}, {\"desc\": \"4 services, features: 16 27 3 4\", \"services\": 4, \"hours\": 2337.0274258773366}, {\"desc\": \"4 services, features: 10 11 13 16\", \"services\": 4, \"hours\": 1544.6737835418712}, {\"desc\": \"3 services, features: 4 4 42\", \"services\": 3, \"hours\": 5395.3716370389175}, {\"desc\": \"2 services, features: 10 40\", \"services\": 2, \"hours\": 4782.2159160441715}, {\"desc\": \"3 services, features: 10 12 28\", \"services\": 3, \"hours\": 2385.645408910117}]}}, {\"mode\": \"vega-lite\"});\n",
       "</script>"
      ],
      "text/plain": [
       "alt.Chart(...)"
      ]
     },
     "execution_count": 206,
     "metadata": {},
     "output_type": "execute_result"
    }
   ],
   "source": [
    "import altair as alt\n",
    "\n",
    "chart = alt.Chart(simulation_data)\n",
    "alt.Chart(simulation_data).mark_point()\n",
    "alt.Chart(simulation_data).mark_point().encode(\n",
    "    x=\"services\",\n",
    ")\n",
    "alt.Chart(simulation_data).mark_point().encode(\n",
    "    x=\"services\",\n",
    "    y=\"hours\"\n",
    ")\n"
   ]
  },
  {
   "cell_type": "code",
   "execution_count": null,
   "metadata": {},
   "outputs": [],
   "source": []
  },
  {
   "cell_type": "code",
   "execution_count": null,
   "metadata": {},
   "outputs": [],
   "source": []
  }
 ],
 "metadata": {
  "kernelspec": {
   "display_name": "Python 3",
   "language": "python",
   "name": "python3"
  },
  "language_info": {
   "codemirror_mode": {
    "name": "ipython",
    "version": 3
   },
   "file_extension": ".py",
   "mimetype": "text/x-python",
   "name": "python",
   "nbconvert_exporter": "python",
   "pygments_lexer": "ipython3",
   "version": "3.7.6"
  }
 },
 "nbformat": 4,
 "nbformat_minor": 4
}

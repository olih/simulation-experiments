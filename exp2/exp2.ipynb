{
 "cells": [
  {
   "cell_type": "markdown",
   "metadata": {},
   "source": [
    "# Simulation of microservices\n",
    "\n",
    "This simulation attempts to balance the size of a micro service"
   ]
  },
  {
   "cell_type": "markdown",
   "metadata": {},
   "source": [
    "## Microservice\n",
    "\n",
    "The size of a [microservice](https://en.wikipedia.org/wiki/Microservices) is related to the number of features it provides."
   ]
  },
  {
   "cell_type": "code",
   "execution_count": 34,
   "metadata": {},
   "outputs": [],
   "source": [
    "from typing import List, Tuple, Set\n",
    "from fractions import Fraction"
   ]
  },
  {
   "cell_type": "code",
   "execution_count": 35,
   "metadata": {},
   "outputs": [],
   "source": [
    "class MicroService:\n",
    "    def __init__(self):\n",
    "        self.feature_count = 0\n",
    "    \n",
    "    def set_feature_count(self, count: int):\n",
    "        self.feature_count = count\n",
    "        return self\n",
    "        \n",
    "    def __str__(self):\n",
    "        return \"MicroService: features: {}\".format(self.feature_count)\n",
    "           "
   ]
  },
  {
   "cell_type": "code",
   "execution_count": 36,
   "metadata": {},
   "outputs": [
    {
     "name": "stdout",
     "output_type": "stream",
     "text": [
      "MicroService: features: 3\n"
     ]
    }
   ],
   "source": [
    "micro1 = MicroService()\n",
    "micro1.set_feature_count(3)\n",
    "print(micro1)"
   ]
  },
  {
   "cell_type": "markdown",
   "metadata": {},
   "source": [
    "## ServiceSuite\n",
    "\n",
    "A service suite represents an aggregation of services used by a department.\n",
    "\n"
   ]
  },
  {
   "cell_type": "code",
   "execution_count": 37,
   "metadata": {},
   "outputs": [],
   "source": [
    "class ServiceSuite:\n",
    "    def __init__(self):\n",
    "        self.services = []\n",
    "           \n",
    "    def __str__(self):\n",
    "        return \"ServiceSuite: count: {}, features: {}\".format(self.get_service_count(), self.get_feature_count())\n",
    "        \n",
    "    def add_microservice(self, microservice: MicroService):\n",
    "        self.services.append(microservice)\n",
    "        return self\n",
    "        \n",
    "    def get_feature_count(self)->int:\n",
    "        return sum([s.feature_count for s in self.services])\n",
    "    \n",
    "    def get_service_count(self)->int:\n",
    "        return len(self.services)\n",
    "    \n",
    "    def get_summary(self)->str:\n",
    "        features_by_service = \" \".join([str(s.feature_count) for s in self.services])\n",
    "        return \"{} services, features: {}\".format(self.get_service_count(), features_by_service)\n",
    " \n",
    "   "
   ]
  },
  {
   "cell_type": "code",
   "execution_count": 38,
   "metadata": {},
   "outputs": [
    {
     "name": "stdout",
     "output_type": "stream",
     "text": [
      "ServiceSuite: count: 2, features: 7\n",
      "2 services, features: 4 3\n"
     ]
    }
   ],
   "source": [
    "serviceSuite1 = ServiceSuite()\n",
    "serviceSuite1.add_microservice(MicroService().set_feature_count(4))\n",
    "serviceSuite1.add_microservice(MicroService().set_feature_count(3))\n",
    "print(serviceSuite1)\n",
    "print(serviceSuite1.get_summary())"
   ]
  },
  {
   "cell_type": "markdown",
   "metadata": {},
   "source": [
    "## Specifications"
   ]
  },
  {
   "cell_type": "markdown",
   "metadata": {},
   "source": [
    "### Developement time\n",
    "\n",
    "The developer time in hours"
   ]
  },
  {
   "cell_type": "code",
   "execution_count": 39,
   "metadata": {},
   "outputs": [],
   "source": [
    "class DevTimeSpecs:\n",
    "    def __init__(self):\n",
    "        self.hours_per_service = 1\n",
    "        self.hours_per_feature = 1\n",
    "        self.penalty_exp = 1.1\n",
    "    \n",
    "    def set_hours_per_service(self, hours: float):\n",
    "        self.hours_per_service = hours\n",
    "        return self\n",
    "\n",
    "    def set_hours_per_feature(self, hours: float):\n",
    "        self.hours_per_feature = hours\n",
    "        return self\n",
    "    \n",
    "    def set_penalty_exp(self, penalty_exp: float):\n",
    "        self.penalty_exp = penalty_exp\n",
    "        return self\n",
    "   \n",
    "    def __str__(self):\n",
    "        return \"DevTimeSpecs: h/service : {}, h/feature: {}\".format(self.hours_per_service, self.hours_per_feature)\n",
    "        \n",
    "    def get_devtime(self, service: MicroService)->float:\n",
    "        return self.hours_per_service + service.feature_count*(self.penalty_exp**service.feature_count)*self.hours_per_feature\n",
    "   \n",
    "    def get_devtime_for_suite(self, suite: ServiceSuite)->float:\n",
    "        return sum([self.get_devtime(service) for service in suite.services])\n"
   ]
  },
  {
   "cell_type": "markdown",
   "metadata": {},
   "source": [
    "### Business specifications\n",
    "\n",
    "We can simplify the business specifications as a number of features to provide."
   ]
  },
  {
   "cell_type": "code",
   "execution_count": 40,
   "metadata": {},
   "outputs": [],
   "source": [
    "class BusinessSpecs:\n",
    "    def __init__(self):\n",
    "        self.feature_count = 0\n",
    "        self.min_features_by_service = 3\n",
    "        self.dev_time_specs = None\n",
    "    \n",
    "    def set_feature_count(self, count: int):\n",
    "        self.feature_count = count\n",
    "        return self\n",
    "    \n",
    "    def set_dev_time_specs(self, dev_time_specs: DevTimeSpecs):\n",
    "        self.dev_time_specs = dev_time_specs\n",
    "        return self\n",
    "    \n",
    "    def set_min_features_by_service(self, min_features_by_service: int):\n",
    "        self.min_features_by_service = min_features_by_service\n",
    "        return self\n",
    "       \n",
    "    def __str__(self):\n",
    "        return \"BusinessSpecs: features: {}, min feat./serv. {}, dev time: {}\".format(self.feature_count, self.min_features_by_service, self.dev_time_specs)\n",
    "    "
   ]
  },
  {
   "cell_type": "code",
   "execution_count": 41,
   "metadata": {},
   "outputs": [
    {
     "name": "stdout",
     "output_type": "stream",
     "text": [
      "hours 85.79240000000001\n"
     ]
    }
   ],
   "source": [
    "businessSpecs = BusinessSpecs()\n",
    "businessSpecs.set_feature_count(100)\n",
    "businessSpecs.set_dev_time_specs(DevTimeSpecs().set_hours_per_service(8).set_hours_per_feature(16).set_penalty_exp(1.05))\n",
    "print(\"hours\", businessSpecs.dev_time_specs.get_devtime(MicroService().set_feature_count(4)))"
   ]
  },
  {
   "cell_type": "markdown",
   "metadata": {},
   "source": [
    "## Simulation\n",
    "\n",
    "The library Pandas(https://pandas.pydata.org/) makes it simpler to manipulate data."
   ]
  },
  {
   "cell_type": "code",
   "execution_count": 55,
   "metadata": {},
   "outputs": [],
   "source": [
    "import pandas as pd\n",
    "\n",
    "class Simulation:\n",
    "    def __init__(self):\n",
    "        self.business_specs = None\n",
    "        self.service_suite_list = []\n",
    "        \n",
    "    def set_business_specs(self, business_specs: BusinessSpecs):\n",
    "        self.business_specs = business_specs\n",
    "        return self\n",
    "    \n",
    "    def add_service_suite(self, service_suite: ServiceSuite):\n",
    "        self.service_suite_list.append(service_suite)\n",
    "        return self\n",
    "    \n",
    "    def _to_suite_tuple(self, suite: ServiceSuite):\n",
    "        return (suite.get_summary(), suite.get_service_count(), self.business_specs.dev_time_specs.get_devtime_for_suite(suite))\n",
    "        \n",
    "    def to_list(self):\n",
    "        return [self._to_suite_tuple(suite) for suite in self.service_suite_list]\n",
    "    \n",
    "    def to_dataframe(self):\n",
    "        return pd.DataFrame(self.to_list())\n",
    "      "
   ]
  },
  {
   "cell_type": "code",
   "execution_count": 56,
   "metadata": {},
   "outputs": [
    {
     "name": "stdout",
     "output_type": "stream",
     "text": [
      "                           0  1         2\n",
      "0  2 services, features: 4 3  2  149.3584\n"
     ]
    }
   ],
   "source": [
    "simulation1 = Simulation().set_business_specs(businessSpecs).add_service_suite(serviceSuite1)\n",
    "print(simulation1.to_dataframe())"
   ]
  },
  {
   "cell_type": "code",
   "execution_count": 22,
   "metadata": {},
   "outputs": [
    {
     "name": "stdout",
     "output_type": "stream",
     "text": [
      "   a  b\n",
      "0  C  2\n",
      "1  C  7\n",
      "2  C  4\n",
      "3  D  1\n",
      "4  D  2\n",
      "5  D  6\n",
      "6  E  8\n",
      "7  E  4\n",
      "8  E  7\n"
     ]
    }
   ],
   "source": [
    "simulation_data = pd.DataFrame({'a': list('CCCDDDEEE'),\n",
    "                     'b': [2, 7, 4, 1, 2, 6, 8, 4, 7]})\n",
    "print(simulation_data)"
   ]
  },
  {
   "cell_type": "markdown",
   "metadata": {},
   "source": [
    "### Visualisation\n",
    "\n",
    "[Altair](https://altair-viz.github.io/getting_started/overview.html) is a declarative statistical visualization library for Python, based on Vega and Vega-Lite that will need to be [installed](https://altair-viz.github.io/getting_started/installation.html)."
   ]
  },
  {
   "cell_type": "code",
   "execution_count": 23,
   "metadata": {},
   "outputs": [
    {
     "data": {
      "text/html": [
       "\n",
       "<div id=\"altair-viz-d5ae5954289240e48f5423889709c7dd\"></div>\n",
       "<script type=\"text/javascript\">\n",
       "  (function(spec, embedOpt){\n",
       "    let outputDiv = document.currentScript.previousElementSibling;\n",
       "    if (outputDiv.id !== \"altair-viz-d5ae5954289240e48f5423889709c7dd\") {\n",
       "      outputDiv = document.getElementById(\"altair-viz-d5ae5954289240e48f5423889709c7dd\");\n",
       "    }\n",
       "    const paths = {\n",
       "      \"vega\": \"https://cdn.jsdelivr.net/npm//vega@5?noext\",\n",
       "      \"vega-lib\": \"https://cdn.jsdelivr.net/npm//vega-lib?noext\",\n",
       "      \"vega-lite\": \"https://cdn.jsdelivr.net/npm//vega-lite@4.8.1?noext\",\n",
       "      \"vega-embed\": \"https://cdn.jsdelivr.net/npm//vega-embed@6?noext\",\n",
       "    };\n",
       "\n",
       "    function loadScript(lib) {\n",
       "      return new Promise(function(resolve, reject) {\n",
       "        var s = document.createElement('script');\n",
       "        s.src = paths[lib];\n",
       "        s.async = true;\n",
       "        s.onload = () => resolve(paths[lib]);\n",
       "        s.onerror = () => reject(`Error loading script: ${paths[lib]}`);\n",
       "        document.getElementsByTagName(\"head\")[0].appendChild(s);\n",
       "      });\n",
       "    }\n",
       "\n",
       "    function showError(err) {\n",
       "      outputDiv.innerHTML = `<div class=\"error\" style=\"color:red;\">${err}</div>`;\n",
       "      throw err;\n",
       "    }\n",
       "\n",
       "    function displayChart(vegaEmbed) {\n",
       "      vegaEmbed(outputDiv, spec, embedOpt)\n",
       "        .catch(err => showError(`Javascript Error: ${err.message}<br>This usually means there's a typo in your chart specification. See the javascript console for the full traceback.`));\n",
       "    }\n",
       "\n",
       "    if(typeof define === \"function\" && define.amd) {\n",
       "      requirejs.config({paths});\n",
       "      require([\"vega-embed\"], displayChart, err => showError(`Error loading script: ${err.message}`));\n",
       "    } else if (typeof vegaEmbed === \"function\") {\n",
       "      displayChart(vegaEmbed);\n",
       "    } else {\n",
       "      loadScript(\"vega\")\n",
       "        .then(() => loadScript(\"vega-lite\"))\n",
       "        .then(() => loadScript(\"vega-embed\"))\n",
       "        .catch(showError)\n",
       "        .then(() => displayChart(vegaEmbed));\n",
       "    }\n",
       "  })({\"config\": {\"view\": {\"continuousWidth\": 400, \"continuousHeight\": 300}}, \"data\": {\"name\": \"data-347f1284ea3247c0f55cb966abbdd2d8\"}, \"mark\": \"point\", \"encoding\": {\"x\": {\"type\": \"nominal\", \"field\": \"a\"}, \"y\": {\"type\": \"quantitative\", \"field\": \"b\"}}, \"$schema\": \"https://vega.github.io/schema/vega-lite/v4.8.1.json\", \"datasets\": {\"data-347f1284ea3247c0f55cb966abbdd2d8\": [{\"a\": \"C\", \"b\": 2}, {\"a\": \"C\", \"b\": 7}, {\"a\": \"C\", \"b\": 4}, {\"a\": \"D\", \"b\": 1}, {\"a\": \"D\", \"b\": 2}, {\"a\": \"D\", \"b\": 6}, {\"a\": \"E\", \"b\": 8}, {\"a\": \"E\", \"b\": 4}, {\"a\": \"E\", \"b\": 7}]}}, {\"mode\": \"vega-lite\"});\n",
       "</script>"
      ],
      "text/plain": [
       "alt.Chart(...)"
      ]
     },
     "execution_count": 23,
     "metadata": {},
     "output_type": "execute_result"
    }
   ],
   "source": [
    "import altair as alt\n",
    "\n",
    "chart = alt.Chart(simulation_data)\n",
    "alt.Chart(simulation_data).mark_point()\n",
    "alt.Chart(simulation_data).mark_point().encode(\n",
    "    x='a',\n",
    ")\n",
    "alt.Chart(simulation_data).mark_point().encode(\n",
    "    x='a',\n",
    "    y='b'\n",
    ")\n"
   ]
  },
  {
   "cell_type": "code",
   "execution_count": null,
   "metadata": {},
   "outputs": [],
   "source": []
  }
 ],
 "metadata": {
  "kernelspec": {
   "display_name": "Python 3",
   "language": "python",
   "name": "python3"
  },
  "language_info": {
   "codemirror_mode": {
    "name": "ipython",
    "version": 3
   },
   "file_extension": ".py",
   "mimetype": "text/x-python",
   "name": "python",
   "nbconvert_exporter": "python",
   "pygments_lexer": "ipython3",
   "version": "3.7.6"
  }
 },
 "nbformat": 4,
 "nbformat_minor": 4
}

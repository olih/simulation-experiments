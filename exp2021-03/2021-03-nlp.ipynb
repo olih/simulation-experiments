{
 "cells": [
  {
   "cell_type": "markdown",
   "id": "accomplished-color",
   "metadata": {},
   "source": [
    "# Natural Language Processing"
   ]
  },
  {
   "cell_type": "code",
   "execution_count": 64,
   "id": "perfect-missouri",
   "metadata": {},
   "outputs": [
    {
     "name": "stderr",
     "output_type": "stream",
     "text": [
      "[nltk_data] Downloading package punkt to /Users/huino01/nltk_data...\n",
      "[nltk_data]   Package punkt is already up-to-date!\n",
      "[nltk_data] Downloading package averaged_perceptron_tagger to\n",
      "[nltk_data]     /Users/huino01/nltk_data...\n",
      "[nltk_data]   Package averaged_perceptron_tagger is already up-to-\n",
      "[nltk_data]       date!\n"
     ]
    },
    {
     "data": {
      "text/plain": [
       "True"
      ]
     },
     "execution_count": 64,
     "metadata": {},
     "output_type": "execute_result"
    }
   ],
   "source": [
    "import pandas as pd\n",
    "import nltk\n",
    "nltk.download('punkt')\n",
    "nltk.download('averaged_perceptron_tagger')"
   ]
  },
  {
   "cell_type": "markdown",
   "id": "diagnostic-crime",
   "metadata": {},
   "source": [
    "## Basic language processing"
   ]
  },
  {
   "cell_type": "markdown",
   "id": "linear-interpretation",
   "metadata": {},
   "source": [
    "### Simple title"
   ]
  },
  {
   "cell_type": "code",
   "execution_count": 65,
   "id": "threatened-andorra",
   "metadata": {},
   "outputs": [],
   "source": [
    "culture_and_media_tokens = nltk.word_tokenize(\"Culture & the Media\")"
   ]
  },
  {
   "cell_type": "code",
   "execution_count": 66,
   "id": "consecutive-stroke",
   "metadata": {},
   "outputs": [
    {
     "name": "stdout",
     "output_type": "stream",
     "text": [
      "['Culture', '&', 'the', 'Media']\n"
     ]
    }
   ],
   "source": [
    "print(culture_and_media_tokens)"
   ]
  },
  {
   "cell_type": "markdown",
   "id": "retired-separation",
   "metadata": {},
   "source": [
    "### part-of-speech tagging\n",
    "\n",
    "This will be using [Penn Treebank tagset](https://www.sketchengine.eu/penn-treebank-tagset/)\n",
    "\n",
    "| POS Tag  | Description              |\n",
    "|----------|--------------------------|\n",
    "| CC       | coordinating conjunction |\n",
    "| NNP      | proper noun, singular    |\n",
    "| DT       | determiner               |"
   ]
  },
  {
   "cell_type": "code",
   "execution_count": 67,
   "id": "light-sudan",
   "metadata": {},
   "outputs": [
    {
     "name": "stdout",
     "output_type": "stream",
     "text": [
      "[('Culture', 'NNP'), ('&', 'CC'), ('the', 'DT'), ('Media', 'NNP')]\n"
     ]
    }
   ],
   "source": [
    "culture_and_media_tokens_tagged = nltk.pos_tag(culture_and_media_tokens)\n",
    "print(culture_and_media_tokens_tagged)"
   ]
  },
  {
   "cell_type": "markdown",
   "id": "described-credits",
   "metadata": {},
   "source": [
    "### Programming language names parsing"
   ]
  },
  {
   "cell_type": "code",
   "execution_count": 68,
   "id": "bronze-cream",
   "metadata": {},
   "outputs": [
    {
     "name": "stdout",
     "output_type": "stream",
     "text": [
      "['getWordDescription']\n"
     ]
    }
   ],
   "source": [
    "getWordDesc = nltk.word_tokenize(\"getWordDescription\")\n",
    "print(getWordDesc)"
   ]
  },
  {
   "cell_type": "code",
   "execution_count": 69,
   "id": "honey-yellow",
   "metadata": {},
   "outputs": [
    {
     "name": "stdout",
     "output_type": "stream",
     "text": [
      "['get', 'Word', 'Description']\n"
     ]
    }
   ],
   "source": [
    "def java_name_split(text: str): \n",
    "      \n",
    "    start_ids = sorted(list(set([0] + [i for i, t in enumerate(text) if t.isupper()] + [len(text)])))\n",
    "    return [text[x: y] for x, y in zip(start_ids, start_ids[1:])]\n",
    "\n",
    "print(java_name_split(\"getWordDescription\"))"
   ]
  },
  {
   "cell_type": "code",
   "execution_count": 70,
   "id": "disciplinary-diving",
   "metadata": {},
   "outputs": [
    {
     "name": "stdout",
     "output_type": "stream",
     "text": [
      "['News', 'Article']\n"
     ]
    }
   ],
   "source": [
    "print(java_name_split(\"NewsArticle\"))"
   ]
  },
  {
   "cell_type": "code",
   "execution_count": 71,
   "id": "bigger-recipe",
   "metadata": {},
   "outputs": [
    {
     "name": "stdout",
     "output_type": "stream",
     "text": [
      "['A', 'B', 'Test']\n"
     ]
    }
   ],
   "source": [
    "print(java_name_split(\"ABTest\"))"
   ]
  },
  {
   "cell_type": "code",
   "execution_count": null,
   "id": "demanding-focus",
   "metadata": {},
   "outputs": [],
   "source": []
  }
 ],
 "metadata": {
  "kernelspec": {
   "display_name": "Python 3",
   "language": "python",
   "name": "python3"
  },
  "language_info": {
   "codemirror_mode": {
    "name": "ipython",
    "version": 3
   },
   "file_extension": ".py",
   "mimetype": "text/x-python",
   "name": "python",
   "nbconvert_exporter": "python",
   "pygments_lexer": "ipython3",
   "version": "3.8.5"
  }
 },
 "nbformat": 4,
 "nbformat_minor": 5
}

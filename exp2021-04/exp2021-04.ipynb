{
 "cells": [
  {
   "cell_type": "code",
   "execution_count": null,
   "id": "victorian-nicholas",
   "metadata": {},
   "outputs": [],
   "source": []
  },
  {
   "cell_type": "markdown",
   "id": "short-configuration",
   "metadata": {},
   "source": [
    "# Numpy two dimensional arrays"
   ]
  },
  {
   "cell_type": "code",
   "execution_count": 509,
   "id": "headed-child",
   "metadata": {},
   "outputs": [],
   "source": [
    "import numpy as np"
   ]
  },
  {
   "cell_type": "markdown",
   "id": "duplicate-combine",
   "metadata": {},
   "source": [
    "## Common settings\n",
    "\n",
    "### Dimension tuple"
   ]
  },
  {
   "cell_type": "code",
   "execution_count": 510,
   "id": "impossible-spoke",
   "metadata": {},
   "outputs": [],
   "source": [
    "from collections import namedtuple\n",
    "\n",
    "Rect = namedtuple('Rect', 'height width')\n",
    "rect_7x5 = Rect(5, 7)\n",
    "rect_3x2 = Rect(2, 3)\n",
    "rect_5x5 = Rect(5, 5)"
   ]
  },
  {
   "cell_type": "markdown",
   "id": "intimate-niger",
   "metadata": {},
   "source": [
    "### Fills with zeros"
   ]
  },
  {
   "cell_type": "code",
   "execution_count": 511,
   "id": "fixed-technical",
   "metadata": {},
   "outputs": [
    {
     "data": {
      "text/plain": [
       "array([[0., 0., 0., 0., 0., 0., 0.],\n",
       "       [0., 0., 0., 0., 0., 0., 0.],\n",
       "       [0., 0., 0., 0., 0., 0., 0.],\n",
       "       [0., 0., 0., 0., 0., 0., 0.],\n",
       "       [0., 0., 0., 0., 0., 0., 0.]])"
      ]
     },
     "execution_count": 511,
     "metadata": {},
     "output_type": "execute_result"
    }
   ],
   "source": [
    "zeros_arr_5x5 = np.zeros(rect_5x5)\n",
    "zeros_arr = np.zeros(rect_7x5)\n",
    "zeros_arr"
   ]
  },
  {
   "cell_type": "markdown",
   "id": "sustained-mediterranean",
   "metadata": {},
   "source": [
    "### Fills with other (5)"
   ]
  },
  {
   "cell_type": "code",
   "execution_count": 512,
   "id": "baking-voice",
   "metadata": {},
   "outputs": [
    {
     "data": {
      "text/plain": [
       "array([[5, 5, 5],\n",
       "       [5, 5, 5]])"
      ]
     },
     "execution_count": 512,
     "metadata": {},
     "output_type": "execute_result"
    }
   ],
   "source": [
    "np.full(rect_3x2, 5)"
   ]
  },
  {
   "cell_type": "code",
   "execution_count": 513,
   "id": "neither-hollywood",
   "metadata": {},
   "outputs": [],
   "source": [
    "ones_arr = np.ones(rect_7x5)\n",
    "two_arr = np.full(rect_7x5, 2)\n",
    "three_arr = np.full(rect_7x5, 3)\n",
    "four_arr = np.full(rect_7x5, 4)\n",
    "five_arr = np.full(rect_7x5, 5)"
   ]
  },
  {
   "cell_type": "markdown",
   "id": "stunning-manchester",
   "metadata": {},
   "source": [
    "### Incremental range"
   ]
  },
  {
   "cell_type": "code",
   "execution_count": 514,
   "id": "false-trauma",
   "metadata": {},
   "outputs": [
    {
     "data": {
      "text/plain": [
       "array([[ 0,  1,  2,  3,  4,  5,  6],\n",
       "       [ 7,  8,  9, 10, 11, 12, 13],\n",
       "       [14, 15, 16, 17, 18, 19, 20],\n",
       "       [21, 22, 23, 24, 25, 26, 27],\n",
       "       [28, 29, 30, 31, 32, 33, 34]])"
      ]
     },
     "execution_count": 514,
     "metadata": {},
     "output_type": "execute_result"
    }
   ],
   "source": [
    "incr_7x5 = np.arange(7*5).reshape(rect_7x5)\n",
    "incr_7x5"
   ]
  },
  {
   "cell_type": "code",
   "execution_count": 515,
   "id": "utility-chemical",
   "metadata": {},
   "outputs": [
    {
     "data": {
      "text/plain": [
       "array([[35, 34, 33, 32, 31, 30, 29],\n",
       "       [28, 27, 26, 25, 24, 23, 22],\n",
       "       [21, 20, 19, 18, 17, 16, 15],\n",
       "       [14, 13, 12, 11, 10,  9,  8],\n",
       "       [ 7,  6,  5,  4,  3,  2,  1]])"
      ]
     },
     "execution_count": 515,
     "metadata": {},
     "output_type": "execute_result"
    }
   ],
   "source": [
    "decr_7x5 = np.arange(7*5,0, -1).reshape(rect_7x5)\n",
    "decr_7x5"
   ]
  },
  {
   "cell_type": "code",
   "execution_count": 516,
   "id": "juvenile-roller",
   "metadata": {},
   "outputs": [
    {
     "data": {
      "text/plain": [
       "array([[  0,   3,   6,   9,  12,  15,  18],\n",
       "       [ 21,  24,  27,  30,  33,  36,  39],\n",
       "       [ 42,  45,  48,  51,  54,  57,  60],\n",
       "       [ 63,  66,  69,  72,  75,  78,  81],\n",
       "       [ 84,  87,  90,  93,  96,  99, 102]])"
      ]
     },
     "execution_count": 516,
     "metadata": {},
     "output_type": "execute_result"
    }
   ],
   "source": [
    "incr_7x5_by3 = np.arange(0, 7*5*3, 3).reshape(rect_7x5)\n",
    "incr_7x5_by3"
   ]
  },
  {
   "cell_type": "code",
   "execution_count": 517,
   "id": "successful-electric",
   "metadata": {},
   "outputs": [
    {
     "data": {
      "text/plain": [
       "array([[  0,   5,  10,  15,  20,  25,  30],\n",
       "       [ 35,  40,  45,  50,  55,  60,  65],\n",
       "       [ 70,  75,  80,  85,  90,  95, 100],\n",
       "       [105, 110, 115, 120, 125, 130, 135],\n",
       "       [140, 145, 150, 155, 160, 165, 170]])"
      ]
     },
     "execution_count": 517,
     "metadata": {},
     "output_type": "execute_result"
    }
   ],
   "source": [
    "incr_7x5_by5 = np.arange(0, 7*5*5, 5).reshape(rect_7x5)\n",
    "incr_7x5_by5"
   ]
  },
  {
   "cell_type": "markdown",
   "id": "coated-transport",
   "metadata": {},
   "source": [
    "### Fibonacci\n",
    "\n",
    " * sqrt: Return the non-negative square-root of an array, element-wise.\n",
    " * rint: Round elements of the array to the nearest integer.\n"
   ]
  },
  {
   "cell_type": "code",
   "execution_count": 518,
   "id": "placed-prerequisite",
   "metadata": {},
   "outputs": [
    {
     "name": "stdout",
     "output_type": "stream",
     "text": [
      "sqrtFive 2.23606797749979\n"
     ]
    },
    {
     "data": {
      "text/plain": [
       "array([ 1.,  1.,  2.,  3.,  5.,  8., 13., 21., 34., 55.])"
      ]
     },
     "execution_count": 518,
     "metadata": {},
     "output_type": "execute_result"
    }
   ],
   "source": [
    "def fibonacci(n: int):\n",
    "    range_to_n = np.arange(1, n + 1)\n",
    "    length_range = len(range_to_n)\n",
    "    \n",
    "    # Binet Formula\n",
    "    sqrtFive = np.sqrt(5)\n",
    "    print(\"sqrtFive\", sqrtFive)\n",
    "    alpha = (1 + sqrtFive) / 2\n",
    "    beta = (1 - sqrtFive) / 2\n",
    "    return np.rint(((alpha ** range_to_n) - (beta ** range_to_n)) / (sqrtFive))\n",
    "\n",
    "\n",
    "fibonacci(10)\n",
    "    "
   ]
  },
  {
   "cell_type": "markdown",
   "id": "manual-bundle",
   "metadata": {},
   "source": [
    "## Generate value based on x, y"
   ]
  },
  {
   "cell_type": "markdown",
   "id": "welsh-bunch",
   "metadata": {},
   "source": [
    "### Populate top row with 1"
   ]
  },
  {
   "cell_type": "code",
   "execution_count": 519,
   "id": "failing-winner",
   "metadata": {},
   "outputs": [
    {
     "data": {
      "text/plain": [
       "array([[1, 1, 1, 1, 1, 1, 1],\n",
       "       [0, 0, 0, 0, 0, 0, 0],\n",
       "       [0, 0, 0, 0, 0, 0, 0],\n",
       "       [0, 0, 0, 0, 0, 0, 0],\n",
       "       [0, 0, 0, 0, 0, 0, 0]])"
      ]
     },
     "execution_count": 519,
     "metadata": {},
     "output_type": "execute_result"
    }
   ],
   "source": [
    "def gen_for_y0(arr, dimension):\n",
    "    it = np.nditer(arr, flags=['multi_index'])\n",
    "    new_arr = np.array([1 if it.multi_index[0] == 0 else 0 for v in it]).reshape(dimension)\n",
    "    return new_arr\n",
    "\n",
    "gen_for_y0(zeros_arr, rect_7x5)    "
   ]
  },
  {
   "cell_type": "markdown",
   "id": "outer-coverage",
   "metadata": {},
   "source": [
    "### Populate left column with 1"
   ]
  },
  {
   "cell_type": "code",
   "execution_count": 520,
   "id": "enclosed-crown",
   "metadata": {},
   "outputs": [
    {
     "data": {
      "text/plain": [
       "array([[1, 0, 0, 0, 0, 0, 0],\n",
       "       [1, 0, 0, 0, 0, 0, 0],\n",
       "       [1, 0, 0, 0, 0, 0, 0],\n",
       "       [1, 0, 0, 0, 0, 0, 0],\n",
       "       [1, 0, 0, 0, 0, 0, 0]])"
      ]
     },
     "execution_count": 520,
     "metadata": {},
     "output_type": "execute_result"
    }
   ],
   "source": [
    "def gen_for_x0(arr, dimension):\n",
    "    it = np.nditer(arr, flags=['multi_index'])\n",
    "    new_arr = np.array([1 if it.multi_index[1] == 0 else 0 for v in it]).reshape(dimension)\n",
    "    return new_arr\n",
    "\n",
    "gen_for_x0(zeros_arr, rect_7x5)    "
   ]
  },
  {
   "cell_type": "markdown",
   "id": "positive-johnson",
   "metadata": {},
   "source": [
    "### Populate bottom row with 1"
   ]
  },
  {
   "cell_type": "code",
   "execution_count": 521,
   "id": "disturbed-quebec",
   "metadata": {},
   "outputs": [
    {
     "data": {
      "text/plain": [
       "array([[0, 0, 0, 0, 0, 0, 0],\n",
       "       [0, 0, 0, 0, 0, 0, 0],\n",
       "       [0, 0, 0, 0, 0, 0, 0],\n",
       "       [0, 0, 0, 0, 0, 0, 0],\n",
       "       [1, 1, 1, 1, 1, 1, 1]])"
      ]
     },
     "execution_count": 521,
     "metadata": {},
     "output_type": "execute_result"
    }
   ],
   "source": [
    "def gen_for_ymax(arr, dimension):\n",
    "    it = np.nditer(arr, flags=['multi_index'])\n",
    "    new_arr = np.array([1 if it.multi_index[0] == dimension[0]-1 else 0 for v in it]).reshape(dimension)\n",
    "    return new_arr\n",
    "\n",
    "gen_for_ymax(zeros_arr, rect_7x5) "
   ]
  },
  {
   "cell_type": "markdown",
   "id": "reverse-bubble",
   "metadata": {},
   "source": [
    "### Populate right column with 1"
   ]
  },
  {
   "cell_type": "code",
   "execution_count": 522,
   "id": "received-pilot",
   "metadata": {},
   "outputs": [
    {
     "data": {
      "text/plain": [
       "array([[0, 0, 0, 0, 0, 0, 1],\n",
       "       [0, 0, 0, 0, 0, 0, 1],\n",
       "       [0, 0, 0, 0, 0, 0, 1],\n",
       "       [0, 0, 0, 0, 0, 0, 1],\n",
       "       [0, 0, 0, 0, 0, 0, 1]])"
      ]
     },
     "execution_count": 522,
     "metadata": {},
     "output_type": "execute_result"
    }
   ],
   "source": [
    "def gen_for_xmax(arr, dimension):\n",
    "    it = np.nditer(arr, flags=['multi_index'])\n",
    "    new_arr = np.array([1 if it.multi_index[1] == dimension[1]-1 else 0 for v in it]).reshape(dimension)\n",
    "    return new_arr\n",
    "\n",
    "gen_for_xmax(zeros_arr, rect_7x5)    "
   ]
  },
  {
   "cell_type": "markdown",
   "id": "considerable-waterproof",
   "metadata": {},
   "source": [
    "### Adds x and y"
   ]
  },
  {
   "cell_type": "code",
   "execution_count": 523,
   "id": "unlike-index",
   "metadata": {},
   "outputs": [
    {
     "data": {
      "text/plain": [
       "array([[ 0,  1,  2,  3,  4,  5,  6],\n",
       "       [ 1,  2,  3,  4,  5,  6,  7],\n",
       "       [ 2,  3,  4,  5,  6,  7,  8],\n",
       "       [ 3,  4,  5,  6,  7,  8,  9],\n",
       "       [ 4,  5,  6,  7,  8,  9, 10]])"
      ]
     },
     "execution_count": 523,
     "metadata": {},
     "output_type": "execute_result"
    }
   ],
   "source": [
    "def for_xy(x, y, dimension):\n",
    "    return x + y\n",
    "\n",
    "def gen_for_xy(arr, dimension):\n",
    "    it = np.nditer(arr, flags=['multi_index'])\n",
    "    new_arr = np.array([for_xy(it.multi_index[1], it.multi_index[0], dimension)for v in it]).reshape(dimension)\n",
    "    return new_arr\n",
    "\n",
    "gen_for_xy(zeros_arr, rect_7x5)    "
   ]
  },
  {
   "cell_type": "markdown",
   "id": "analyzed-giant",
   "metadata": {},
   "source": [
    "### Adds x and y on top of previous value"
   ]
  },
  {
   "cell_type": "code",
   "execution_count": 524,
   "id": "cathedral-plastic",
   "metadata": {},
   "outputs": [
    {
     "data": {
      "text/plain": [
       "array([[ 1,  2,  3,  4,  5,  6,  7],\n",
       "       [ 1,  2,  3,  4,  5,  6,  7],\n",
       "       [ 2,  3,  4,  5,  6,  7,  8],\n",
       "       [ 3,  4,  5,  6,  7,  8,  9],\n",
       "       [ 4,  5,  6,  7,  8,  9, 10]])"
      ]
     },
     "execution_count": 524,
     "metadata": {},
     "output_type": "execute_result"
    }
   ],
   "source": [
    "def for_xy_previous(x, y, previous, dimension):\n",
    "    return x + y + previous\n",
    "\n",
    "def gen_for_xy_previous(arr, dimension):\n",
    "    it = np.nditer(arr, flags=['multi_index'])\n",
    "    new_arr = np.array([for_xy_previous(it.multi_index[1], it.multi_index[0], v,  dimension)for v in it]).reshape(dimension)\n",
    "    return new_arr\n",
    "\n",
    "gen_for_xy_previous(gen_for_y0(zeros_arr, rect_7x5), rect_7x5)    "
   ]
  },
  {
   "cell_type": "markdown",
   "id": "approved-university",
   "metadata": {},
   "source": [
    "### Modify value based on immediate neighbour"
   ]
  },
  {
   "cell_type": "code",
   "execution_count": 525,
   "id": "right-strip",
   "metadata": {},
   "outputs": [
    {
     "name": "stdout",
     "output_type": "stream",
     "text": [
      "[[ 0  1  2  3  4  5  6]\n",
      " [ 7  8  9 10 11 12 13]\n",
      " [14 15 16 17 18 19 20]\n",
      " [21 22 23 24 25 26 27]\n",
      " [28 29 30 31 32 33 34]]\n"
     ]
    },
    {
     "data": {
      "text/plain": [
       "array([[ 0,  1,  2,  3,  4,  5,  6],\n",
       "       [ 7,  8, 10, 12, 14, 16, 13],\n",
       "       [14, 22, 24, 26, 28, 30, 20],\n",
       "       [21, 36, 38, 40, 42, 44, 27],\n",
       "       [28, 29, 30, 31, 32, 33, 34]])"
      ]
     },
     "execution_count": 525,
     "metadata": {},
     "output_type": "execute_result"
    }
   ],
   "source": [
    "def for_xy_3x3_local(x, y, threeByThree, dimension):\n",
    "    #Adds West + North\n",
    "    return threeByThree[0, -1] + threeByThree[1, 0]\n",
    "    \n",
    "def for_xy_3x3_strict(x, y, arr, dimension):\n",
    "    if y == 0 or y >= dimension[0]-1 or x == 0 or x >= dimension[1]-1:\n",
    "        # keep old value\n",
    "        return arr[y, x]\n",
    "    else:\n",
    "        return for_xy_3x3_local(x, y, arr[y-1:y+1, x-1:x+1], dimension)\n",
    "\n",
    "def gen_for_xy_3x3_strict(arr, dimension):\n",
    "    it = np.nditer(arr, flags=['multi_index'])\n",
    "    new_arr = np.array([for_xy_3x3_strict(it.multi_index[1], it.multi_index[0], arr,  dimension)for v in it]).reshape(dimension)\n",
    "    return new_arr\n",
    "\n",
    "print(incr_7x5)\n",
    "gen_for_xy_3x3_strict(incr_7x5, rect_7x5)  "
   ]
  },
  {
   "cell_type": "markdown",
   "id": "christian-texture",
   "metadata": {},
   "source": [
    "## Merging 2D arrays"
   ]
  },
  {
   "cell_type": "code",
   "execution_count": 526,
   "id": "junior-program",
   "metadata": {},
   "outputs": [
    {
     "data": {
      "text/plain": [
       "array([[3., 3., 3., 3., 3., 3., 3.],\n",
       "       [3., 3., 3., 3., 3., 3., 3.],\n",
       "       [3., 3., 3., 3., 3., 3., 3.],\n",
       "       [3., 3., 3., 3., 3., 3., 3.],\n",
       "       [3., 3., 3., 3., 3., 3., 3.]])"
      ]
     },
     "execution_count": 526,
     "metadata": {},
     "output_type": "execute_result"
    }
   ],
   "source": [
    "ones_arr+two_arr"
   ]
  },
  {
   "cell_type": "code",
   "execution_count": 527,
   "id": "false-distinction",
   "metadata": {},
   "outputs": [
    {
     "data": {
      "text/plain": [
       "array([[10, 10, 10, 10, 10, 10, 10],\n",
       "       [10, 10, 10, 10, 10, 10, 10],\n",
       "       [10, 10, 10, 10, 10, 10, 10],\n",
       "       [10, 10, 10, 10, 10, 10, 10],\n",
       "       [10, 10, 10, 10, 10, 10, 10]])"
      ]
     },
     "execution_count": 527,
     "metadata": {},
     "output_type": "execute_result"
    }
   ],
   "source": [
    "two_arr*five_arr"
   ]
  },
  {
   "cell_type": "code",
   "execution_count": 528,
   "id": "extreme-hughes",
   "metadata": {},
   "outputs": [
    {
     "data": {
      "text/plain": [
       "array([[ True,  True,  True,  True,  True,  True,  True],\n",
       "       [ True,  True,  True,  True,  True,  True,  True],\n",
       "       [ True,  True,  True,  True,  True,  True,  True],\n",
       "       [ True,  True,  True,  True,  True,  True,  True],\n",
       "       [ True,  True,  True,  True,  True,  True,  True]])"
      ]
     },
     "execution_count": 528,
     "metadata": {},
     "output_type": "execute_result"
    }
   ],
   "source": [
    "five_arr-two_arr == three_arr"
   ]
  },
  {
   "cell_type": "code",
   "execution_count": 529,
   "id": "right-submission",
   "metadata": {},
   "outputs": [
    {
     "data": {
      "text/plain": [
       "array([[ True,  True,  True,  True,  True,  True,  True],\n",
       "       [ True,  True,  True,  True,  True,  True,  True],\n",
       "       [ True,  True,  True,  True,  True,  True,  True],\n",
       "       [ True,  True,  True,  True,  True,  True,  True],\n",
       "       [ True,  True,  True,  True,  True,  True,  True]])"
      ]
     },
     "execution_count": 529,
     "metadata": {},
     "output_type": "execute_result"
    }
   ],
   "source": [
    "two_arr > ones_arr"
   ]
  },
  {
   "cell_type": "code",
   "execution_count": 530,
   "id": "crude-fifth",
   "metadata": {},
   "outputs": [
    {
     "data": {
      "text/plain": [
       "array([[12., 12., 12., 12., 12., 12., 12.],\n",
       "       [12., 12., 12., 12., 12., 12., 12.],\n",
       "       [12., 12., 12., 12., 12., 12., 12.],\n",
       "       [12., 12., 12., 12., 12., 12., 12.],\n",
       "       [12., 12., 12., 12., 12., 12., 12.]])"
      ]
     },
     "execution_count": 530,
     "metadata": {},
     "output_type": "execute_result"
    }
   ],
   "source": [
    "(ones_arr+two_arr)*four_arr"
   ]
  },
  {
   "cell_type": "code",
   "execution_count": 531,
   "id": "tracked-handy",
   "metadata": {},
   "outputs": [
    {
     "data": {
      "text/plain": [
       "array([[ 0,  2,  4,  6,  8, 10, 12],\n",
       "       [14, 16, 18, 20, 22, 24, 26],\n",
       "       [28, 30, 32, 34, 36, 38, 40],\n",
       "       [42, 44, 46, 48, 50, 52, 54],\n",
       "       [56, 58, 60, 62, 64, 66, 68]])"
      ]
     },
     "execution_count": 531,
     "metadata": {},
     "output_type": "execute_result"
    }
   ],
   "source": [
    "incr_7x5*2"
   ]
  },
  {
   "cell_type": "code",
   "execution_count": 532,
   "id": "prerequisite-philippines",
   "metadata": {},
   "outputs": [
    {
     "data": {
      "text/plain": [
       "array([[ 0. ,  0.5,  1. ,  1.5,  2. ,  2.5,  3. ],\n",
       "       [ 3.5,  4. ,  4.5,  5. ,  5.5,  6. ,  6.5],\n",
       "       [ 7. ,  7.5,  8. ,  8.5,  9. ,  9.5, 10. ],\n",
       "       [10.5, 11. , 11.5, 12. , 12.5, 13. , 13.5],\n",
       "       [14. , 14.5, 15. , 15.5, 16. , 16.5, 17. ]])"
      ]
     },
     "execution_count": 532,
     "metadata": {},
     "output_type": "execute_result"
    }
   ],
   "source": [
    "incr_7x5/2"
   ]
  },
  {
   "cell_type": "code",
   "execution_count": 533,
   "id": "cordless-parts",
   "metadata": {},
   "outputs": [
    {
     "data": {
      "text/plain": [
       "array([[   0,    1,    4,    9,   16,   25,   36],\n",
       "       [  49,   64,   81,  100,  121,  144,  169],\n",
       "       [ 196,  225,  256,  289,  324,  361,  400],\n",
       "       [ 441,  484,  529,  576,  625,  676,  729],\n",
       "       [ 784,  841,  900,  961, 1024, 1089, 1156]])"
      ]
     },
     "execution_count": 533,
     "metadata": {},
     "output_type": "execute_result"
    }
   ],
   "source": [
    "incr_7x5*incr_7x5"
   ]
  },
  {
   "cell_type": "markdown",
   "id": "connected-constant",
   "metadata": {},
   "source": [
    "## Restructure"
   ]
  },
  {
   "cell_type": "markdown",
   "id": "covered-consequence",
   "metadata": {},
   "source": [
    "### Transpose\n",
    "\n",
    "Reverse or permute the axes of an array; returns the modified array."
   ]
  },
  {
   "cell_type": "code",
   "execution_count": 534,
   "id": "directed-input",
   "metadata": {},
   "outputs": [
    {
     "data": {
      "text/plain": [
       "array([[ 0,  7, 14, 21, 28],\n",
       "       [ 1,  8, 15, 22, 29],\n",
       "       [ 2,  9, 16, 23, 30],\n",
       "       [ 3, 10, 17, 24, 31],\n",
       "       [ 4, 11, 18, 25, 32],\n",
       "       [ 5, 12, 19, 26, 33],\n",
       "       [ 6, 13, 20, 27, 34]])"
      ]
     },
     "execution_count": 534,
     "metadata": {},
     "output_type": "execute_result"
    }
   ],
   "source": [
    "np.transpose(incr_7x5)"
   ]
  },
  {
   "cell_type": "markdown",
   "id": "cooked-disclaimer",
   "metadata": {},
   "source": [
    "### Flatten/Ravel\n",
    "\n",
    "Return a contiguous flattened array.\n",
    "\n",
    " * raven:\n",
    "     * Return only reference/view of original array.\n",
    "     * Ravel is faster than flatten() as it does not occupy any memory.\n",
    "\n",
    " * flatten:\n",
    "     * Return a copy of original array.\n"
   ]
  },
  {
   "cell_type": "code",
   "execution_count": 535,
   "id": "fossil-price",
   "metadata": {},
   "outputs": [
    {
     "data": {
      "text/plain": [
       "array([ 0,  1,  2,  3,  4,  5,  6,  7,  8,  9, 10, 11, 12, 13, 14, 15, 16,\n",
       "       17, 18, 19, 20, 21, 22, 23, 24, 25, 26, 27, 28, 29, 30, 31, 32, 33,\n",
       "       34])"
      ]
     },
     "execution_count": 535,
     "metadata": {},
     "output_type": "execute_result"
    }
   ],
   "source": [
    "np.ravel(incr_7x5)"
   ]
  },
  {
   "cell_type": "code",
   "execution_count": 536,
   "id": "infinite-object",
   "metadata": {},
   "outputs": [
    {
     "data": {
      "text/plain": [
       "array([ 0,  1,  2,  3,  4,  5,  6,  7,  8,  9, 10, 11, 12, 13, 14, 15, 16,\n",
       "       17, 18, 19, 20, 21, 22, 23, 24, 25, 26, 27, 28, 29, 30, 31, 32, 33,\n",
       "       34])"
      ]
     },
     "execution_count": 536,
     "metadata": {},
     "output_type": "execute_result"
    }
   ],
   "source": [
    "incr_7x5.flatten()"
   ]
  },
  {
   "cell_type": "markdown",
   "id": "british-diagnosis",
   "metadata": {},
   "source": [
    "## Functional programming"
   ]
  },
  {
   "cell_type": "markdown",
   "id": "official-compatibility",
   "metadata": {},
   "source": [
    "### Apply Along Axis\n",
    "\n",
    "Apply a function to 1-D slices along the given axis.\n"
   ]
  },
  {
   "cell_type": "code",
   "execution_count": 537,
   "id": "according-poker",
   "metadata": {},
   "outputs": [],
   "source": [
    "def avg_first_last(value):\n",
    "    return (value[0] + value[-1]) * 0.5"
   ]
  },
  {
   "cell_type": "markdown",
   "id": "chemical-america",
   "metadata": {},
   "source": [
    "Adds average to first and last element of each column"
   ]
  },
  {
   "cell_type": "code",
   "execution_count": 538,
   "id": "enormous-cabinet",
   "metadata": {},
   "outputs": [
    {
     "data": {
      "text/plain": [
       "array([14., 15., 16., 17., 18., 19., 20.])"
      ]
     },
     "execution_count": 538,
     "metadata": {},
     "output_type": "execute_result"
    }
   ],
   "source": [
    "np.apply_along_axis(avg_first_last, 0, incr_7x5)"
   ]
  },
  {
   "cell_type": "markdown",
   "id": "union-worry",
   "metadata": {},
   "source": [
    "Adds average to first and last element of each row"
   ]
  },
  {
   "cell_type": "code",
   "execution_count": 539,
   "id": "silent-number",
   "metadata": {},
   "outputs": [
    {
     "data": {
      "text/plain": [
       "array([ 3., 10., 17., 24., 31.])"
      ]
     },
     "execution_count": 539,
     "metadata": {},
     "output_type": "execute_result"
    }
   ],
   "source": [
    "np.apply_along_axis(avg_first_last, 1, incr_7x5)"
   ]
  },
  {
   "cell_type": "markdown",
   "id": "corresponding-alliance",
   "metadata": {},
   "source": [
    "### Custom ufunction\n"
   ]
  },
  {
   "cell_type": "markdown",
   "id": "regional-arthur",
   "metadata": {},
   "source": [
    "Create a custom ufunction that acts as an operator (ex: add, and ...)"
   ]
  },
  {
   "cell_type": "code",
   "execution_count": 540,
   "id": "atmospheric-weapon",
   "metadata": {},
   "outputs": [
    {
     "data": {
      "text/plain": [
       "array([[2, 3, 4, 2, 3, 4, 2],\n",
       "       [3, 4, 2, 3, 4, 2, 3],\n",
       "       [4, 2, 3, 4, 2, 3, 4],\n",
       "       [2, 3, 4, 2, 3, 4, 2],\n",
       "       [3, 4, 2, 3, 4, 2, 3]], dtype=object)"
      ]
     },
     "execution_count": 540,
     "metadata": {},
     "output_type": "execute_result"
    }
   ],
   "source": [
    "def fancy_mod3(a, b):\n",
    "    return (a % 3) + (b % 3)\n",
    "\n",
    "ufancy_mod3 = np.frompyfunc(fancy_mod3, 2, 1)\n",
    "\n",
    "fancy_mod3_7x5 = ufancy_mod3(incr_7x5, five_arr)\n",
    "fancy_mod3_7x5"
   ]
  },
  {
   "cell_type": "markdown",
   "id": "hourly-province",
   "metadata": {},
   "source": [
    "Conversion table with two inputs and one output"
   ]
  },
  {
   "cell_type": "code",
   "execution_count": 541,
   "id": "removable-culture",
   "metadata": {},
   "outputs": [
    {
     "data": {
      "text/plain": [
       "array([[0., 1., 1., 1., 0.],\n",
       "       [0., 1., 1., 1., 0.],\n",
       "       [4., 0., 0., 2., 4.],\n",
       "       [0., 0., 0., 2., 0.],\n",
       "       [0., 3., 3., 0., 0.]])"
      ]
     },
     "execution_count": 541,
     "metadata": {},
     "output_type": "execute_result"
    }
   ],
   "source": [
    "conv_table5x5 = zeros_arr_5x5\n",
    "zeros_arr_5x5[0:2, 1:4] = 1\n",
    "zeros_arr_5x5[2:4, 3] = 2\n",
    "zeros_arr_5x5[2:4, 3] = 2\n",
    "zeros_arr_5x5[4, 1:3] = 3\n",
    "zeros_arr_5x5[2, -1] = 4\n",
    "zeros_arr_5x5[2, 0] = 4\n",
    "conv_table5x5"
   ]
  },
  {
   "cell_type": "markdown",
   "id": "combined-basis",
   "metadata": {},
   "source": [
    "Use this table for conversion"
   ]
  },
  {
   "cell_type": "code",
   "execution_count": 542,
   "id": "compound-section",
   "metadata": {},
   "outputs": [
    {
     "data": {
      "text/plain": [
       "array([[2.0, 2.0, 0.0, 2.0, 2.0, 0.0, 2.0],\n",
       "       [2.0, 0.0, 2.0, 2.0, 0.0, 2.0, 2.0],\n",
       "       [0.0, 2.0, 2.0, 0.0, 2.0, 2.0, 0.0],\n",
       "       [2.0, 2.0, 0.0, 2.0, 2.0, 0.0, 2.0],\n",
       "       [2.0, 0.0, 2.0, 2.0, 0.0, 2.0, 2.0]], dtype=object)"
      ]
     },
     "execution_count": 542,
     "metadata": {},
     "output_type": "execute_result"
    }
   ],
   "source": [
    "def apply_conv_table5x5(y, x):\n",
    "    return conv_table5x5[y, x]\n",
    "\n",
    "uapply_conv_table5x5=np.frompyfunc(apply_conv_table5x5, 2, 1)\n",
    "\n",
    "uapply_conv_table5x5(fancy_mod3_7x5, three_arr)"
   ]
  },
  {
   "cell_type": "code",
   "execution_count": null,
   "id": "separate-montgomery",
   "metadata": {},
   "outputs": [],
   "source": []
  }
 ],
 "metadata": {
  "kernelspec": {
   "display_name": "Python 3",
   "language": "python",
   "name": "python3"
  },
  "language_info": {
   "codemirror_mode": {
    "name": "ipython",
    "version": 3
   },
   "file_extension": ".py",
   "mimetype": "text/x-python",
   "name": "python",
   "nbconvert_exporter": "python",
   "pygments_lexer": "ipython3",
   "version": "3.8.5"
  }
 },
 "nbformat": 4,
 "nbformat_minor": 5
}

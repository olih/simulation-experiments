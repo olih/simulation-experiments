{
 "cells": [
  {
   "cell_type": "code",
   "execution_count": null,
   "id": "complimentary-maker",
   "metadata": {},
   "outputs": [],
   "source": []
  },
  {
   "cell_type": "markdown",
   "id": "horizontal-discretion",
   "metadata": {},
   "source": [
    "# Numpy two dimensional arrays"
   ]
  },
  {
   "cell_type": "code",
   "execution_count": 150,
   "id": "careful-conducting",
   "metadata": {},
   "outputs": [],
   "source": [
    "import numpy as np"
   ]
  },
  {
   "cell_type": "markdown",
   "id": "round-community",
   "metadata": {},
   "source": [
    "## Common settings\n",
    "\n",
    "### Dimension tuple"
   ]
  },
  {
   "cell_type": "code",
   "execution_count": 151,
   "id": "regional-stations",
   "metadata": {},
   "outputs": [],
   "source": [
    "from collections import namedtuple\n",
    "\n",
    "Rect = namedtuple('Rect', 'height width')\n",
    "rect_7x5 = Rect(5, 7)\n",
    "rect_3x2 = Rect(2, 3)"
   ]
  },
  {
   "cell_type": "markdown",
   "id": "robust-birth",
   "metadata": {},
   "source": [
    "### Fills with zeros"
   ]
  },
  {
   "cell_type": "code",
   "execution_count": 152,
   "id": "adequate-maine",
   "metadata": {},
   "outputs": [
    {
     "data": {
      "text/plain": [
       "array([[0., 0., 0., 0., 0., 0., 0.],\n",
       "       [0., 0., 0., 0., 0., 0., 0.],\n",
       "       [0., 0., 0., 0., 0., 0., 0.],\n",
       "       [0., 0., 0., 0., 0., 0., 0.],\n",
       "       [0., 0., 0., 0., 0., 0., 0.]])"
      ]
     },
     "execution_count": 152,
     "metadata": {},
     "output_type": "execute_result"
    }
   ],
   "source": [
    "zeros_arr = np.zeros(rect_7x5)\n",
    "zeros_arr"
   ]
  },
  {
   "cell_type": "markdown",
   "id": "divine-penguin",
   "metadata": {},
   "source": [
    "### Fills with other (5)"
   ]
  },
  {
   "cell_type": "code",
   "execution_count": 153,
   "id": "vietnamese-clone",
   "metadata": {},
   "outputs": [
    {
     "data": {
      "text/plain": [
       "array([[5, 5, 5],\n",
       "       [5, 5, 5]])"
      ]
     },
     "execution_count": 153,
     "metadata": {},
     "output_type": "execute_result"
    }
   ],
   "source": [
    "np.full(rect_3x2, 5)"
   ]
  },
  {
   "cell_type": "code",
   "execution_count": 165,
   "id": "russian-stake",
   "metadata": {},
   "outputs": [],
   "source": [
    "ones_arr = np.ones(rect_7x5)\n",
    "two_arr = np.full(rect_7x5, 2)\n",
    "three_arr = np.full(rect_7x5, 3)"
   ]
  },
  {
   "cell_type": "markdown",
   "id": "forbidden-comfort",
   "metadata": {},
   "source": [
    "### Incremental range"
   ]
  },
  {
   "cell_type": "code",
   "execution_count": 155,
   "id": "following-costume",
   "metadata": {},
   "outputs": [
    {
     "data": {
      "text/plain": [
       "array([[ 0,  1,  2,  3,  4,  5,  6],\n",
       "       [ 7,  8,  9, 10, 11, 12, 13],\n",
       "       [14, 15, 16, 17, 18, 19, 20],\n",
       "       [21, 22, 23, 24, 25, 26, 27],\n",
       "       [28, 29, 30, 31, 32, 33, 34]])"
      ]
     },
     "execution_count": 155,
     "metadata": {},
     "output_type": "execute_result"
    }
   ],
   "source": [
    "incr_7x5 = np.arange(7*5).reshape(rect_7x5)\n",
    "incr_7x5"
   ]
  },
  {
   "cell_type": "code",
   "execution_count": 156,
   "id": "enormous-egypt",
   "metadata": {},
   "outputs": [
    {
     "data": {
      "text/plain": [
       "array([[35, 34, 33, 32, 31, 30, 29],\n",
       "       [28, 27, 26, 25, 24, 23, 22],\n",
       "       [21, 20, 19, 18, 17, 16, 15],\n",
       "       [14, 13, 12, 11, 10,  9,  8],\n",
       "       [ 7,  6,  5,  4,  3,  2,  1]])"
      ]
     },
     "execution_count": 156,
     "metadata": {},
     "output_type": "execute_result"
    }
   ],
   "source": [
    "decr_7x5 = np.arange(7*5,0, -1).reshape(rect_7x5)\n",
    "decr_7x5"
   ]
  },
  {
   "cell_type": "markdown",
   "id": "mature-model",
   "metadata": {},
   "source": [
    "### Fibonacci"
   ]
  },
  {
   "cell_type": "code",
   "execution_count": 157,
   "id": "listed-british",
   "metadata": {},
   "outputs": [
    {
     "data": {
      "text/plain": [
       "array([ 1.,  1.,  2.,  3.,  5.,  8., 13., 21., 34., 55.])"
      ]
     },
     "execution_count": 157,
     "metadata": {},
     "output_type": "execute_result"
    }
   ],
   "source": [
    "def fibonacci(n: int):\n",
    "    range_to_n = np.arange(1, n + 1)\n",
    "    length_range = len(range_to_n)\n",
    "    \n",
    "    # Binet Formula\n",
    "    sqrtFive = np.sqrt(5) \n",
    "    alpha = (1 + sqrtFive) / 2\n",
    "    beta = (1 - sqrtFive) / 2\n",
    "    return np.rint(((alpha ** range_to_n) - (beta ** range_to_n)) / (sqrtFive))\n",
    "\n",
    "\n",
    "fibonacci(10)\n",
    "    "
   ]
  },
  {
   "cell_type": "markdown",
   "id": "upset-little",
   "metadata": {},
   "source": [
    "## Generate value based on x, y"
   ]
  },
  {
   "cell_type": "markdown",
   "id": "indoor-escape",
   "metadata": {},
   "source": [
    "### Populate top row with 1"
   ]
  },
  {
   "cell_type": "code",
   "execution_count": 158,
   "id": "overall-republic",
   "metadata": {},
   "outputs": [
    {
     "data": {
      "text/plain": [
       "array([[1, 1, 1, 1, 1, 1, 1],\n",
       "       [0, 0, 0, 0, 0, 0, 0],\n",
       "       [0, 0, 0, 0, 0, 0, 0],\n",
       "       [0, 0, 0, 0, 0, 0, 0],\n",
       "       [0, 0, 0, 0, 0, 0, 0]])"
      ]
     },
     "execution_count": 158,
     "metadata": {},
     "output_type": "execute_result"
    }
   ],
   "source": [
    "def gen_for_y0(arr, dimension):\n",
    "    it = np.nditer(arr, flags=['multi_index'])\n",
    "    new_arr = np.array([1 if it.multi_index[0] == 0 else 0 for v in it]).reshape(dimension)\n",
    "    return new_arr\n",
    "\n",
    "gen_for_y0(zeros_arr, rect_7x5)    "
   ]
  },
  {
   "cell_type": "markdown",
   "id": "level-hollow",
   "metadata": {},
   "source": [
    "### Populate left column with 1"
   ]
  },
  {
   "cell_type": "code",
   "execution_count": 159,
   "id": "uniform-lottery",
   "metadata": {},
   "outputs": [
    {
     "data": {
      "text/plain": [
       "array([[1, 0, 0, 0, 0, 0, 0],\n",
       "       [1, 0, 0, 0, 0, 0, 0],\n",
       "       [1, 0, 0, 0, 0, 0, 0],\n",
       "       [1, 0, 0, 0, 0, 0, 0],\n",
       "       [1, 0, 0, 0, 0, 0, 0]])"
      ]
     },
     "execution_count": 159,
     "metadata": {},
     "output_type": "execute_result"
    }
   ],
   "source": [
    "def gen_for_x0(arr, dimension):\n",
    "    it = np.nditer(arr, flags=['multi_index'])\n",
    "    new_arr = np.array([1 if it.multi_index[1] == 0 else 0 for v in it]).reshape(dimension)\n",
    "    return new_arr\n",
    "\n",
    "gen_for_x0(zeros_arr, rect_7x5)    "
   ]
  },
  {
   "cell_type": "markdown",
   "id": "metallic-poster",
   "metadata": {},
   "source": [
    "### Populate bottom row with 1"
   ]
  },
  {
   "cell_type": "code",
   "execution_count": 160,
   "id": "greatest-alexandria",
   "metadata": {},
   "outputs": [
    {
     "data": {
      "text/plain": [
       "array([[0, 0, 0, 0, 0, 0, 0],\n",
       "       [0, 0, 0, 0, 0, 0, 0],\n",
       "       [0, 0, 0, 0, 0, 0, 0],\n",
       "       [0, 0, 0, 0, 0, 0, 0],\n",
       "       [1, 1, 1, 1, 1, 1, 1]])"
      ]
     },
     "execution_count": 160,
     "metadata": {},
     "output_type": "execute_result"
    }
   ],
   "source": [
    "def gen_for_ymax(arr, dimension):\n",
    "    it = np.nditer(arr, flags=['multi_index'])\n",
    "    new_arr = np.array([1 if it.multi_index[0] == dimension[0]-1 else 0 for v in it]).reshape(dimension)\n",
    "    return new_arr\n",
    "\n",
    "gen_for_ymax(zeros_arr, rect_7x5) "
   ]
  },
  {
   "cell_type": "markdown",
   "id": "accompanied-mumbai",
   "metadata": {},
   "source": [
    "### Populate right column with 1"
   ]
  },
  {
   "cell_type": "code",
   "execution_count": 161,
   "id": "decent-government",
   "metadata": {},
   "outputs": [
    {
     "data": {
      "text/plain": [
       "array([[0, 0, 0, 0, 0, 0, 1],\n",
       "       [0, 0, 0, 0, 0, 0, 1],\n",
       "       [0, 0, 0, 0, 0, 0, 1],\n",
       "       [0, 0, 0, 0, 0, 0, 1],\n",
       "       [0, 0, 0, 0, 0, 0, 1]])"
      ]
     },
     "execution_count": 161,
     "metadata": {},
     "output_type": "execute_result"
    }
   ],
   "source": [
    "def gen_for_xmax(arr, dimension):\n",
    "    it = np.nditer(arr, flags=['multi_index'])\n",
    "    new_arr = np.array([1 if it.multi_index[1] == dimension[1]-1 else 0 for v in it]).reshape(dimension)\n",
    "    return new_arr\n",
    "\n",
    "gen_for_xmax(zeros_arr, rect_7x5)    "
   ]
  },
  {
   "cell_type": "markdown",
   "id": "compact-timer",
   "metadata": {},
   "source": [
    "### Adds x and y"
   ]
  },
  {
   "cell_type": "code",
   "execution_count": 162,
   "id": "illegal-burning",
   "metadata": {},
   "outputs": [
    {
     "data": {
      "text/plain": [
       "array([[ 0,  1,  2,  3,  4,  5,  6],\n",
       "       [ 1,  2,  3,  4,  5,  6,  7],\n",
       "       [ 2,  3,  4,  5,  6,  7,  8],\n",
       "       [ 3,  4,  5,  6,  7,  8,  9],\n",
       "       [ 4,  5,  6,  7,  8,  9, 10]])"
      ]
     },
     "execution_count": 162,
     "metadata": {},
     "output_type": "execute_result"
    }
   ],
   "source": [
    "def for_xy(x, y, dimension):\n",
    "    return x + y\n",
    "\n",
    "def gen_for_xy(arr, dimension):\n",
    "    it = np.nditer(arr, flags=['multi_index'])\n",
    "    new_arr = np.array([for_xy(it.multi_index[1], it.multi_index[0], dimension)for v in it]).reshape(dimension)\n",
    "    return new_arr\n",
    "\n",
    "gen_for_xy(zeros_arr, rect_7x5)    "
   ]
  },
  {
   "cell_type": "markdown",
   "id": "material-valuation",
   "metadata": {},
   "source": [
    "### Adds x and y on top of previous value"
   ]
  },
  {
   "cell_type": "code",
   "execution_count": 163,
   "id": "studied-cause",
   "metadata": {},
   "outputs": [
    {
     "data": {
      "text/plain": [
       "array([[ 1,  2,  3,  4,  5,  6,  7],\n",
       "       [ 1,  2,  3,  4,  5,  6,  7],\n",
       "       [ 2,  3,  4,  5,  6,  7,  8],\n",
       "       [ 3,  4,  5,  6,  7,  8,  9],\n",
       "       [ 4,  5,  6,  7,  8,  9, 10]])"
      ]
     },
     "execution_count": 163,
     "metadata": {},
     "output_type": "execute_result"
    }
   ],
   "source": [
    "def for_xy_previous(x, y, previous, dimension):\n",
    "    return x + y + previous\n",
    "\n",
    "def gen_for_xy_previous(arr, dimension):\n",
    "    it = np.nditer(arr, flags=['multi_index'])\n",
    "    new_arr = np.array([for_xy_previous(it.multi_index[1], it.multi_index[0], v,  dimension)for v in it]).reshape(dimension)\n",
    "    return new_arr\n",
    "\n",
    "gen_for_xy_previous(gen_for_y0(zeros_arr, rect_7x5), rect_7x5)    "
   ]
  },
  {
   "cell_type": "markdown",
   "id": "attended-springfield",
   "metadata": {},
   "source": [
    "### Modify value based on immediate neighbour"
   ]
  },
  {
   "cell_type": "code",
   "execution_count": 164,
   "id": "compatible-nicholas",
   "metadata": {},
   "outputs": [
    {
     "name": "stdout",
     "output_type": "stream",
     "text": [
      "[[ 0  1  2  3  4  5  6]\n",
      " [ 7  8  9 10 11 12 13]\n",
      " [14 15 16 17 18 19 20]\n",
      " [21 22 23 24 25 26 27]\n",
      " [28 29 30 31 32 33 34]]\n"
     ]
    },
    {
     "data": {
      "text/plain": [
       "array([[ 0,  1,  2,  3,  4,  5,  6],\n",
       "       [ 7,  8, 10, 12, 14, 16, 13],\n",
       "       [14, 22, 24, 26, 28, 30, 20],\n",
       "       [21, 36, 38, 40, 42, 44, 27],\n",
       "       [28, 29, 30, 31, 32, 33, 34]])"
      ]
     },
     "execution_count": 164,
     "metadata": {},
     "output_type": "execute_result"
    }
   ],
   "source": [
    "def for_xy_3x3_local(x, y, threeByThree, dimension):\n",
    "    #Adds West + North\n",
    "    return threeByThree[0, -1] + threeByThree[1, 0]\n",
    "    \n",
    "def for_xy_3x3_strict(x, y, arr, dimension):\n",
    "    if y == 0 or y >= dimension[0]-1 or x == 0 or x >= dimension[1]-1:\n",
    "        # keep old value\n",
    "        return arr[y, x]\n",
    "    else:\n",
    "        return for_xy_3x3_local(x, y, arr[y-1:y+1, x-1:x+1], dimension)\n",
    "\n",
    "def gen_for_xy_3x3_strict(arr, dimension):\n",
    "    it = np.nditer(arr, flags=['multi_index'])\n",
    "    new_arr = np.array([for_xy_3x3_strict(it.multi_index[1], it.multi_index[0], arr,  dimension)for v in it]).reshape(dimension)\n",
    "    return new_arr\n",
    "\n",
    "print(incr_7x5)\n",
    "gen_for_xy_3x3_strict(incr_7x5, rect_7x5)  "
   ]
  },
  {
   "cell_type": "markdown",
   "id": "european-hierarchy",
   "metadata": {},
   "source": [
    "## Merge tables"
   ]
  },
  {
   "cell_type": "code",
   "execution_count": 166,
   "id": "forward-alliance",
   "metadata": {},
   "outputs": [
    {
     "data": {
      "text/plain": [
       "array([[3., 3., 3., 3., 3., 3., 3.],\n",
       "       [3., 3., 3., 3., 3., 3., 3.],\n",
       "       [3., 3., 3., 3., 3., 3., 3.],\n",
       "       [3., 3., 3., 3., 3., 3., 3.],\n",
       "       [3., 3., 3., 3., 3., 3., 3.]])"
      ]
     },
     "execution_count": 166,
     "metadata": {},
     "output_type": "execute_result"
    }
   ],
   "source": [
    "ones_arr+two_arr"
   ]
  },
  {
   "cell_type": "code",
   "execution_count": 167,
   "id": "natural-equity",
   "metadata": {},
   "outputs": [
    {
     "data": {
      "text/plain": [
       "array([[6, 6, 6, 6, 6, 6, 6],\n",
       "       [6, 6, 6, 6, 6, 6, 6],\n",
       "       [6, 6, 6, 6, 6, 6, 6],\n",
       "       [6, 6, 6, 6, 6, 6, 6],\n",
       "       [6, 6, 6, 6, 6, 6, 6]])"
      ]
     },
     "execution_count": 167,
     "metadata": {},
     "output_type": "execute_result"
    }
   ],
   "source": [
    "two_arr*three_arr"
   ]
  },
  {
   "cell_type": "code",
   "execution_count": null,
   "id": "extreme-occasion",
   "metadata": {},
   "outputs": [],
   "source": []
  }
 ],
 "metadata": {
  "kernelspec": {
   "display_name": "Python 3",
   "language": "python",
   "name": "python3"
  },
  "language_info": {
   "codemirror_mode": {
    "name": "ipython",
    "version": 3
   },
   "file_extension": ".py",
   "mimetype": "text/x-python",
   "name": "python",
   "nbconvert_exporter": "python",
   "pygments_lexer": "ipython3",
   "version": "3.8.5"
  }
 },
 "nbformat": 4,
 "nbformat_minor": 5
}

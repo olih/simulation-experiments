{
 "cells": [
  {
   "cell_type": "code",
   "execution_count": null,
   "id": "understood-client",
   "metadata": {},
   "outputs": [],
   "source": []
  },
  {
   "cell_type": "markdown",
   "id": "increasing-august",
   "metadata": {},
   "source": [
    "# Numpy two dimensional arrays"
   ]
  },
  {
   "cell_type": "code",
   "execution_count": 104,
   "id": "intensive-question",
   "metadata": {},
   "outputs": [],
   "source": [
    "import numpy as np"
   ]
  },
  {
   "cell_type": "markdown",
   "id": "noble-alcohol",
   "metadata": {},
   "source": [
    "## Common settings\n",
    "\n",
    "### Dimension tuple"
   ]
  },
  {
   "cell_type": "code",
   "execution_count": 105,
   "id": "billion-reflection",
   "metadata": {},
   "outputs": [],
   "source": [
    "from collections import namedtuple\n",
    "\n",
    "Rect = namedtuple('Rect', 'height width')\n",
    "rect_7x5 = Rect(5, 7)\n",
    "rect_3x2 = Rect(2, 3)"
   ]
  },
  {
   "cell_type": "markdown",
   "id": "studied-avenue",
   "metadata": {},
   "source": [
    "### Fills with zeros"
   ]
  },
  {
   "cell_type": "code",
   "execution_count": 106,
   "id": "descending-burton",
   "metadata": {},
   "outputs": [
    {
     "data": {
      "text/plain": [
       "array([[0., 0., 0., 0., 0., 0., 0.],\n",
       "       [0., 0., 0., 0., 0., 0., 0.],\n",
       "       [0., 0., 0., 0., 0., 0., 0.],\n",
       "       [0., 0., 0., 0., 0., 0., 0.],\n",
       "       [0., 0., 0., 0., 0., 0., 0.]])"
      ]
     },
     "execution_count": 106,
     "metadata": {},
     "output_type": "execute_result"
    }
   ],
   "source": [
    "zeros_arr = np.zeros(rect_7x5)\n",
    "zeros_arr"
   ]
  },
  {
   "cell_type": "markdown",
   "id": "unable-specification",
   "metadata": {},
   "source": [
    "### Fills with other (5)"
   ]
  },
  {
   "cell_type": "code",
   "execution_count": 107,
   "id": "expressed-ridge",
   "metadata": {},
   "outputs": [
    {
     "data": {
      "text/plain": [
       "array([[5, 5, 5],\n",
       "       [5, 5, 5]])"
      ]
     },
     "execution_count": 107,
     "metadata": {},
     "output_type": "execute_result"
    }
   ],
   "source": [
    "np.full(rect_3x2, 5)"
   ]
  },
  {
   "cell_type": "markdown",
   "id": "standard-hormone",
   "metadata": {},
   "source": [
    "### Incremental range"
   ]
  },
  {
   "cell_type": "code",
   "execution_count": 108,
   "id": "hairy-count",
   "metadata": {},
   "outputs": [
    {
     "data": {
      "text/plain": [
       "array([[ 0,  1,  2,  3,  4,  5,  6],\n",
       "       [ 7,  8,  9, 10, 11, 12, 13],\n",
       "       [14, 15, 16, 17, 18, 19, 20],\n",
       "       [21, 22, 23, 24, 25, 26, 27],\n",
       "       [28, 29, 30, 31, 32, 33, 34]])"
      ]
     },
     "execution_count": 108,
     "metadata": {},
     "output_type": "execute_result"
    }
   ],
   "source": [
    "incr_7x5 = np.arange(7*5).reshape(rect_7x5)\n",
    "incr_7x5"
   ]
  },
  {
   "cell_type": "markdown",
   "id": "surgical-cambodia",
   "metadata": {},
   "source": [
    "### Fibonacci"
   ]
  },
  {
   "cell_type": "code",
   "execution_count": 109,
   "id": "ancient-treatment",
   "metadata": {},
   "outputs": [
    {
     "data": {
      "text/plain": [
       "array([ 1.,  1.,  2.,  3.,  5.,  8., 13., 21., 34., 55.])"
      ]
     },
     "execution_count": 109,
     "metadata": {},
     "output_type": "execute_result"
    }
   ],
   "source": [
    "def fibonacci(n: int):\n",
    "    range_to_n = np.arange(1, n + 1)\n",
    "    length_range = len(range_to_n)\n",
    "    \n",
    "    # Binet Formula\n",
    "    sqrtFive = np.sqrt(5) \n",
    "    alpha = (1 + sqrtFive) / 2\n",
    "    beta = (1 - sqrtFive) / 2\n",
    "    return np.rint(((alpha ** range_to_n) - (beta ** range_to_n)) / (sqrtFive))\n",
    "\n",
    "\n",
    "fibonacci(10)\n",
    "    "
   ]
  },
  {
   "cell_type": "markdown",
   "id": "organic-plastic",
   "metadata": {},
   "source": [
    "## Generate value based on x, y"
   ]
  },
  {
   "cell_type": "code",
   "execution_count": 110,
   "id": "phantom-allen",
   "metadata": {},
   "outputs": [
    {
     "data": {
      "text/plain": [
       "array([[1, 1, 1, 1, 1, 1, 1],\n",
       "       [0, 0, 0, 0, 0, 0, 0],\n",
       "       [0, 0, 0, 0, 0, 0, 0],\n",
       "       [0, 0, 0, 0, 0, 0, 0],\n",
       "       [0, 0, 0, 0, 0, 0, 0]])"
      ]
     },
     "execution_count": 110,
     "metadata": {},
     "output_type": "execute_result"
    }
   ],
   "source": [
    "def gen_for_y0(arr, dimension):\n",
    "    it = np.nditer(arr, flags=['multi_index'])\n",
    "    new_arr = np.array([1 if it.multi_index[0] == 0 else 0 for v in it]).reshape(dimension)\n",
    "    return new_arr\n",
    "\n",
    "gen_for_y0(zeros_arr, rect_7x5)    "
   ]
  },
  {
   "cell_type": "code",
   "execution_count": 111,
   "id": "growing-sphere",
   "metadata": {},
   "outputs": [
    {
     "data": {
      "text/plain": [
       "array([[1, 0, 0, 0, 0, 0, 0],\n",
       "       [1, 0, 0, 0, 0, 0, 0],\n",
       "       [1, 0, 0, 0, 0, 0, 0],\n",
       "       [1, 0, 0, 0, 0, 0, 0],\n",
       "       [1, 0, 0, 0, 0, 0, 0]])"
      ]
     },
     "execution_count": 111,
     "metadata": {},
     "output_type": "execute_result"
    }
   ],
   "source": [
    "def gen_for_x0(arr, dimension):\n",
    "    it = np.nditer(arr, flags=['multi_index'])\n",
    "    new_arr = np.array([1 if it.multi_index[1] == 0 else 0 for v in it]).reshape(dimension)\n",
    "    return new_arr\n",
    "\n",
    "gen_for_x0(zeros_arr, rect_7x5)    "
   ]
  },
  {
   "cell_type": "code",
   "execution_count": 112,
   "id": "twenty-characteristic",
   "metadata": {},
   "outputs": [
    {
     "data": {
      "text/plain": [
       "array([[0, 0, 0, 0, 0, 0, 0],\n",
       "       [0, 0, 0, 0, 0, 0, 0],\n",
       "       [0, 0, 0, 0, 0, 0, 0],\n",
       "       [0, 0, 0, 0, 0, 0, 0],\n",
       "       [1, 1, 1, 1, 1, 1, 1]])"
      ]
     },
     "execution_count": 112,
     "metadata": {},
     "output_type": "execute_result"
    }
   ],
   "source": [
    "def gen_for_ymax(arr, dimension):\n",
    "    it = np.nditer(arr, flags=['multi_index'])\n",
    "    new_arr = np.array([1 if it.multi_index[0] == dimension[0]-1 else 0 for v in it]).reshape(dimension)\n",
    "    return new_arr\n",
    "\n",
    "gen_for_ymax(zeros_arr, rect_7x5) "
   ]
  },
  {
   "cell_type": "code",
   "execution_count": 113,
   "id": "international-preliminary",
   "metadata": {},
   "outputs": [
    {
     "data": {
      "text/plain": [
       "array([[0, 0, 0, 0, 0, 0, 1],\n",
       "       [0, 0, 0, 0, 0, 0, 1],\n",
       "       [0, 0, 0, 0, 0, 0, 1],\n",
       "       [0, 0, 0, 0, 0, 0, 1],\n",
       "       [0, 0, 0, 0, 0, 0, 1]])"
      ]
     },
     "execution_count": 113,
     "metadata": {},
     "output_type": "execute_result"
    }
   ],
   "source": [
    "def gen_for_xmax(arr, dimension):\n",
    "    it = np.nditer(arr, flags=['multi_index'])\n",
    "    new_arr = np.array([1 if it.multi_index[1] == dimension[1]-1 else 0 for v in it]).reshape(dimension)\n",
    "    return new_arr\n",
    "\n",
    "gen_for_xmax(zeros_arr, rect_7x5)    "
   ]
  },
  {
   "cell_type": "code",
   "execution_count": 114,
   "id": "southeast-concord",
   "metadata": {},
   "outputs": [
    {
     "data": {
      "text/plain": [
       "array([[ 0,  1,  2,  3,  4,  5,  6],\n",
       "       [ 1,  2,  3,  4,  5,  6,  7],\n",
       "       [ 2,  3,  4,  5,  6,  7,  8],\n",
       "       [ 3,  4,  5,  6,  7,  8,  9],\n",
       "       [ 4,  5,  6,  7,  8,  9, 10]])"
      ]
     },
     "execution_count": 114,
     "metadata": {},
     "output_type": "execute_result"
    }
   ],
   "source": [
    "def for_xy(x, y, dimension):\n",
    "    return x + y\n",
    "\n",
    "def gen_for_xy(arr, dimension):\n",
    "    it = np.nditer(arr, flags=['multi_index'])\n",
    "    new_arr = np.array([for_xy(it.multi_index[1], it.multi_index[0], dimension)for v in it]).reshape(dimension)\n",
    "    return new_arr\n",
    "\n",
    "gen_for_xy(zeros_arr, rect_7x5)    "
   ]
  },
  {
   "cell_type": "code",
   "execution_count": 115,
   "id": "dutch-hepatitis",
   "metadata": {},
   "outputs": [
    {
     "data": {
      "text/plain": [
       "array([[ 1,  2,  3,  4,  5,  6,  7],\n",
       "       [ 1,  2,  3,  4,  5,  6,  7],\n",
       "       [ 2,  3,  4,  5,  6,  7,  8],\n",
       "       [ 3,  4,  5,  6,  7,  8,  9],\n",
       "       [ 4,  5,  6,  7,  8,  9, 10]])"
      ]
     },
     "execution_count": 115,
     "metadata": {},
     "output_type": "execute_result"
    }
   ],
   "source": [
    "def for_xy_previous(x, y, previous, dimension):\n",
    "    return x + y + previous\n",
    "\n",
    "def gen_for_xy_previous(arr, dimension):\n",
    "    it = np.nditer(arr, flags=['multi_index'])\n",
    "    new_arr = np.array([for_xy_previous(it.multi_index[1], it.multi_index[0], v,  dimension)for v in it]).reshape(dimension)\n",
    "    return new_arr\n",
    "\n",
    "gen_for_xy_previous(gen_for_y0(zeros_arr, rect_7x5), rect_7x5)    "
   ]
  },
  {
   "cell_type": "code",
   "execution_count": 116,
   "id": "desperate-equilibrium",
   "metadata": {},
   "outputs": [
    {
     "name": "stdout",
     "output_type": "stream",
     "text": [
      "[[ 0  1  2  3  4  5  6]\n",
      " [ 7  8  9 10 11 12 13]\n",
      " [14 15 16 17 18 19 20]\n",
      " [21 22 23 24 25 26 27]\n",
      " [28 29 30 31 32 33 34]]\n"
     ]
    },
    {
     "data": {
      "text/plain": [
       "array([[ 0,  1,  2,  3,  4,  5,  6],\n",
       "       [ 7,  8, 10, 12, 14, 16, 13],\n",
       "       [14, 22, 24, 26, 28, 30, 20],\n",
       "       [21, 36, 38, 40, 42, 44, 27],\n",
       "       [28, 29, 30, 31, 32, 33, 34]])"
      ]
     },
     "execution_count": 116,
     "metadata": {},
     "output_type": "execute_result"
    }
   ],
   "source": [
    "def for_xy_3x3_local(x, y, threeByThree, dimension):\n",
    "    #Adds West + North\n",
    "    return threeByThree[0, -1] + threeByThree[1, 0]\n",
    "    \n",
    "def for_xy_3x3_strict(x, y, arr, dimension):\n",
    "    if y == 0 or y >= dimension[0]-1 or x == 0 or x >= dimension[1]-1:\n",
    "        # keep old value\n",
    "        return arr[y, x]\n",
    "    else:\n",
    "        return for_xy_3x3_local(x, y, arr[y-1:y+1, x-1:x+1], dimension)\n",
    "\n",
    "def gen_for_xy_3x3_strict(arr, dimension):\n",
    "    it = np.nditer(arr, flags=['multi_index'])\n",
    "    new_arr = np.array([for_xy_3x3_strict(it.multi_index[1], it.multi_index[0], arr,  dimension)for v in it]).reshape(dimension)\n",
    "    return new_arr\n",
    "\n",
    "print(incr_7x5)\n",
    "gen_for_xy_3x3_strict(incr_7x5, rect_7x5)  "
   ]
  },
  {
   "cell_type": "code",
   "execution_count": null,
   "id": "portuguese-controversy",
   "metadata": {},
   "outputs": [],
   "source": []
  },
  {
   "cell_type": "code",
   "execution_count": null,
   "id": "covered-memorabilia",
   "metadata": {},
   "outputs": [],
   "source": []
  }
 ],
 "metadata": {
  "kernelspec": {
   "display_name": "Python 3",
   "language": "python",
   "name": "python3"
  },
  "language_info": {
   "codemirror_mode": {
    "name": "ipython",
    "version": 3
   },
   "file_extension": ".py",
   "mimetype": "text/x-python",
   "name": "python",
   "nbconvert_exporter": "python",
   "pygments_lexer": "ipython3",
   "version": "3.8.5"
  }
 },
 "nbformat": 4,
 "nbformat_minor": 5
}

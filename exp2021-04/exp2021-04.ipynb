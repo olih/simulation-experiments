{
 "cells": [
  {
   "cell_type": "code",
   "execution_count": null,
   "id": "specific-gospel",
   "metadata": {},
   "outputs": [],
   "source": []
  },
  {
   "cell_type": "markdown",
   "id": "central-credits",
   "metadata": {},
   "source": [
    "# Numpy two dimensional arrays"
   ]
  },
  {
   "cell_type": "code",
   "execution_count": 51,
   "id": "specified-tomorrow",
   "metadata": {},
   "outputs": [],
   "source": [
    "import numpy as np"
   ]
  },
  {
   "cell_type": "markdown",
   "id": "functioning-dayton",
   "metadata": {},
   "source": [
    "## Common settings\n",
    "\n",
    "### Dimension tuple"
   ]
  },
  {
   "cell_type": "code",
   "execution_count": 52,
   "id": "fancy-feelings",
   "metadata": {},
   "outputs": [],
   "source": [
    "from collections import namedtuple\n",
    "\n",
    "Rect = namedtuple('Rect', 'height width')\n",
    "rect_7x5 = Rect(5, 7)\n",
    "rect_3x2 = Rect(2, 3)"
   ]
  },
  {
   "cell_type": "markdown",
   "id": "dental-purse",
   "metadata": {},
   "source": [
    "### Fills with zeros"
   ]
  },
  {
   "cell_type": "code",
   "execution_count": 53,
   "id": "velvet-sight",
   "metadata": {},
   "outputs": [
    {
     "data": {
      "text/plain": [
       "array([[0., 0., 0., 0., 0., 0., 0.],\n",
       "       [0., 0., 0., 0., 0., 0., 0.],\n",
       "       [0., 0., 0., 0., 0., 0., 0.],\n",
       "       [0., 0., 0., 0., 0., 0., 0.],\n",
       "       [0., 0., 0., 0., 0., 0., 0.]])"
      ]
     },
     "execution_count": 53,
     "metadata": {},
     "output_type": "execute_result"
    }
   ],
   "source": [
    "zeros_arr = np.zeros(rect_7x5)\n",
    "zeros_arr"
   ]
  },
  {
   "cell_type": "markdown",
   "id": "corresponding-spring",
   "metadata": {},
   "source": [
    "### Fills with other (5)"
   ]
  },
  {
   "cell_type": "code",
   "execution_count": 54,
   "id": "unlike-drama",
   "metadata": {},
   "outputs": [
    {
     "data": {
      "text/plain": [
       "array([[5, 5, 5],\n",
       "       [5, 5, 5]])"
      ]
     },
     "execution_count": 54,
     "metadata": {},
     "output_type": "execute_result"
    }
   ],
   "source": [
    "np.full(rect_3x2, 5)"
   ]
  },
  {
   "cell_type": "markdown",
   "id": "resident-hawaii",
   "metadata": {},
   "source": [
    "## Generate value based on x, y"
   ]
  },
  {
   "cell_type": "code",
   "execution_count": 55,
   "id": "above-minority",
   "metadata": {},
   "outputs": [
    {
     "data": {
      "text/plain": [
       "array([[1, 1, 1, 1, 1, 1, 1],\n",
       "       [0, 0, 0, 0, 0, 0, 0],\n",
       "       [0, 0, 0, 0, 0, 0, 0],\n",
       "       [0, 0, 0, 0, 0, 0, 0],\n",
       "       [0, 0, 0, 0, 0, 0, 0]])"
      ]
     },
     "execution_count": 55,
     "metadata": {},
     "output_type": "execute_result"
    }
   ],
   "source": [
    "def gen_for_y0(arr, dimension):\n",
    "    it = np.nditer(arr, flags=['multi_index'])\n",
    "    new_arr = np.array([1 if it.multi_index[0] == 0 else 0 for v in it]).reshape(dimension)\n",
    "    return new_arr\n",
    "\n",
    "gen_for_y0(zeros_arr, rect_7x5)    "
   ]
  },
  {
   "cell_type": "code",
   "execution_count": 56,
   "id": "private-kazakhstan",
   "metadata": {},
   "outputs": [
    {
     "data": {
      "text/plain": [
       "array([[1, 0, 0, 0, 0, 0, 0],\n",
       "       [1, 0, 0, 0, 0, 0, 0],\n",
       "       [1, 0, 0, 0, 0, 0, 0],\n",
       "       [1, 0, 0, 0, 0, 0, 0],\n",
       "       [1, 0, 0, 0, 0, 0, 0]])"
      ]
     },
     "execution_count": 56,
     "metadata": {},
     "output_type": "execute_result"
    }
   ],
   "source": [
    "def gen_for_x0(arr, dimension):\n",
    "    it = np.nditer(arr, flags=['multi_index'])\n",
    "    new_arr = np.array([1 if it.multi_index[1] == 0 else 0 for v in it]).reshape(dimension)\n",
    "    return new_arr\n",
    "\n",
    "gen_for_x0(zeros_arr, rect_7x5)    "
   ]
  },
  {
   "cell_type": "code",
   "execution_count": 57,
   "id": "external-delicious",
   "metadata": {},
   "outputs": [
    {
     "data": {
      "text/plain": [
       "array([[0, 0, 0, 0, 0, 0, 0],\n",
       "       [0, 0, 0, 0, 0, 0, 0],\n",
       "       [0, 0, 0, 0, 0, 0, 0],\n",
       "       [0, 0, 0, 0, 0, 0, 0],\n",
       "       [1, 1, 1, 1, 1, 1, 1]])"
      ]
     },
     "execution_count": 57,
     "metadata": {},
     "output_type": "execute_result"
    }
   ],
   "source": [
    "def gen_for_ymax(arr, dimension):\n",
    "    it = np.nditer(arr, flags=['multi_index'])\n",
    "    new_arr = np.array([1 if it.multi_index[0] == dimension[0]-1 else 0 for v in it]).reshape(dimension)\n",
    "    return new_arr\n",
    "\n",
    "gen_for_ymax(zeros_arr, rect_7x5) "
   ]
  },
  {
   "cell_type": "code",
   "execution_count": 58,
   "id": "played-fisher",
   "metadata": {},
   "outputs": [
    {
     "data": {
      "text/plain": [
       "array([[0, 0, 0, 0, 0, 0, 1],\n",
       "       [0, 0, 0, 0, 0, 0, 1],\n",
       "       [0, 0, 0, 0, 0, 0, 1],\n",
       "       [0, 0, 0, 0, 0, 0, 1],\n",
       "       [0, 0, 0, 0, 0, 0, 1]])"
      ]
     },
     "execution_count": 58,
     "metadata": {},
     "output_type": "execute_result"
    }
   ],
   "source": [
    "def gen_for_xmax(arr, dimension):\n",
    "    it = np.nditer(arr, flags=['multi_index'])\n",
    "    new_arr = np.array([1 if it.multi_index[1] == dimension[1]-1 else 0 for v in it]).reshape(dimension)\n",
    "    return new_arr\n",
    "\n",
    "gen_for_xmax(zeros_arr, rect_7x5)    "
   ]
  },
  {
   "cell_type": "code",
   "execution_count": 59,
   "id": "portable-offering",
   "metadata": {},
   "outputs": [
    {
     "data": {
      "text/plain": [
       "array([[ 0,  1,  2,  3,  4,  5,  6],\n",
       "       [ 1,  2,  3,  4,  5,  6,  7],\n",
       "       [ 2,  3,  4,  5,  6,  7,  8],\n",
       "       [ 3,  4,  5,  6,  7,  8,  9],\n",
       "       [ 4,  5,  6,  7,  8,  9, 10]])"
      ]
     },
     "execution_count": 59,
     "metadata": {},
     "output_type": "execute_result"
    }
   ],
   "source": [
    "def for_xy(x, y, dimension):\n",
    "    return x + y\n",
    "\n",
    "def gen_for_xy(arr, dimension):\n",
    "    it = np.nditer(arr, flags=['multi_index'])\n",
    "    new_arr = np.array([for_xy(it.multi_index[1], it.multi_index[0], dimension)for v in it]).reshape(dimension)\n",
    "    return new_arr\n",
    "\n",
    "gen_for_xy(zeros_arr, rect_7x5)    "
   ]
  },
  {
   "cell_type": "code",
   "execution_count": 60,
   "id": "accredited-numbers",
   "metadata": {},
   "outputs": [
    {
     "data": {
      "text/plain": [
       "array([[ 1,  2,  3,  4,  5,  6,  7],\n",
       "       [ 1,  2,  3,  4,  5,  6,  7],\n",
       "       [ 2,  3,  4,  5,  6,  7,  8],\n",
       "       [ 3,  4,  5,  6,  7,  8,  9],\n",
       "       [ 4,  5,  6,  7,  8,  9, 10]])"
      ]
     },
     "execution_count": 60,
     "metadata": {},
     "output_type": "execute_result"
    }
   ],
   "source": [
    "def for_xy_previous(x, y, previous, dimension):\n",
    "    return x + y + previous\n",
    "\n",
    "def gen_for_xy_previous(arr, dimension):\n",
    "    it = np.nditer(arr, flags=['multi_index'])\n",
    "    new_arr = np.array([for_xy_previous(it.multi_index[1], it.multi_index[0], v,  dimension)for v in it]).reshape(dimension)\n",
    "    return new_arr\n",
    "\n",
    "gen_for_xy_previous(gen_for_y0(zeros_arr, rect_7x5), rect_7x5)    "
   ]
  },
  {
   "cell_type": "code",
   "execution_count": 61,
   "id": "promotional-draft",
   "metadata": {},
   "outputs": [],
   "source": [
    "def for_xy_3x3_local(x, y, threeByThree, dimension):\n",
    "    return threeByThree[0, -1] + threeByThree[1, 0]\n",
    "    \n",
    "def for_xy_3x3_strict(x, y, arr, dimension):\n",
    "    if y == 0 or y >= dimension[0]-1 or x == 0 or x >= dimension[1]-1:\n",
    "        return 0\n",
    "    else:\n",
    "        return arr[x, y]\n",
    "#         return for_xy_3x3_local(x, y, arr[y-1:y+1, x-1:x+1], dimension)\n",
    "\n",
    "def gen_for_xy_3x3_strict(arr, dimension):\n",
    "    it = np.nditer(arr, flags=['multi_index'])\n",
    "    new_arr = np.array([for_xy_3x3_strict(it.multi_index[1], it.multi_index[0], arr,  dimension)for v in it]).reshape(dimension)\n",
    "    return new_arr\n",
    "\n",
    "# gen_for_xy_3x3_strict(gen_for_y0(zeros_arr, rect_7x5), rect_7x5)  "
   ]
  },
  {
   "cell_type": "code",
   "execution_count": null,
   "id": "criminal-peter",
   "metadata": {},
   "outputs": [],
   "source": []
  }
 ],
 "metadata": {
  "kernelspec": {
   "display_name": "Python 3",
   "language": "python",
   "name": "python3"
  },
  "language_info": {
   "codemirror_mode": {
    "name": "ipython",
    "version": 3
   },
   "file_extension": ".py",
   "mimetype": "text/x-python",
   "name": "python",
   "nbconvert_exporter": "python",
   "pygments_lexer": "ipython3",
   "version": "3.8.5"
  }
 },
 "nbformat": 4,
 "nbformat_minor": 5
}

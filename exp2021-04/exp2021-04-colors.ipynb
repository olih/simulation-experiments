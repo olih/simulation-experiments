{
 "cells": [
  {
   "cell_type": "markdown",
   "id": "altered-owner",
   "metadata": {},
   "source": [
    "# Colors and numpy"
   ]
  },
  {
   "cell_type": "code",
   "execution_count": 3,
   "id": "domestic-canada",
   "metadata": {},
   "outputs": [
    {
     "name": "stdout",
     "output_type": "stream",
     "text": [
      "Pillow Version: 8.1.0\n"
     ]
    }
   ],
   "source": [
    "from typing import List\n",
    "import PIL\n",
    "from PIL import Image\n",
    "print('Pillow Version:', PIL.__version__)\n",
    "import numpy as np"
   ]
  },
  {
   "cell_type": "markdown",
   "id": "spectacular-neighborhood",
   "metadata": {},
   "source": [
    "## Utilities\n",
    "\n",
    "Utility class to write and display a palette of colors"
   ]
  },
  {
   "cell_type": "code",
   "execution_count": 29,
   "id": "consecutive-indian",
   "metadata": {},
   "outputs": [],
   "source": [
    "\n",
    "class PaletteWriter:\n",
    "    def __init__(self, name: str):\n",
    "        self.name = name\n",
    "        self.colors = []\n",
    "        \n",
    "    def set_colors(self, colors: List):\n",
    "        # Palette would be provided as [(R, G, B), ..]\n",
    "        self.colors = colors\n",
    "        return self\n",
    "            \n",
    "    def _create_image(self):\n",
    "        number_of_colors = len(self.colors)\n",
    "        block_size_pix = 50\n",
    "        pixels = np.zeros((block_size_pix, number_of_colors*block_size_pix, 3)).astype(np.uint8)\n",
    "        for i in range(number_of_colors):\n",
    "            pixels[0:block_size_pix, i*block_size_pix:(i+1)*block_size_pix] = self.colors[i]\n",
    "        new_img = Image.fromarray(pixels)\n",
    "        return new_img\n",
    "    \n",
    "    def save(self):\n",
    "        self._create_image().save(f\"palette-{self.name}.png\")\n",
    "    \n",
    "    def show(self):\n",
    "        return self._create_image()"
   ]
  },
  {
   "cell_type": "code",
   "execution_count": 31,
   "id": "actual-episode",
   "metadata": {},
   "outputs": [
    {
     "data": {
      "image/png": "[encoded data removed]",
      "text/plain": [
       "<PIL.Image.Image image mode=RGB size=150x50 at 0x7F894BC59160>"
      ]
     },
     "execution_count": 31,
     "metadata": {},
     "output_type": "execute_result"
    }
   ],
   "source": [
    "PaletteWriter(\"white-grey-black\").set_colors([(255, 255, 255), (85, 86, 87), (0, 0, 0)]).show()"
   ]
  },
  {
   "cell_type": "code",
   "execution_count": null,
   "id": "aging-pillow",
   "metadata": {},
   "outputs": [],
   "source": []
  },
  {
   "cell_type": "code",
   "execution_count": null,
   "id": "entertaining-activity",
   "metadata": {},
   "outputs": [],
   "source": []
  }
 ],
 "metadata": {
  "kernelspec": {
   "display_name": "Python 3",
   "language": "python",
   "name": "python3"
  },
  "language_info": {
   "codemirror_mode": {
    "name": "ipython",
    "version": 3
   },
   "file_extension": ".py",
   "mimetype": "text/x-python",
   "name": "python",
   "nbconvert_exporter": "python",
   "pygments_lexer": "ipython3",
   "version": "3.8.5"
  }
 },
 "nbformat": 4,
 "nbformat_minor": 5
}

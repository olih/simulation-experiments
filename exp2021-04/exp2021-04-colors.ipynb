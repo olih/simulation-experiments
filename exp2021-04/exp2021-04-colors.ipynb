{
 "cells": [
  {
   "cell_type": "markdown",
   "id": "tired-giant",
   "metadata": {},
   "source": [
    "# Colors and numpy"
   ]
  },
  {
   "cell_type": "code",
   "execution_count": 72,
   "id": "alive-copyright",
   "metadata": {},
   "outputs": [
    {
     "name": "stdout",
     "output_type": "stream",
     "text": [
      "Pillow Version: 8.1.0\n"
     ]
    }
   ],
   "source": [
    "from typing import List\n",
    "import PIL\n",
    "from PIL import Image\n",
    "print('Pillow Version:', PIL.__version__)\n",
    "import numpy as np"
   ]
  },
  {
   "cell_type": "markdown",
   "id": "beginning-punishment",
   "metadata": {},
   "source": [
    "## Utilities\n",
    "\n",
    "Utility class to write and display a palette of colors"
   ]
  },
  {
   "cell_type": "code",
   "execution_count": 73,
   "id": "collaborative-basic",
   "metadata": {},
   "outputs": [],
   "source": [
    "\n",
    "class PaletteWriter:\n",
    "    def __init__(self, name: str):\n",
    "        self.name = name\n",
    "        self.colors = []\n",
    "        \n",
    "    def set_colors(self, colors: List):\n",
    "        # Palette would be provided as [(R, G, B), ..]\n",
    "        self.colors = colors\n",
    "        return self\n",
    "            \n",
    "    def _create_image(self):\n",
    "        number_of_colors = len(self.colors)\n",
    "        block_size_pix = 50\n",
    "        pixels = np.zeros((block_size_pix, number_of_colors*block_size_pix, 3)).astype(np.uint8)\n",
    "        for i in range(number_of_colors):\n",
    "            pixels[0:block_size_pix, i*block_size_pix:(i+1)*block_size_pix] = self.colors[i]\n",
    "        new_img = Image.fromarray(pixels)\n",
    "        return new_img\n",
    "    \n",
    "    def save(self):\n",
    "        self._create_image().save(f\"palette-{self.name}.png\")\n",
    "    \n",
    "    def show(self):\n",
    "        return self._create_image()"
   ]
  },
  {
   "cell_type": "code",
   "execution_count": 74,
   "id": "crucial-standard",
   "metadata": {},
   "outputs": [
    {
     "data": {
      "image/png": "[encoded data removed]",
      "text/plain": [
       "<PIL.Image.Image image mode=RGB size=150x50 at 0x7F894C28ED60>"
      ]
     },
     "execution_count": 74,
     "metadata": {},
     "output_type": "execute_result"
    }
   ],
   "source": [
    "PaletteWriter(\"white-grey-black\").set_colors([(255, 255, 255), (85, 86, 87), (0, 0, 0)]).show()"
   ]
  },
  {
   "cell_type": "markdown",
   "id": "surgical-pizza",
   "metadata": {},
   "source": [
    "### Lightness\n",
    "\n",
    "See (HSL, HSV, and HSI)(https://en.wikipedia.org/wiki/HSL_and_HSV_"
   ]
  },
  {
   "cell_type": "markdown",
   "id": "settled-arrest",
   "metadata": {},
   "source": [
    "#### Intensity\n",
    "\n",
    "Average of the three color components"
   ]
  },
  {
   "cell_type": "code",
   "execution_count": 75,
   "id": "orange-skiing",
   "metadata": {},
   "outputs": [],
   "source": [
    "def intensity(rgb):\n",
    "    r, g, b = rgb\n",
    "    return int((1/3)*(r+g+b))"
   ]
  },
  {
   "cell_type": "code",
   "execution_count": 76,
   "id": "filled-moses",
   "metadata": {},
   "outputs": [
    {
     "data": {
      "text/plain": [
       "86"
      ]
     },
     "execution_count": 76,
     "metadata": {},
     "output_type": "execute_result"
    }
   ],
   "source": [
    "intensity((85, 86, 87))"
   ]
  },
  {
   "cell_type": "markdown",
   "id": "weighted-chester",
   "metadata": {},
   "source": [
    "#### Value\n",
    "\n",
    "Largest component of a color"
   ]
  },
  {
   "cell_type": "code",
   "execution_count": 77,
   "id": "stainless-information",
   "metadata": {},
   "outputs": [],
   "source": [
    "def max_value(rgb):\n",
    "    r, g, b = rgb\n",
    "    return max(r, g, b)"
   ]
  },
  {
   "cell_type": "code",
   "execution_count": 78,
   "id": "legal-maker",
   "metadata": {},
   "outputs": [
    {
     "data": {
      "text/plain": [
       "100"
      ]
     },
     "execution_count": 78,
     "metadata": {},
     "output_type": "execute_result"
    }
   ],
   "source": [
    "max_value((100, 86, 87))"
   ]
  },
  {
   "cell_type": "markdown",
   "id": "automated-tablet",
   "metadata": {},
   "source": [
    "#### Lightness\n",
    "\n",
    "Average of the largest and smallest components of color."
   ]
  },
  {
   "cell_type": "code",
   "execution_count": 79,
   "id": "clear-shore",
   "metadata": {},
   "outputs": [],
   "source": [
    "def lightness(rgb):\n",
    "    r, g, b = rgb\n",
    "    return int((max(r, g, b) + min(r, g, b))/2)"
   ]
  },
  {
   "cell_type": "code",
   "execution_count": 80,
   "id": "further-characteristic",
   "metadata": {},
   "outputs": [
    {
     "data": {
      "text/plain": [
       "93"
      ]
     },
     "execution_count": 80,
     "metadata": {},
     "output_type": "execute_result"
    }
   ],
   "source": [
    "lightness((100, 86, 87))"
   ]
  },
  {
   "cell_type": "markdown",
   "id": "conventional-cheat",
   "metadata": {},
   "source": [
    "#### Luma\n",
    "\n",
    "Weighted average of gamma-corrected R, G, and B, based on their contribution to perceived lightness.\n",
    "\n",
    "Green will have the most weight while Blue the less."
   ]
  },
  {
   "cell_type": "code",
   "execution_count": 81,
   "id": "modular-monaco",
   "metadata": {},
   "outputs": [],
   "source": [
    " def luma(rgb):\n",
    "    r, g, b = rgb\n",
    "    kr, kg, kb = (0.2627, 0.6780, 0.0593) # (UHDTV, HDR)\n",
    "    return int(kr*r+kg*g+kb*b)"
   ]
  },
  {
   "cell_type": "code",
   "execution_count": 82,
   "id": "active-experience",
   "metadata": {},
   "outputs": [
    {
     "data": {
      "text/plain": [
       "89"
      ]
     },
     "execution_count": 82,
     "metadata": {},
     "output_type": "execute_result"
    }
   ],
   "source": [
    "luma((100, 86, 87))"
   ]
  },
  {
   "cell_type": "markdown",
   "id": "saved-breed",
   "metadata": {},
   "source": [
    "### Chroma\n",
    "\n",
    "The colorfulness relative to the brightness\n",
    "\n",
    "The range of the color components"
   ]
  },
  {
   "cell_type": "code",
   "execution_count": 83,
   "id": "decent-obligation",
   "metadata": {},
   "outputs": [],
   "source": [
    "def chroma(rgb):\n",
    "    r, g, b = rgb\n",
    "    return int(max(r, g, b) - min(r, g, b))"
   ]
  },
  {
   "cell_type": "code",
   "execution_count": 84,
   "id": "civil-episode",
   "metadata": {},
   "outputs": [
    {
     "data": {
      "text/plain": [
       "14"
      ]
     },
     "execution_count": 84,
     "metadata": {},
     "output_type": "execute_result"
    }
   ],
   "source": [
    "chroma((100, 86, 87))"
   ]
  },
  {
   "cell_type": "markdown",
   "id": "conditional-camera",
   "metadata": {},
   "source": [
    "#### Hue\n",
    "\n",
    "The attribute of a visual sensation.\n",
    "\n",
    "The hue is typically measured in degrees [0°, 360°].\n",
    "\n",
    "If Red is dominant, this is the range between Green and Blue modulo 6\n",
    "If Green is dominant, this is the range between Blue and Red plus 2\n",
    "If Blue is dominant, this is the range between Red and Green plus 4"
   ]
  },
  {
   "cell_type": "code",
   "execution_count": 85,
   "id": "beneficial-reporter",
   "metadata": {},
   "outputs": [],
   "source": [
    "def hue_ratio(rgb):\n",
    "    r, g, b = rgb\n",
    "    mx = max(r, g, b)\n",
    "    c = chroma(rgb)\n",
    "    if c == 0:\n",
    "        return 0\n",
    "    elif mx == r:\n",
    "        return ((g-b)/c % 6)\n",
    "    elif  mx == g:\n",
    "        return (b-r)/c + 2\n",
    "    elif mx== b:\n",
    "        (r-g)/c + 4\n",
    "        \n",
    "def hue(rgb):\n",
    "    return int(60*hue_ratio(rgb))"
   ]
  },
  {
   "cell_type": "code",
   "execution_count": 86,
   "id": "brown-paint",
   "metadata": {},
   "outputs": [
    {
     "data": {
      "text/plain": [
       "355"
      ]
     },
     "execution_count": 86,
     "metadata": {},
     "output_type": "execute_result"
    }
   ],
   "source": [
    "hue((100, 86, 87))"
   ]
  },
  {
   "cell_type": "markdown",
   "id": "present-creator",
   "metadata": {},
   "source": [
    "### Saturation\n",
    "\n",
    "The colorfulness of a stimulus\n"
   ]
  },
  {
   "cell_type": "markdown",
   "id": "welcome-account",
   "metadata": {},
   "source": [
    "#### Value saturation"
   ]
  },
  {
   "cell_type": "code",
   "execution_count": 87,
   "id": "norman-paste",
   "metadata": {},
   "outputs": [],
   "source": [
    "def value_saturation(rgb):\n",
    "    r, g, b = rgb\n",
    "    c = chroma(rgb)\n",
    "    v = max_value(rgb)\n",
    "    return c/v if v>0 else 0"
   ]
  },
  {
   "cell_type": "code",
   "execution_count": 88,
   "id": "wicked-modem",
   "metadata": {},
   "outputs": [
    {
     "data": {
      "text/plain": [
       "0.14"
      ]
     },
     "execution_count": 88,
     "metadata": {},
     "output_type": "execute_result"
    }
   ],
   "source": [
    "value_saturation((100, 86, 87))"
   ]
  },
  {
   "cell_type": "markdown",
   "id": "automotive-layer",
   "metadata": {},
   "source": [
    "#### Lightness saturation"
   ]
  },
  {
   "cell_type": "code",
   "execution_count": 89,
   "id": "unable-jewelry",
   "metadata": {},
   "outputs": [],
   "source": [
    "def lightness_saturation(rgb):\n",
    "    r, g, b = rgb\n",
    "    c = chroma(rgb)\n",
    "    l = lightness(rgb)\n",
    "    if l == 0 or l == 1:\n",
    "        return 0\n",
    "    else:\n",
    "        return c/(1-abs(2*l-1))"
   ]
  },
  {
   "cell_type": "code",
   "execution_count": 90,
   "id": "velvet-symposium",
   "metadata": {},
   "outputs": [
    {
     "data": {
      "text/plain": [
       "-0.07608695652173914"
      ]
     },
     "execution_count": 90,
     "metadata": {},
     "output_type": "execute_result"
    }
   ],
   "source": [
    "lightness_saturation((100, 86, 87))"
   ]
  },
  {
   "cell_type": "markdown",
   "id": "intensive-links",
   "metadata": {},
   "source": [
    "Should it be negative ?"
   ]
  },
  {
   "cell_type": "markdown",
   "id": "executed-numbers",
   "metadata": {},
   "source": [
    "#### Intensity saturation"
   ]
  },
  {
   "cell_type": "code",
   "execution_count": null,
   "id": "competent-lecture",
   "metadata": {},
   "outputs": [],
   "source": [
    "def lightness_saturation(rgb):\n",
    "    r, g, b = rgb\n",
    "    i = intensity(rgb)\n",
    "    m = min(r, g, b)\n",
    "    return 0 if i == 0 else 1-m/i"
   ]
  },
  {
   "cell_type": "code",
   "execution_count": null,
   "id": "seven-opera",
   "metadata": {},
   "outputs": [],
   "source": [
    "lightness_saturation((100, 86, 87))"
   ]
  },
  {
   "cell_type": "code",
   "execution_count": null,
   "id": "automatic-probe",
   "metadata": {},
   "outputs": [],
   "source": []
  }
 ],
 "metadata": {
  "kernelspec": {
   "display_name": "Python 3",
   "language": "python",
   "name": "python3"
  },
  "language_info": {
   "codemirror_mode": {
    "name": "ipython",
    "version": 3
   },
   "file_extension": ".py",
   "mimetype": "text/x-python",
   "name": "python",
   "nbconvert_exporter": "python",
   "pygments_lexer": "ipython3",
   "version": "3.8.5"
  }
 },
 "nbformat": 4,
 "nbformat_minor": 5
}

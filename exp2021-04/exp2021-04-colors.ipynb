{
 "cells": [
  {
   "cell_type": "markdown",
   "id": "convertible-jungle",
   "metadata": {},
   "source": [
    "# Colors and numpy"
   ]
  },
  {
   "cell_type": "code",
   "execution_count": 92,
   "id": "behind-falls",
   "metadata": {},
   "outputs": [
    {
     "name": "stdout",
     "output_type": "stream",
     "text": [
      "Pillow Version: 8.1.0\n"
     ]
    }
   ],
   "source": [
    "from typing import List\n",
    "import PIL\n",
    "from PIL import Image\n",
    "print('Pillow Version:', PIL.__version__)\n",
    "import numpy as np"
   ]
  },
  {
   "cell_type": "markdown",
   "id": "trying-century",
   "metadata": {},
   "source": [
    "## Utilities\n",
    "\n",
    "Utility class to write and display a palette of colors"
   ]
  },
  {
   "cell_type": "code",
   "execution_count": 93,
   "id": "metallic-thomson",
   "metadata": {},
   "outputs": [],
   "source": [
    "\n",
    "class PaletteWriter:\n",
    "    def __init__(self, name: str):\n",
    "        self.name = name\n",
    "        self.colors = []\n",
    "        \n",
    "    def set_colors(self, colors: List):\n",
    "        # Palette would be provided as [(R, G, B), ..]\n",
    "        self.colors = colors\n",
    "        return self\n",
    "            \n",
    "    def _create_image(self):\n",
    "        number_of_colors = len(self.colors)\n",
    "        block_size_pix = 50\n",
    "        pixels = np.zeros((block_size_pix, number_of_colors*block_size_pix, 3)).astype(np.uint8)\n",
    "        for i in range(number_of_colors):\n",
    "            pixels[0:block_size_pix, i*block_size_pix:(i+1)*block_size_pix] = self.colors[i]\n",
    "        new_img = Image.fromarray(pixels)\n",
    "        return new_img\n",
    "    \n",
    "    def save(self):\n",
    "        self._create_image().save(f\"palette-{self.name}.png\")\n",
    "    \n",
    "    def show(self):\n",
    "        return self._create_image()"
   ]
  },
  {
   "cell_type": "code",
   "execution_count": 94,
   "id": "black-ghana",
   "metadata": {},
   "outputs": [
    {
     "data": {
      "image/png": "[encoded data removed]",
      "text/plain": [
       "<PIL.Image.Image image mode=RGB size=150x50 at 0x7F894C28ED00>"
      ]
     },
     "execution_count": 94,
     "metadata": {},
     "output_type": "execute_result"
    }
   ],
   "source": [
    "PaletteWriter(\"white-grey-black\").set_colors([(255, 255, 255), (85, 86, 87), (0, 0, 0)]).show()"
   ]
  },
  {
   "cell_type": "markdown",
   "id": "ultimate-wisconsin",
   "metadata": {},
   "source": [
    "### Lightness\n",
    "\n",
    "See (HSL, HSV, and HSI)(https://en.wikipedia.org/wiki/HSL_and_HSV_"
   ]
  },
  {
   "cell_type": "markdown",
   "id": "affiliated-customs",
   "metadata": {},
   "source": [
    "#### Intensity\n",
    "\n",
    "Average of the three color components"
   ]
  },
  {
   "cell_type": "code",
   "execution_count": 95,
   "id": "expanded-primary",
   "metadata": {},
   "outputs": [],
   "source": [
    "def intensity(rgb):\n",
    "    r, g, b = rgb\n",
    "    return int((1/3)*(r+g+b))"
   ]
  },
  {
   "cell_type": "code",
   "execution_count": 96,
   "id": "hungry-philadelphia",
   "metadata": {},
   "outputs": [
    {
     "data": {
      "text/plain": [
       "86"
      ]
     },
     "execution_count": 96,
     "metadata": {},
     "output_type": "execute_result"
    }
   ],
   "source": [
    "intensity((85, 86, 87))"
   ]
  },
  {
   "cell_type": "markdown",
   "id": "breathing-chart",
   "metadata": {},
   "source": [
    "#### Value\n",
    "\n",
    "Largest component of a color"
   ]
  },
  {
   "cell_type": "code",
   "execution_count": 97,
   "id": "demographic-romantic",
   "metadata": {},
   "outputs": [],
   "source": [
    "def max_value(rgb):\n",
    "    r, g, b = rgb\n",
    "    return max(r, g, b)"
   ]
  },
  {
   "cell_type": "code",
   "execution_count": 98,
   "id": "comic-index",
   "metadata": {},
   "outputs": [
    {
     "data": {
      "text/plain": [
       "100"
      ]
     },
     "execution_count": 98,
     "metadata": {},
     "output_type": "execute_result"
    }
   ],
   "source": [
    "max_value((100, 86, 87))"
   ]
  },
  {
   "cell_type": "markdown",
   "id": "liberal-approach",
   "metadata": {},
   "source": [
    "#### Lightness\n",
    "\n",
    "Average of the largest and smallest components of color."
   ]
  },
  {
   "cell_type": "code",
   "execution_count": 99,
   "id": "taken-childhood",
   "metadata": {},
   "outputs": [],
   "source": [
    "def lightness(rgb):\n",
    "    r, g, b = rgb\n",
    "    return int((max(r, g, b) + min(r, g, b))/2)"
   ]
  },
  {
   "cell_type": "code",
   "execution_count": 100,
   "id": "exotic-combining",
   "metadata": {},
   "outputs": [
    {
     "data": {
      "text/plain": [
       "93"
      ]
     },
     "execution_count": 100,
     "metadata": {},
     "output_type": "execute_result"
    }
   ],
   "source": [
    "lightness((100, 86, 87))"
   ]
  },
  {
   "cell_type": "markdown",
   "id": "outer-damages",
   "metadata": {},
   "source": [
    "#### Luma\n",
    "\n",
    "Weighted average of gamma-corrected R, G, and B, based on their contribution to perceived lightness.\n",
    "\n",
    "Green will have the most weight while Blue the less."
   ]
  },
  {
   "cell_type": "code",
   "execution_count": 101,
   "id": "acquired-bacteria",
   "metadata": {},
   "outputs": [],
   "source": [
    " def luma(rgb):\n",
    "    r, g, b = rgb\n",
    "    kr, kg, kb = (0.2627, 0.6780, 0.0593) # (UHDTV, HDR)\n",
    "    return int(kr*r+kg*g+kb*b)"
   ]
  },
  {
   "cell_type": "code",
   "execution_count": 102,
   "id": "popular-monster",
   "metadata": {},
   "outputs": [
    {
     "data": {
      "text/plain": [
       "89"
      ]
     },
     "execution_count": 102,
     "metadata": {},
     "output_type": "execute_result"
    }
   ],
   "source": [
    "luma((100, 86, 87))"
   ]
  },
  {
   "cell_type": "markdown",
   "id": "regional-jonathan",
   "metadata": {},
   "source": [
    "### Chroma\n",
    "\n",
    "The colorfulness relative to the brightness\n",
    "\n",
    "The range of the color components"
   ]
  },
  {
   "cell_type": "code",
   "execution_count": 103,
   "id": "catholic-bedroom",
   "metadata": {},
   "outputs": [],
   "source": [
    "def chroma(rgb):\n",
    "    r, g, b = rgb\n",
    "    return int(max(r, g, b) - min(r, g, b))"
   ]
  },
  {
   "cell_type": "code",
   "execution_count": 104,
   "id": "unavailable-uncertainty",
   "metadata": {},
   "outputs": [
    {
     "data": {
      "text/plain": [
       "14"
      ]
     },
     "execution_count": 104,
     "metadata": {},
     "output_type": "execute_result"
    }
   ],
   "source": [
    "chroma((100, 86, 87))"
   ]
  },
  {
   "cell_type": "markdown",
   "id": "unnecessary-james",
   "metadata": {},
   "source": [
    "#### Hue\n",
    "\n",
    "The attribute of a visual sensation.\n",
    "\n",
    "The hue is typically measured in degrees [0°, 360°].\n",
    "\n",
    "If Red is dominant, this is the range between Green and Blue modulo 6\n",
    "If Green is dominant, this is the range between Blue and Red plus 2\n",
    "If Blue is dominant, this is the range between Red and Green plus 4"
   ]
  },
  {
   "cell_type": "code",
   "execution_count": 105,
   "id": "demonstrated-latitude",
   "metadata": {},
   "outputs": [],
   "source": [
    "def hue_ratio(rgb):\n",
    "    r, g, b = rgb\n",
    "    mx = max(r, g, b)\n",
    "    c = chroma(rgb)\n",
    "    if c == 0:\n",
    "        return 0\n",
    "    elif mx == r:\n",
    "        return ((g-b)/c % 6)\n",
    "    elif  mx == g:\n",
    "        return (b-r)/c + 2\n",
    "    elif mx== b:\n",
    "        (r-g)/c + 4\n",
    "        \n",
    "def hue(rgb):\n",
    "    return int(60*hue_ratio(rgb))"
   ]
  },
  {
   "cell_type": "code",
   "execution_count": 106,
   "id": "municipal-saint",
   "metadata": {},
   "outputs": [
    {
     "data": {
      "text/plain": [
       "355"
      ]
     },
     "execution_count": 106,
     "metadata": {},
     "output_type": "execute_result"
    }
   ],
   "source": [
    "hue((100, 86, 87))"
   ]
  },
  {
   "cell_type": "markdown",
   "id": "passing-error",
   "metadata": {},
   "source": [
    "### Saturation\n",
    "\n",
    "The colorfulness of a stimulus\n"
   ]
  },
  {
   "cell_type": "markdown",
   "id": "accompanied-louisiana",
   "metadata": {},
   "source": [
    "#### Value saturation"
   ]
  },
  {
   "cell_type": "code",
   "execution_count": 107,
   "id": "victorian-minutes",
   "metadata": {},
   "outputs": [],
   "source": [
    "def value_saturation(rgb):\n",
    "    r, g, b = rgb\n",
    "    c = chroma(rgb)\n",
    "    v = max_value(rgb)\n",
    "    return c/v if v>0 else 0"
   ]
  },
  {
   "cell_type": "code",
   "execution_count": 108,
   "id": "contained-portsmouth",
   "metadata": {},
   "outputs": [
    {
     "data": {
      "text/plain": [
       "0.14"
      ]
     },
     "execution_count": 108,
     "metadata": {},
     "output_type": "execute_result"
    }
   ],
   "source": [
    "value_saturation((100, 86, 87))"
   ]
  },
  {
   "cell_type": "markdown",
   "id": "pediatric-baseball",
   "metadata": {},
   "source": [
    "#### Lightness saturation"
   ]
  },
  {
   "cell_type": "code",
   "execution_count": 109,
   "id": "outer-chance",
   "metadata": {},
   "outputs": [],
   "source": [
    "def lightness_saturation(rgb):\n",
    "    r, g, b = rgb\n",
    "    c = chroma(rgb)\n",
    "    l = lightness(rgb)\n",
    "    if l == 0 or l == 1:\n",
    "        return 0\n",
    "    else:\n",
    "        return c/(1-abs(2*l-1))"
   ]
  },
  {
   "cell_type": "code",
   "execution_count": 110,
   "id": "alert-economy",
   "metadata": {},
   "outputs": [
    {
     "data": {
      "text/plain": [
       "-0.07608695652173914"
      ]
     },
     "execution_count": 110,
     "metadata": {},
     "output_type": "execute_result"
    }
   ],
   "source": [
    "lightness_saturation((100, 86, 87))"
   ]
  },
  {
   "cell_type": "markdown",
   "id": "concerned-maldives",
   "metadata": {},
   "source": [
    "Should it be negative ?"
   ]
  },
  {
   "cell_type": "markdown",
   "id": "leading-tribune",
   "metadata": {},
   "source": [
    "#### Intensity saturation"
   ]
  },
  {
   "cell_type": "code",
   "execution_count": 111,
   "id": "dimensional-directive",
   "metadata": {},
   "outputs": [],
   "source": [
    "def lightness_saturation(rgb):\n",
    "    r, g, b = rgb\n",
    "    i = intensity(rgb)\n",
    "    m = min(r, g, b)\n",
    "    return 0 if i == 0 else 1-m/i"
   ]
  },
  {
   "cell_type": "code",
   "execution_count": 112,
   "id": "minor-sheffield",
   "metadata": {},
   "outputs": [
    {
     "data": {
      "text/plain": [
       "0.05494505494505497"
      ]
     },
     "execution_count": 112,
     "metadata": {},
     "output_type": "execute_result"
    }
   ],
   "source": [
    "lightness_saturation((100, 86, 87))"
   ]
  },
  {
   "cell_type": "markdown",
   "id": "canadian-mortality",
   "metadata": {},
   "source": [
    "## Simple Palette"
   ]
  },
  {
   "cell_type": "code",
   "execution_count": 117,
   "id": "potential-following",
   "metadata": {},
   "outputs": [],
   "source": [
    "class SimplePaletteDef:\n",
    "    def __init__(self):\n",
    "        self.nb_of_greys: int = 3\n",
    "        self.nb_of_hues: int = 6\n",
    "        self.nb_of_saturations: int = 3\n",
    "        self.nb_of_intensities: int = 3\n",
    "    \n",
    "    def greys(self, value: int):\n",
    "        self.nb_of_greys = value\n",
    "        return self\n",
    "    \n",
    "    def hues(self, value: int):\n",
    "        self.nb_of_hues = value\n",
    "        return self\n",
    "\n",
    "    def saturations(self, value: int):\n",
    "        self.nb_of_saturations = value\n",
    "        return self\n",
    "\n",
    "    def intensities(self, value: int):\n",
    "        self.nb_of_intensities = value\n",
    "        return self\n",
    "    \n",
    "    def combinations(self):\n",
    "        return self.nb_of_hues*self.nb_of_saturations*self.nb_of_intensities + self.nb_of_greys\n"
   ]
  },
  {
   "cell_type": "code",
   "execution_count": 118,
   "id": "indian-friendly",
   "metadata": {},
   "outputs": [
    {
     "data": {
      "text/plain": [
       "110"
      ]
     },
     "execution_count": 118,
     "metadata": {},
     "output_type": "execute_result"
    }
   ],
   "source": [
    "palette1 = SimplePaletteDef().greys(5).hues(7).saturations(5).intensities(3)\n",
    "palette1.combinations()"
   ]
  },
  {
   "cell_type": "code",
   "execution_count": null,
   "id": "accomplished-battery",
   "metadata": {},
   "outputs": [],
   "source": []
  }
 ],
 "metadata": {
  "kernelspec": {
   "display_name": "Python 3",
   "language": "python",
   "name": "python3"
  },
  "language_info": {
   "codemirror_mode": {
    "name": "ipython",
    "version": 3
   },
   "file_extension": ".py",
   "mimetype": "text/x-python",
   "name": "python",
   "nbconvert_exporter": "python",
   "pygments_lexer": "ipython3",
   "version": "3.8.5"
  }
 },
 "nbformat": 4,
 "nbformat_minor": 5
}

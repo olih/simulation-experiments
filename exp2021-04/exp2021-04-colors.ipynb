{
 "cells": [
  {
   "cell_type": "markdown",
   "id": "stone-devil",
   "metadata": {},
   "source": [
    "# Colors and numpy"
   ]
  },
  {
   "cell_type": "code",
   "execution_count": 521,
   "id": "prompt-respect",
   "metadata": {},
   "outputs": [
    {
     "name": "stdout",
     "output_type": "stream",
     "text": [
      "Pillow Version: 8.1.0\n"
     ]
    }
   ],
   "source": [
    "from typing import List\n",
    "import PIL\n",
    "from PIL import Image\n",
    "print('Pillow Version:', PIL.__version__)\n",
    "import numpy as np"
   ]
  },
  {
   "cell_type": "markdown",
   "id": "ranking-packing",
   "metadata": {},
   "source": [
    "## Utilities\n",
    "\n",
    "Utility class to write and display a palette of colors"
   ]
  },
  {
   "cell_type": "code",
   "execution_count": 522,
   "id": "brilliant-trinidad",
   "metadata": {},
   "outputs": [],
   "source": [
    "\n",
    "class PaletteWriter:\n",
    "    def __init__(self, name: str):\n",
    "        self.name = name\n",
    "        self.colors = []\n",
    "        \n",
    "    def set_colors(self, colors: List):\n",
    "        # Palette would be provided as [(R, G, B), ..]\n",
    "        self.colors = colors\n",
    "        return self\n",
    "            \n",
    "    def _create_image(self):\n",
    "        number_of_colors = len(self.colors)\n",
    "        block_size_pix = 50\n",
    "        pixels = np.zeros((block_size_pix, number_of_colors*block_size_pix, 3)).astype(np.uint8)\n",
    "        for i in range(number_of_colors):\n",
    "            pixels[0:block_size_pix, i*block_size_pix:(i+1)*block_size_pix] = self.colors[i]\n",
    "        new_img = Image.fromarray(pixels)\n",
    "        return new_img\n",
    "    \n",
    "    def save(self):\n",
    "        self._create_image().save(f\"palette-{self.name}.png\")\n",
    "    \n",
    "    def show(self):\n",
    "        return self._create_image()"
   ]
  },
  {
   "cell_type": "code",
   "execution_count": 523,
   "id": "mechanical-roots",
   "metadata": {},
   "outputs": [
    {
     "data": {
      "image/png": "[encoded data removed]",
      "text/plain": [
       "<PIL.Image.Image image mode=RGB size=150x50 at 0x7F894C28E1F0>"
      ]
     },
     "execution_count": 523,
     "metadata": {},
     "output_type": "execute_result"
    }
   ],
   "source": [
    "PaletteWriter(\"white-grey-black\").set_colors([(255, 255, 255), (85, 86, 87), (0, 0, 0)]).show()"
   ]
  },
  {
   "cell_type": "markdown",
   "id": "functioning-macedonia",
   "metadata": {},
   "source": [
    "### Lightness\n",
    "\n",
    "See (HSL, HSV, and HSI)(https://en.wikipedia.org/wiki/HSL_and_HSV_"
   ]
  },
  {
   "cell_type": "markdown",
   "id": "entire-coverage",
   "metadata": {},
   "source": [
    "#### Intensity\n",
    "\n",
    "Average of the three color components"
   ]
  },
  {
   "cell_type": "code",
   "execution_count": 524,
   "id": "irish-afternoon",
   "metadata": {},
   "outputs": [],
   "source": [
    "def intensity(rgb):\n",
    "    r, g, b = rgb\n",
    "    return int((1/3)*(r+g+b))"
   ]
  },
  {
   "cell_type": "code",
   "execution_count": 525,
   "id": "developing-julian",
   "metadata": {},
   "outputs": [
    {
     "data": {
      "text/plain": [
       "86"
      ]
     },
     "execution_count": 525,
     "metadata": {},
     "output_type": "execute_result"
    }
   ],
   "source": [
    "intensity((85, 86, 87))"
   ]
  },
  {
   "cell_type": "markdown",
   "id": "satisfactory-basketball",
   "metadata": {},
   "source": [
    "#### Value\n",
    "\n",
    "Largest component of a color"
   ]
  },
  {
   "cell_type": "code",
   "execution_count": 526,
   "id": "challenging-honor",
   "metadata": {},
   "outputs": [],
   "source": [
    "def max_value(rgb):\n",
    "    r, g, b = rgb\n",
    "    return max(r, g, b)"
   ]
  },
  {
   "cell_type": "code",
   "execution_count": 527,
   "id": "increased-conducting",
   "metadata": {},
   "outputs": [
    {
     "data": {
      "text/plain": [
       "100"
      ]
     },
     "execution_count": 527,
     "metadata": {},
     "output_type": "execute_result"
    }
   ],
   "source": [
    "max_value((100, 86, 87))"
   ]
  },
  {
   "cell_type": "markdown",
   "id": "wooden-blade",
   "metadata": {},
   "source": [
    "#### Lightness\n",
    "\n",
    "Average of the largest and smallest components of color."
   ]
  },
  {
   "cell_type": "code",
   "execution_count": 528,
   "id": "dated-chaos",
   "metadata": {},
   "outputs": [],
   "source": [
    "def lightness(rgb):\n",
    "    r, g, b = rgb\n",
    "    return int((max(r, g, b) + min(r, g, b))/2)"
   ]
  },
  {
   "cell_type": "code",
   "execution_count": 529,
   "id": "transparent-index",
   "metadata": {},
   "outputs": [
    {
     "data": {
      "text/plain": [
       "93"
      ]
     },
     "execution_count": 529,
     "metadata": {},
     "output_type": "execute_result"
    }
   ],
   "source": [
    "lightness((100, 86, 87))"
   ]
  },
  {
   "cell_type": "markdown",
   "id": "forward-break",
   "metadata": {},
   "source": [
    "#### Luma\n",
    "\n",
    "Weighted average of gamma-corrected R, G, and B, based on their contribution to perceived lightness.\n",
    "\n",
    "Green will have the most weight while Blue the less."
   ]
  },
  {
   "cell_type": "code",
   "execution_count": 530,
   "id": "painted-calculator",
   "metadata": {},
   "outputs": [],
   "source": [
    " def luma(rgb):\n",
    "    r, g, b = rgb\n",
    "    kr, kg, kb = (0.2627, 0.6780, 0.0593) # (UHDTV, HDR)\n",
    "    return int(kr*r+kg*g+kb*b)"
   ]
  },
  {
   "cell_type": "code",
   "execution_count": 531,
   "id": "funded-award",
   "metadata": {},
   "outputs": [
    {
     "data": {
      "text/plain": [
       "89"
      ]
     },
     "execution_count": 531,
     "metadata": {},
     "output_type": "execute_result"
    }
   ],
   "source": [
    "luma((100, 86, 87))"
   ]
  },
  {
   "cell_type": "markdown",
   "id": "editorial-senegal",
   "metadata": {},
   "source": [
    "### Chroma\n",
    "\n",
    "The colorfulness relative to the brightness\n",
    "\n",
    "The range of the color components"
   ]
  },
  {
   "cell_type": "code",
   "execution_count": 532,
   "id": "voluntary-response",
   "metadata": {},
   "outputs": [],
   "source": [
    "def chroma(rgb):\n",
    "    r, g, b = rgb\n",
    "    return int(max(r, g, b) - min(r, g, b))"
   ]
  },
  {
   "cell_type": "code",
   "execution_count": 533,
   "id": "satisfactory-spelling",
   "metadata": {},
   "outputs": [
    {
     "data": {
      "text/plain": [
       "14"
      ]
     },
     "execution_count": 533,
     "metadata": {},
     "output_type": "execute_result"
    }
   ],
   "source": [
    "chroma((100, 86, 87))"
   ]
  },
  {
   "cell_type": "markdown",
   "id": "architectural-voltage",
   "metadata": {},
   "source": [
    "#### Hue\n",
    "\n",
    "The attribute of a visual sensation.\n",
    "\n",
    "The hue is typically measured in degrees [0°, 360°].\n",
    "\n",
    "If Red is dominant, this is the range between Green and Blue modulo 6\n",
    "If Green is dominant, this is the range between Blue and Red plus 2\n",
    "If Blue is dominant, this is the range between Red and Green plus 4"
   ]
  },
  {
   "cell_type": "code",
   "execution_count": 534,
   "id": "vocal-milan",
   "metadata": {},
   "outputs": [],
   "source": [
    "def hue_ratio(rgb):\n",
    "    r, g, b = rgb\n",
    "    mx = max(r, g, b)\n",
    "    c = chroma(rgb)\n",
    "    if c == 0:\n",
    "        return 0\n",
    "    elif mx == r:\n",
    "        return ((g-b)/c % 6)\n",
    "    elif  mx == g:\n",
    "        return (b-r)/c + 2\n",
    "    elif mx== b:\n",
    "        return (r-g)/c + 4\n",
    "        \n",
    "def hue(rgb):\n",
    "    return int(60*hue_ratio(rgb))"
   ]
  },
  {
   "cell_type": "code",
   "execution_count": 535,
   "id": "constitutional-spider",
   "metadata": {},
   "outputs": [
    {
     "data": {
      "text/plain": [
       "355"
      ]
     },
     "execution_count": 535,
     "metadata": {},
     "output_type": "execute_result"
    }
   ],
   "source": [
    "hue((100, 86, 87))"
   ]
  },
  {
   "cell_type": "markdown",
   "id": "considerable-cotton",
   "metadata": {},
   "source": [
    "### Saturation\n",
    "\n",
    "The colorfulness of a stimulus\n"
   ]
  },
  {
   "cell_type": "markdown",
   "id": "functioning-hayes",
   "metadata": {},
   "source": [
    "#### Value saturation"
   ]
  },
  {
   "cell_type": "code",
   "execution_count": 536,
   "id": "fiscal-choice",
   "metadata": {},
   "outputs": [],
   "source": [
    "def value_saturation(rgb):\n",
    "    r, g, b = rgb\n",
    "    c = chroma(rgb)\n",
    "    v = max_value(rgb)\n",
    "    return c/v if v>0 else 0"
   ]
  },
  {
   "cell_type": "code",
   "execution_count": 537,
   "id": "chubby-peoples",
   "metadata": {},
   "outputs": [
    {
     "data": {
      "text/plain": [
       "0.14"
      ]
     },
     "execution_count": 537,
     "metadata": {},
     "output_type": "execute_result"
    }
   ],
   "source": [
    "value_saturation((100, 86, 87))"
   ]
  },
  {
   "cell_type": "markdown",
   "id": "amateur-anthropology",
   "metadata": {},
   "source": [
    "#### Lightness saturation"
   ]
  },
  {
   "cell_type": "code",
   "execution_count": 538,
   "id": "cosmetic-joining",
   "metadata": {},
   "outputs": [],
   "source": [
    "def lightness_saturation(rgb):\n",
    "    r, g, b = rgb\n",
    "    c = chroma(rgb)\n",
    "    l = lightness(rgb)\n",
    "    if l == 0 or l == 1:\n",
    "        return 0\n",
    "    else:\n",
    "        return c/(1-abs(2*l-1))"
   ]
  },
  {
   "cell_type": "code",
   "execution_count": 539,
   "id": "handed-anatomy",
   "metadata": {},
   "outputs": [
    {
     "data": {
      "text/plain": [
       "-0.07608695652173914"
      ]
     },
     "execution_count": 539,
     "metadata": {},
     "output_type": "execute_result"
    }
   ],
   "source": [
    "lightness_saturation((100, 86, 87))"
   ]
  },
  {
   "cell_type": "markdown",
   "id": "portuguese-chapter",
   "metadata": {},
   "source": [
    "Should it be negative ?"
   ]
  },
  {
   "cell_type": "markdown",
   "id": "massive-soviet",
   "metadata": {},
   "source": [
    "#### Intensity saturation"
   ]
  },
  {
   "cell_type": "code",
   "execution_count": 540,
   "id": "fluid-column",
   "metadata": {},
   "outputs": [],
   "source": [
    "def lightness_saturation(rgb):\n",
    "    r, g, b = rgb\n",
    "    i = intensity(rgb)\n",
    "    m = min(r, g, b)\n",
    "    return 0 if i == 0 else 1-m/i"
   ]
  },
  {
   "cell_type": "code",
   "execution_count": 541,
   "id": "quality-friendship",
   "metadata": {},
   "outputs": [
    {
     "data": {
      "text/plain": [
       "0.05494505494505497"
      ]
     },
     "execution_count": 541,
     "metadata": {},
     "output_type": "execute_result"
    }
   ],
   "source": [
    "lightness_saturation((100, 86, 87))"
   ]
  },
  {
   "cell_type": "markdown",
   "id": "bulgarian-andorra",
   "metadata": {},
   "source": [
    "## Hue to RGB"
   ]
  },
  {
   "cell_type": "markdown",
   "id": "endless-assist",
   "metadata": {},
   "source": [
    "### HSI to RGB\n",
    "\n",
    "Given an HSI color with hue H ∈ [0°, 360°], saturation SI ∈ [0, 1], and intensity I ∈ [0, 1]"
   ]
  },
  {
   "cell_type": "code",
   "execution_count": 542,
   "id": "developed-command",
   "metadata": {},
   "outputs": [],
   "source": [
    "def hsi_to_rgb(hsi):\n",
    "    h, s, i = hsi\n",
    "    hratio = h/60\n",
    "    z = 1-abs(hratio % 2 -1)\n",
    "    c = 3*i*s/(1+z)\n",
    "    x = c*z\n",
    "    m = i*(1-s)\n",
    "    if hratio < 1:\n",
    "        return (c+m,x+m, m)\n",
    "    elif hratio < 2:\n",
    "        return (x+m,c+m, m)\n",
    "    elif hratio < 3:\n",
    "        return (m,c+m, x+m)\n",
    "    elif hratio < 4:\n",
    "        return (m,x+m, c+m)\n",
    "    elif hratio < 5:\n",
    "        return (x+m, m, c+m)\n",
    "    elif hratio < 6:\n",
    "        return (c+m, m, x+m)\n",
    "        "
   ]
  },
  {
   "cell_type": "code",
   "execution_count": 543,
   "id": "welcome-input",
   "metadata": {},
   "outputs": [
    {
     "data": {
      "text/plain": [
       "(0.25, 0.625, 0.625)"
      ]
     },
     "execution_count": 543,
     "metadata": {},
     "output_type": "execute_result"
    }
   ],
   "source": [
    "hsi_to_rgb((180, 0.5, 0.5))"
   ]
  },
  {
   "cell_type": "markdown",
   "id": "blessed-negative",
   "metadata": {},
   "source": [
    "## Simple Palette"
   ]
  },
  {
   "cell_type": "code",
   "execution_count": 544,
   "id": "smart-shooting",
   "metadata": {},
   "outputs": [],
   "source": [
    "from random import randint, uniform \n",
    "\n",
    "class SimplePaletteDef:\n",
    "    def __init__(self):\n",
    "        self.nb_of_greys: int = 3\n",
    "        self.nb_of_hues: int = 6\n",
    "        self.nb_of_saturations: int = 3\n",
    "        self.nb_of_intensities: int = 3\n",
    "        self.colors = []\n",
    "    \n",
    "    def greys(self, value: int):\n",
    "        self.nb_of_greys = value\n",
    "        return self\n",
    "    \n",
    "    def hues(self, value: int):\n",
    "        self.nb_of_hues = value\n",
    "        return self\n",
    "\n",
    "    def saturations(self, value: int):\n",
    "        self.nb_of_saturations = value\n",
    "        return self\n",
    "\n",
    "    def intensities(self, value: int):\n",
    "        self.nb_of_intensities = value\n",
    "        return self\n",
    "    \n",
    "    def combinations(self):\n",
    "        return self.nb_of_hues*self.nb_of_saturations*self.nb_of_intensities + self.nb_of_greys\n",
    "    \n",
    "    def make_size(self):\n",
    "        self.colors = [(0, 0, 0)] *self.combinations()\n",
    "    \n",
    "    def set_color(self, hue: int, saturation: int, intensity: int, color):\n",
    "        offset = self.nb_of_greys\n",
    "        saturation_intensity = saturation*self.nb_of_intensities + intensity\n",
    "        hue_saturation = hue*self.nb_of_saturations*self.nb_of_intensities + saturation_intensity\n",
    "        self.colors[offset+hue_saturation] = color\n",
    "    \n",
    "    def get_color(self, hue: int, saturation: int, intensity: int):\n",
    "        offset = self.nb_of_greys\n",
    "        saturation_intensity = saturation*self.nb_of_intensities + intensity\n",
    "        hue_saturation = hue*self.nb_of_saturations*self.nb_of_intensities + saturation_intensity\n",
    "        return self.colors[offset+hue_saturation]\n",
    "    \n",
    "    def random(self):\n",
    "        self.make_size()\n",
    "        for h in range(self.nb_of_hues):\n",
    "            for s in range(self.nb_of_saturations):\n",
    "                for i in range(self.nb_of_intensities):\n",
    "                    hrange = int(360/self.nb_of_hues)\n",
    "                    srange = 1/self.nb_of_saturations\n",
    "                    irange = 1/self.nb_of_intensities\n",
    "                    randhue = uniform(h*hrange, (h+1)*hrange )\n",
    "                    randsat = uniform(s*srange, (s+1)*srange )\n",
    "                    randintens = uniform(i*irange, (i+1)*irange )\n",
    "                    randhsi = (randhue, randsat,randintens)\n",
    "                    randcolor = hsi_to_rgb(randhsi)\n",
    "                    r, g, b = hsi_to_rgb(randhsi)\n",
    "                    rgb = (int(r*255),int(g*255),int(b*255)) \n",
    "                    self.set_color(h, s, i, rgb)\n",
    "        \n"
   ]
  },
  {
   "cell_type": "code",
   "execution_count": 545,
   "id": "practical-mercury",
   "metadata": {},
   "outputs": [
    {
     "data": {
      "text/plain": [
       "47"
      ]
     },
     "execution_count": 545,
     "metadata": {},
     "output_type": "execute_result"
    }
   ],
   "source": [
    "palette5753 = SimplePaletteDef().greys(5).hues(7).saturations(2).intensities(3)\n",
    "palette5753.combinations()"
   ]
  },
  {
   "cell_type": "code",
   "execution_count": 546,
   "id": "fewer-tokyo",
   "metadata": {},
   "outputs": [
    {
     "data": {
      "image/png": "[encoded data removed]",
      "text/plain": [
       "<PIL.Image.Image image mode=RGB size=2350x50 at 0x7F894C28EF10>"
      ]
     },
     "execution_count": 546,
     "metadata": {},
     "output_type": "execute_result"
    }
   ],
   "source": [
    "palette5753.random()\n",
    "PaletteWriter(\"palette5753\").set_colors(palette5753.colors).show()"
   ]
  },
  {
   "cell_type": "markdown",
   "id": "dedicated-public",
   "metadata": {},
   "source": [
    "Or organized by hue then saturation then intensity"
   ]
  },
  {
   "cell_type": "code",
   "execution_count": 547,
   "id": "prime-hurricane",
   "metadata": {},
   "outputs": [
    {
     "data": {
      "image/png": "[encoded data removed]",
      "text/plain": [
       "<PIL.Image.Image image mode=RGB size=350x50 at 0x7F894C2C4580>"
      ]
     },
     "execution_count": 547,
     "metadata": {},
     "output_type": "execute_result"
    }
   ],
   "source": [
    "PaletteWriter(\"base\").set_colors([palette5753.get_color(h, 0, 0) for h in range(7)]).show()"
   ]
  },
  {
   "cell_type": "code",
   "execution_count": 548,
   "id": "radio-rider",
   "metadata": {},
   "outputs": [
    {
     "data": {
      "image/png": "[encoded data removed]",
      "text/plain": [
       "<PIL.Image.Image image mode=RGB size=350x50 at 0x7F894C24EFA0>"
      ]
     },
     "execution_count": 548,
     "metadata": {},
     "output_type": "execute_result"
    }
   ],
   "source": [
    "PaletteWriter(\"more-saturation\").set_colors([palette5753.get_color(h, 1, 0) for h in range(7)]).show()"
   ]
  },
  {
   "cell_type": "code",
   "execution_count": 549,
   "id": "bulgarian-alexandria",
   "metadata": {},
   "outputs": [
    {
     "data": {
      "image/png": "[encoded data removed]",
      "text/plain": [
       "<PIL.Image.Image image mode=RGB size=350x50 at 0x7F894C2C4A90>"
      ]
     },
     "execution_count": 549,
     "metadata": {},
     "output_type": "execute_result"
    }
   ],
   "source": [
    "PaletteWriter(\"more-intensity\").set_colors([palette5753.get_color(h, 1, 1) for h in range(7)]).show()"
   ]
  },
  {
   "cell_type": "code",
   "execution_count": 550,
   "id": "thrown-minimum",
   "metadata": {},
   "outputs": [
    {
     "data": {
      "image/png": "[encoded data removed]",
      "text/plain": [
       "<PIL.Image.Image image mode=RGB size=350x50 at 0x7F894C33B0D0>"
      ]
     },
     "execution_count": 550,
     "metadata": {},
     "output_type": "execute_result"
    }
   ],
   "source": [
    "PaletteWriter(\"even-more-intensity\").set_colors([palette5753.get_color(h, 1, 2) for h in range(7)]).show()"
   ]
  },
  {
   "cell_type": "markdown",
   "id": "powered-setting",
   "metadata": {},
   "source": [
    "### Check color proximity"
   ]
  },
  {
   "cell_type": "markdown",
   "id": "functional-barbados",
   "metadata": {},
   "source": [
    "#### If hues are similar"
   ]
  },
  {
   "cell_type": "code",
   "execution_count": 551,
   "id": "fewer-strand",
   "metadata": {},
   "outputs": [],
   "source": [
    "def have_similar_hue(rgb1, rgb2, tolerance: float):\n",
    "    max_tolerance = int(360*tolerance)\n",
    "    h1 = hue(rgb1)\n",
    "    h2 = hue(rgb2)\n",
    "    return abs(h1-h2) <= max_tolerance"
   ]
  },
  {
   "cell_type": "code",
   "execution_count": 552,
   "id": "efficient-startup",
   "metadata": {},
   "outputs": [
    {
     "data": {
      "text/plain": [
       "True"
      ]
     },
     "execution_count": 552,
     "metadata": {},
     "output_type": "execute_result"
    }
   ],
   "source": [
    "have_similar_hue((241, 112, 34),(235, 100, 34), 0.05)"
   ]
  },
  {
   "cell_type": "code",
   "execution_count": 553,
   "id": "removable-ceremony",
   "metadata": {},
   "outputs": [
    {
     "data": {
      "text/plain": [
       "False"
      ]
     },
     "execution_count": 553,
     "metadata": {},
     "output_type": "execute_result"
    }
   ],
   "source": [
    "have_similar_hue((241, 112, 34), (228, 246, 248), 0.05)"
   ]
  },
  {
   "cell_type": "code",
   "execution_count": null,
   "id": "sophisticated-satellite",
   "metadata": {},
   "outputs": [],
   "source": []
  }
 ],
 "metadata": {
  "kernelspec": {
   "display_name": "Python 3",
   "language": "python",
   "name": "python3"
  },
  "language_info": {
   "codemirror_mode": {
    "name": "ipython",
    "version": 3
   },
   "file_extension": ".py",
   "mimetype": "text/x-python",
   "name": "python",
   "nbconvert_exporter": "python",
   "pygments_lexer": "ipython3",
   "version": "3.8.5"
  }
 },
 "nbformat": 4,
 "nbformat_minor": 5
}

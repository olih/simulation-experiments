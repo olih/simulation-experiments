{
 "cells": [
  {
   "cell_type": "markdown",
   "id": "ecological-convert",
   "metadata": {},
   "source": [
    "# Layout methods\n",
    "\n",
    "See [Graph_drawing](https://en.wikipedia.org/wiki/Graph_drawing)"
   ]
  },
  {
   "cell_type": "markdown",
   "id": "modern-reminder",
   "metadata": {},
   "source": [
    "## Force-directed graph drawing\n",
    "\n",
    "See this nice overview in Wikipedia for [Force-directed graph drawing](https://en.wikipedia.org/wiki/Force-directed_graph_drawing)\n",
    "\n",
    "* [Hooke's law](https://en.wikipedia.org/wiki/Hooke%27s_law) is used for attracting nodes to each other.\n",
    "* [Coulomb's law](https://en.wikipedia.org/wiki/Coulomb%27s_law) is used to repulse nodes from each other.\n",
    "* Edge attraction and Node repulsion forces do not have to be physically accurate.\n",
    "* Some force-directed systems use springs whose attractive force is logarithmic rather than linear.\n",
    "* An alternative model considers a spring-like force where there is an ideal length for each spring without using a separate repulsive force. See [Multidimensional scaling](https://en.wikipedia.org/wiki/Multidimensional_scaling)\n",
    "* Alternatively, gravity may be used to pull the nodes towards a fixed point.\n",
    "* Magnetic fields could be used for directed graphs.\n",
    "* Repulsive forces may be placed on edges as well as on nodes in order to avoid overlaps.\n",
    "* In drawings with curved edges such as circular arcs or spline curves, forces may also be placed on the control points of these curves, for instance to improve their angular resolution."
   ]
  },
  {
   "cell_type": "markdown",
   "id": "expired-mason",
   "metadata": {},
   "source": [
    "### Hooke's law\n",
    "\n",
    "The force needed to extend or compress a spring by some distance scales linearly."
   ]
  },
  {
   "cell_type": "code",
   "execution_count": 4,
   "id": "sound-sheep",
   "metadata": {},
   "outputs": [],
   "source": [
    "# linear springs\n",
    "def force(k: float, distance: float):\n",
    "    return k*distance"
   ]
  },
  {
   "cell_type": "code",
   "execution_count": 6,
   "id": "latin-bosnia",
   "metadata": {},
   "outputs": [
    {
     "data": {
      "text/plain": [
       "20"
      ]
     },
     "execution_count": 6,
     "metadata": {},
     "output_type": "execute_result"
    }
   ],
   "source": [
    "force(2, 10)"
   ]
  },
  {
   "cell_type": "code",
   "execution_count": null,
   "id": "tight-looking",
   "metadata": {},
   "outputs": [],
   "source": []
  }
 ],
 "metadata": {
  "kernelspec": {
   "display_name": "Python 3",
   "language": "python",
   "name": "python3"
  },
  "language_info": {
   "codemirror_mode": {
    "name": "ipython",
    "version": 3
   },
   "file_extension": ".py",
   "mimetype": "text/x-python",
   "name": "python",
   "nbconvert_exporter": "python",
   "pygments_lexer": "ipython3",
   "version": "3.8.5"
  }
 },
 "nbformat": 4,
 "nbformat_minor": 5
}

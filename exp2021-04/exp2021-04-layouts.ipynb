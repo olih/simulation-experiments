{
 "cells": [
  {
   "cell_type": "markdown",
   "id": "alike-proof",
   "metadata": {},
   "source": [
    "# Layout methods\n",
    "\n",
    "See [Graph_drawing](https://en.wikipedia.org/wiki/Graph_drawing)"
   ]
  },
  {
   "cell_type": "markdown",
   "id": "driving-reputation",
   "metadata": {},
   "source": [
    "## Force-directed graph drawing\n",
    "\n",
    "See this nice overview in Wikipedia for [Force-directed graph drawing](https://en.wikipedia.org/wiki/Force-directed_graph_drawing) and also [this paper](https://cs.brown.edu/people/rtamassi/gdhandbook/chapters/force-directed.pdf)\n",
    "\n",
    "* [Hooke's law](https://en.wikipedia.org/wiki/Hooke%27s_law) is used for attracting nodes to each other.\n",
    "* [Coulomb's law](https://en.wikipedia.org/wiki/Coulomb%27s_law) is used to repulse nodes from each other.\n",
    "* Edge attraction and Node repulsion forces do not have to be physically accurate.\n",
    "* Some force-directed systems use springs whose attractive force is logarithmic rather than linear.\n",
    "* An alternative model considers a spring-like force where there is an ideal length for each spring without using a separate repulsive force. See [Multidimensional scaling](https://en.wikipedia.org/wiki/Multidimensional_scaling)\n",
    "* Alternatively, gravity may be used to pull the nodes towards a fixed point.\n",
    "* Magnetic fields could be used for directed graphs.\n",
    "* Repulsive forces may be placed on edges as well as on nodes in order to avoid overlaps.\n",
    "* In drawings with curved edges such as circular arcs or spline curves, forces may also be placed on the control points of these curves, for instance to improve their angular resolution.\n",
    "* Traditional energy models enforce small and uniform edge lengths. This could prevent the separation of nodes in different clusters.\n",
    "* A strategy for drawing a graph nicely is to abstract it without the fine details."
   ]
  },
  {
   "cell_type": "markdown",
   "id": "partial-gnome",
   "metadata": {},
   "source": [
    "### Hooke's law\n",
    "\n",
    "The force needed to extend or compress a spring by some distance scales linearly.\n",
    "\n",
    "* spring constant k is a measure of the stiffness.\n",
    "* extension is the increase in length"
   ]
  },
  {
   "cell_type": "code",
   "execution_count": 310,
   "id": "sunset-inside",
   "metadata": {},
   "outputs": [],
   "source": [
    "# linear springs\n",
    "def force(k: float, extension: float):\n",
    "    return k*extension"
   ]
  },
  {
   "cell_type": "code",
   "execution_count": 311,
   "id": "provincial-cooler",
   "metadata": {},
   "outputs": [
    {
     "data": {
      "text/plain": [
       "20"
      ]
     },
     "execution_count": 311,
     "metadata": {},
     "output_type": "execute_result"
    }
   ],
   "source": [
    "force(2, 10)"
   ]
  },
  {
   "cell_type": "markdown",
   "id": "associate-andorra",
   "metadata": {},
   "source": [
    "Algorithm of Fruchterman and Reingold with even vertex distribution.\n",
    "This algorithm is similar to that of Eades with attractive forces between adjacent nodes and repulsive forces between all pairs of nodes.\n",
    "\n",
    "The algorithm adds the notion of temperature which would decrease to 0. \n",
    "The temperature (similar in concept to [simulated annealing](https://en.wikipedia.org/wiki/Simulated_annealing) )influences the displacement of nodes to make the layout better. \n",
    "\n",
    "* d, distance between two nodes\n",
    "* k, optimal distance between nodes\n",
    "* area"
   ]
  },
  {
   "cell_type": "code",
   "execution_count": 312,
   "id": "fundamental-blues",
   "metadata": {},
   "outputs": [],
   "source": [
    "from math import sqrt\n",
    "\n",
    "def optimal_distance(c, area, numberOfNodes: int):\n",
    "    return c*sqrt(area/numberOfNodes)"
   ]
  },
  {
   "cell_type": "code",
   "execution_count": 313,
   "id": "honest-greek",
   "metadata": {},
   "outputs": [
    {
     "data": {
      "text/plain": [
       "161.90861620062103"
      ]
     },
     "execution_count": 313,
     "metadata": {},
     "output_type": "execute_result"
    }
   ],
   "source": [
    "k_dist = optimal_distance(1, 1024*768, 30)\n",
    "k_dist"
   ]
  },
  {
   "cell_type": "code",
   "execution_count": 314,
   "id": "becoming-asset",
   "metadata": {},
   "outputs": [],
   "source": [
    "def force_attractive(d: float):\n",
    "    return d**2/k_dist"
   ]
  },
  {
   "cell_type": "code",
   "execution_count": 315,
   "id": "collect-puzzle",
   "metadata": {},
   "outputs": [
    {
     "data": {
      "text/plain": [
       "61.76323555016366"
      ]
     },
     "execution_count": 315,
     "metadata": {},
     "output_type": "execute_result"
    }
   ],
   "source": [
    "force_attractive(100)"
   ]
  },
  {
   "cell_type": "code",
   "execution_count": 316,
   "id": "fancy-thanks",
   "metadata": {},
   "outputs": [],
   "source": [
    "def force_repulsive(d: float):\n",
    "    return (-k_dist**2)/d"
   ]
  },
  {
   "cell_type": "code",
   "execution_count": 317,
   "id": "different-median",
   "metadata": {},
   "outputs": [
    {
     "data": {
      "text/plain": [
       "-262.144"
      ]
     },
     "execution_count": 317,
     "metadata": {},
     "output_type": "execute_result"
    }
   ],
   "source": [
    "force_repulsive(100)"
   ]
  },
  {
   "cell_type": "markdown",
   "id": "prescription-bracket",
   "metadata": {},
   "source": [
    "## Kamada and Kawai approach\n",
    "\n",
    "Desirable geometric (Euclidean) distance between two nodes in the drawing as the graph theoretic distance as computed by an All-Pairs-Shortest-Path computation. The algorithm shows an intuitive definition of a good graph layout.\n",
    "However, it is more expensive to run.\n"
   ]
  },
  {
   "cell_type": "markdown",
   "id": "spiritual-newark",
   "metadata": {},
   "source": [
    "## Random graph"
   ]
  },
  {
   "cell_type": "markdown",
   "id": "unusual-stamp",
   "metadata": {},
   "source": [
    "A simplified graph for which nodes are just ids"
   ]
  },
  {
   "cell_type": "code",
   "execution_count": 318,
   "id": "expected-album",
   "metadata": {},
   "outputs": [],
   "source": [
    "from typing import Tuple, List\n",
    "from random import randint, choice, sample\n",
    "\n",
    "class Edge:\n",
    "    def __init__(self, from_id: int, to_id: int):\n",
    "        self.from_id = from_id\n",
    "        self.to_id = to_id\n",
    "        \n",
    "    def __repr__(self):\n",
    "        return f\"{self.from_id}->{self.to_id}\"\n",
    "    \n",
    "    def __str__(self):\n",
    "        return f\"{self.from_id}->{self.to_id}\"\n",
    "    \n",
    "class Graph:\n",
    "    def __init__(self, nb_of_nodes: int):\n",
    "        self.edges = []\n",
    "        self.nb_of_nodes = nb_of_nodes\n",
    "        self.tmp_nb_of_nodes = 0\n",
    "        \n",
    "    def random_nodes(self, excluding: List[int], k: int):\n",
    "        options = list(set(range(self.nb_of_nodes)).difference(set(excluding)))\n",
    "        if k > len(options):\n",
    "            return []\n",
    "        return sample(options, k)\n",
    "        \n",
    "    def random_graph(self, childRange: Tuple[int, int]):\n",
    "        edges = []\n",
    "        for i in range(self.nb_of_nodes):\n",
    "            childCount = randint(childRange[0], childRange[1])\n",
    "            if childCount < 1:\n",
    "                continue\n",
    "            childNodeIds = self.random_nodes([i], childCount)\n",
    "            for c in childNodeIds:\n",
    "                edges.append(Edge(i, c))\n",
    "        self.edges = edges\n",
    "        return self\n",
    "    \n",
    "    def random_tree_child(self, current_node_id: int, max_children: int):\n",
    "        if self.tmp_nb_of_nodes >= self.nb_of_nodes:\n",
    "            return\n",
    "        child_count = randint(1, max_children)\n",
    "        tmp_nb_of_nodes = self.tmp_nb_of_nodes\n",
    "        self.tmp_nb_of_nodes = tmp_nb_of_nodes + child_count\n",
    "        for i in range(child_count):\n",
    "            new_child_id = tmp_nb_of_nodes+i\n",
    "            self.edges.append(Edge(current_node_id, new_child_id))\n",
    "            self.random_tree_child(new_child_id, max_children)\n",
    "        \n",
    "        \n",
    "    def random_tree(self, max_children: int):\n",
    "        # a node has a single parent\n",
    "        self.random_tree_child(0, max_children)\n",
    "        return self\n",
    "   "
   ]
  },
  {
   "cell_type": "code",
   "execution_count": 319,
   "id": "extensive-poultry",
   "metadata": {},
   "outputs": [
    {
     "data": {
      "text/plain": [
       "[0->5,\n",
       " 0->8,\n",
       " 0->7,\n",
       " 2->9,\n",
       " 2->3,\n",
       " 4->2,\n",
       " 6->9,\n",
       " 6->4,\n",
       " 7->1,\n",
       " 7->4,\n",
       " 7->8,\n",
       " 8->2,\n",
       " 10->8,\n",
       " 11->10,\n",
       " 11->9,\n",
       " 11->7]"
      ]
     },
     "execution_count": 319,
     "metadata": {},
     "output_type": "execute_result"
    }
   ],
   "source": [
    "g12 = Graph(12).random_graph((0, 3))\n",
    "g1.edges"
   ]
  },
  {
   "cell_type": "code",
   "execution_count": 320,
   "id": "dedicated-cemetery",
   "metadata": {},
   "outputs": [
    {
     "data": {
      "text/plain": [
       "[0->0,\n",
       " 0->1,\n",
       " 1->2,\n",
       " 2->4,\n",
       " 4->6,\n",
       " 6->7,\n",
       " 7->8,\n",
       " 8->9,\n",
       " 9->12,\n",
       " 12->14,\n",
       " 14->15,\n",
       " 15->18,\n",
       " 15->19,\n",
       " 14->16,\n",
       " 14->17,\n",
       " 9->13,\n",
       " 8->10,\n",
       " 8->11,\n",
       " 2->5,\n",
       " 1->3]"
      ]
     },
     "execution_count": 320,
     "metadata": {},
     "output_type": "execute_result"
    }
   ],
   "source": [
    "t12 = Graph(20).random_tree(max_children=3)\n",
    "t12.edges"
   ]
  },
  {
   "cell_type": "code",
   "execution_count": 321,
   "id": "molecular-estonia",
   "metadata": {},
   "outputs": [],
   "source": [
    "import matplotlib.pyplot as plt\n",
    "import numpy as np\n",
    "\n",
    "class VisualEdge:\n",
    "    def __init__(self, from_id: int, from_pt: Tuple[int, int], to_id: int, to_pt: Tuple[int, int]):\n",
    "        self.from_id = from_id\n",
    "        self.from_pt = from_pt\n",
    "        self.to_id = to_id\n",
    "        self.to_pt = to_pt\n",
    "        \n",
    "    def __repr__(self):\n",
    "        return f\"{self.from_pt}->{self.to_pt}\"\n",
    "    \n",
    "    def __str__(self):\n",
    "        return f\"{self.from_pt}->{self.to_pt}\"\n",
    "    \n",
    "class VisualGraph:\n",
    "    def __init__(self, width: int, height: int, vedges: List):\n",
    "        self.width = width\n",
    "        self.height = height\n",
    "        self.vedges = vedges\n",
    "    \n",
    "    def get_from_id(self):\n",
    "        return [ve.from_id for ve in self.vedges]\n",
    "        \n",
    "    def get_x(self):\n",
    "        return [ve.from_pt[0] for ve in self.vedges]\n",
    "    \n",
    "    def get_y(self):\n",
    "        return [ve.from_pt[1] for ve in self.vedges]\n",
    "    \n",
    "    def get_u(self):\n",
    "        return [ve.to_pt[0]-ve.from_pt[0] for ve in self.vedges]\n",
    "    \n",
    "    def get_v(self):\n",
    "        return [ve.to_pt[1]-ve.from_pt[1] for ve in self.vedges]\n",
    "    \n",
    "    def quiver_show(self):\n",
    "        X = np.array(self.get_x())\n",
    "        Y = np.array(self.get_y())\n",
    "        U = np.array(self.get_u())\n",
    "        V = np.array(self.get_v())\n",
    "        fig, ax = plt.subplots()\n",
    "        q = ax.quiver(X, Y, U, V)\n",
    "        ax.quiverkey(q)\n",
    "        return plt.show()"
   ]
  }
 ],
 "metadata": {
  "kernelspec": {
   "display_name": "Python 3",
   "language": "python",
   "name": "python3"
  },
  "language_info": {
   "codemirror_mode": {
    "name": "ipython",
    "version": 3
   },
   "file_extension": ".py",
   "mimetype": "text/x-python",
   "name": "python",
   "nbconvert_exporter": "python",
   "pygments_lexer": "ipython3",
   "version": "3.8.5"
  }
 },
 "nbformat": 4,
 "nbformat_minor": 5
}

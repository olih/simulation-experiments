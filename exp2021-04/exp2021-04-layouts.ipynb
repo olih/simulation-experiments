{
 "cells": [
  {
   "cell_type": "markdown",
   "id": "golden-rebound",
   "metadata": {},
   "source": [
    "# Layout methods\n",
    "\n",
    "See [Graph_drawing](https://en.wikipedia.org/wiki/Graph_drawing)"
   ]
  },
  {
   "cell_type": "markdown",
   "id": "imposed-maple",
   "metadata": {},
   "source": [
    "## Force-directed graph drawing\n",
    "\n",
    "See this nice overview in Wikipedia for [Force-directed graph drawing](https://en.wikipedia.org/wiki/Force-directed_graph_drawing) and also [this paper](https://cs.brown.edu/people/rtamassi/gdhandbook/chapters/force-directed.pdf)\n",
    "\n",
    "* [Hooke's law](https://en.wikipedia.org/wiki/Hooke%27s_law) is used for attracting nodes to each other.\n",
    "* [Coulomb's law](https://en.wikipedia.org/wiki/Coulomb%27s_law) is used to repulse nodes from each other.\n",
    "* Edge attraction and Node repulsion forces do not have to be physically accurate.\n",
    "* Some force-directed systems use springs whose attractive force is logarithmic rather than linear.\n",
    "* An alternative model considers a spring-like force where there is an ideal length for each spring without using a separate repulsive force. See [Multidimensional scaling](https://en.wikipedia.org/wiki/Multidimensional_scaling)\n",
    "* Alternatively, gravity may be used to pull the nodes towards a fixed point.\n",
    "* Magnetic fields could be used for directed graphs.\n",
    "* Repulsive forces may be placed on edges as well as on nodes in order to avoid overlaps.\n",
    "* In drawings with curved edges such as circular arcs or spline curves, forces may also be placed on the control points of these curves, for instance to improve their angular resolution.\n",
    "* Traditional energy models enforce small and uniform edge lengths. This could prevent the separation of nodes in different clusters.\n",
    "* A strategy for drawing a graph nicely is to abstract it without the fine details."
   ]
  },
  {
   "cell_type": "markdown",
   "id": "commercial-sierra",
   "metadata": {},
   "source": [
    "### Hooke's law\n",
    "\n",
    "The force needed to extend or compress a spring by some distance scales linearly.\n",
    "\n",
    "* spring constant k is a measure of the stiffness.\n",
    "* extension is the increase in length"
   ]
  },
  {
   "cell_type": "code",
   "execution_count": 167,
   "id": "romantic-galaxy",
   "metadata": {},
   "outputs": [],
   "source": [
    "# linear springs\n",
    "def force(k: float, extension: float):\n",
    "    return k*extension"
   ]
  },
  {
   "cell_type": "code",
   "execution_count": 168,
   "id": "global-tomorrow",
   "metadata": {},
   "outputs": [
    {
     "data": {
      "text/plain": [
       "20"
      ]
     },
     "execution_count": 168,
     "metadata": {},
     "output_type": "execute_result"
    }
   ],
   "source": [
    "force(2, 10)"
   ]
  },
  {
   "cell_type": "markdown",
   "id": "second-council",
   "metadata": {},
   "source": [
    "Algorithm of Fruchterman and Reingold with even vertex distribution.\n",
    "This algorithm is similar to that of Eades with attractive forces between adjacent nodes and repulsive forces between all pairs of nodes.\n",
    "\n",
    "The algorithm adds the notion of temperature which would decrease to 0. \n",
    "The temperature (similar in concept to [simulated annealing](https://en.wikipedia.org/wiki/Simulated_annealing) )influences the displacement of nodes to make the layout better. \n",
    "\n",
    "* d, distance between two nodes\n",
    "* k, optimal distance between nodes\n",
    "* area"
   ]
  },
  {
   "cell_type": "code",
   "execution_count": 169,
   "id": "insured-wagner",
   "metadata": {},
   "outputs": [],
   "source": [
    "from math import sqrt\n",
    "\n",
    "def optimal_distance(c, area, numberOfNodes: int):\n",
    "    return c*sqrt(area/numberOfNodes)"
   ]
  },
  {
   "cell_type": "code",
   "execution_count": 170,
   "id": "attended-institute",
   "metadata": {},
   "outputs": [
    {
     "data": {
      "text/plain": [
       "161.90861620062103"
      ]
     },
     "execution_count": 170,
     "metadata": {},
     "output_type": "execute_result"
    }
   ],
   "source": [
    "k_dist = optimal_distance(1, 1024*768, 30)\n",
    "k_dist"
   ]
  },
  {
   "cell_type": "code",
   "execution_count": 171,
   "id": "union-necessity",
   "metadata": {},
   "outputs": [],
   "source": [
    "def force_attractive(d: float):\n",
    "    return d**2/k_dist"
   ]
  },
  {
   "cell_type": "code",
   "execution_count": 172,
   "id": "american-ceiling",
   "metadata": {},
   "outputs": [
    {
     "data": {
      "text/plain": [
       "61.76323555016366"
      ]
     },
     "execution_count": 172,
     "metadata": {},
     "output_type": "execute_result"
    }
   ],
   "source": [
    "force_attractive(100)"
   ]
  },
  {
   "cell_type": "code",
   "execution_count": 173,
   "id": "functioning-upper",
   "metadata": {},
   "outputs": [],
   "source": [
    "def force_repulsive(d: float):\n",
    "    return (-k_dist**2)/d"
   ]
  },
  {
   "cell_type": "code",
   "execution_count": 174,
   "id": "muslim-administrator",
   "metadata": {},
   "outputs": [
    {
     "data": {
      "text/plain": [
       "-262.144"
      ]
     },
     "execution_count": 174,
     "metadata": {},
     "output_type": "execute_result"
    }
   ],
   "source": [
    "force_repulsive(100)"
   ]
  },
  {
   "cell_type": "markdown",
   "id": "random-logan",
   "metadata": {},
   "source": [
    "## Kamada and Kawai approach\n",
    "\n",
    "Desirable geometric (Euclidean) distance between two nodes in the drawing as the graph theoretic distance as computed by an All-Pairs-Shortest-Path computation. The algorithm shows an intuitive definition of a good graph layout.\n",
    "However, it is more expensive to run.\n"
   ]
  },
  {
   "cell_type": "markdown",
   "id": "provincial-scott",
   "metadata": {},
   "source": [
    "## Random graph"
   ]
  },
  {
   "cell_type": "markdown",
   "id": "alternate-configuration",
   "metadata": {},
   "source": [
    "A simplified graph for which nodes are just ids"
   ]
  },
  {
   "cell_type": "code",
   "execution_count": 175,
   "id": "convertible-miracle",
   "metadata": {},
   "outputs": [],
   "source": [
    "from typing import Tuple, List\n",
    "from random import randint, choice, sample\n",
    "\n",
    "class Edge:\n",
    "    def __init__(self, fromId: int, toId: int):\n",
    "        self.fromId = fromId\n",
    "        self.toId = toId\n",
    "        \n",
    "    def __repr__(self):\n",
    "        return f\"{self.fromId}->{self.toId}\"\n",
    "    \n",
    "    def __str__(self):\n",
    "        return f\"{self.fromId}->{self.toId}\"\n",
    "    \n",
    "class Graph:\n",
    "    def __init__(self, nb_of_nodes: int):\n",
    "        self.edges = []\n",
    "        self.nb_of_nodes = nb_of_nodes\n",
    "        \n",
    "    def random_nodes(self, excluding: List[int], k: int):\n",
    "        options = list(set(range(self.nb_of_nodes)).difference(set(excluding)))\n",
    "        if k > len(options):\n",
    "            return []\n",
    "        return sample(options, k)\n",
    "        \n",
    "    def random_graph(self, childRange: Tuple[int, int]):\n",
    "        edges = []\n",
    "        for i in range(self.nb_of_nodes):\n",
    "            childCount = randint(childRange[0], childRange[1])\n",
    "            if childCount < 1:\n",
    "                continue\n",
    "            childNodeIds = self.random_nodes([i], childCount)\n",
    "            for c in childNodeIds:\n",
    "                edges.append(Edge(i, c))\n",
    "        self.edges = edges\n",
    "        return self\n",
    "    \n",
    "    def random_tree(self, childRange: Tuple[int, int]):\n",
    "        edges = []\n",
    "        nodesTaken = []\n",
    "        for i in range(self.nb_of_nodes):\n",
    "            nodesTaken.append(i)\n",
    "            childCount = randint(childRange[0], childRange[1])\n",
    "            if childCount < 1:\n",
    "                continue\n",
    "            childNodeIds = self.random_nodes(nodesTaken, childCount)\n",
    "            nodesTaken.extend(childNodeIds)\n",
    "            for c in childNodeIds:\n",
    "                edges.append(Edge(i, c))\n",
    "        self.edges = edges\n",
    "        return self\n",
    "   "
   ]
  },
  {
   "cell_type": "code",
   "execution_count": 176,
   "id": "induced-scheduling",
   "metadata": {},
   "outputs": [
    {
     "data": {
      "text/plain": [
       "[0->5,\n",
       " 0->8,\n",
       " 0->7,\n",
       " 2->9,\n",
       " 2->3,\n",
       " 4->2,\n",
       " 6->9,\n",
       " 6->4,\n",
       " 7->1,\n",
       " 7->4,\n",
       " 7->8,\n",
       " 8->2,\n",
       " 10->8,\n",
       " 11->10,\n",
       " 11->9,\n",
       " 11->7]"
      ]
     },
     "execution_count": 176,
     "metadata": {},
     "output_type": "execute_result"
    }
   ],
   "source": [
    "g12 = Graph(12).random_graph((0, 3))\n",
    "g1.edges"
   ]
  },
  {
   "cell_type": "code",
   "execution_count": 177,
   "id": "reliable-overhead",
   "metadata": {},
   "outputs": [
    {
     "data": {
      "text/plain": [
       "[0->9, 0->2, 0->3, 1->10, 1->11, 2->6, 2->7, 2->4, 4->8]"
      ]
     },
     "execution_count": 177,
     "metadata": {},
     "output_type": "execute_result"
    }
   ],
   "source": [
    "t12 = Graph(20).random_tree((0, 3))\n",
    "t12.edges"
   ]
  }
 ],
 "metadata": {
  "kernelspec": {
   "display_name": "Python 3",
   "language": "python",
   "name": "python3"
  },
  "language_info": {
   "codemirror_mode": {
    "name": "ipython",
    "version": 3
   },
   "file_extension": ".py",
   "mimetype": "text/x-python",
   "name": "python",
   "nbconvert_exporter": "python",
   "pygments_lexer": "ipython3",
   "version": "3.8.5"
  }
 },
 "nbformat": 4,
 "nbformat_minor": 5
}

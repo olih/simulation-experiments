{
 "cells": [
  {
   "cell_type": "markdown",
   "metadata": {},
   "source": [
    "# Simulation 3"
   ]
  },
  {
   "cell_type": "markdown",
   "metadata": {},
   "source": [
    "Study of the cost of reviewing generated assets"
   ]
  },
  {
   "cell_type": "code",
   "execution_count": 12,
   "metadata": {},
   "outputs": [],
   "source": [
    "from simulation3 import SimulationParams, Simulation, IntRange, FractionRange, save_to_csv\n",
    "from fractions import Fraction"
   ]
  },
  {
   "cell_type": "code",
   "execution_count": 13,
   "metadata": {},
   "outputs": [],
   "source": [
    "simParams = SimulationParams()\n",
    "simParams.set_review_time_second(IntRange(3, 120))\n",
    "simParams.set_available_time_second(IntRange(3600*4, 3600*8*5))\n",
    "simParams.set_success_ratio(FractionRange(Fraction(1,1000), Fraction(1,10)))\n",
    "simParams.set_count(5000)\n",
    "\n",
    "save_to_csv(\"simulation3.csv\", Simulation(simParams).simulate())"
   ]
  },
  {
   "cell_type": "markdown",
   "metadata": {},
   "source": [
    "![simulation3](sim3.png)"
   ]
  },
  {
   "cell_type": "markdown",
   "metadata": {},
   "source": [
    "## Conclusion\n",
    "\n",
    "All in all, it looks like it would be quicker to select & pick rather than creating assets from scratch. However, this does not take into account the time design & implement the generator, that would be significant."
   ]
  },
  {
   "cell_type": "code",
   "execution_count": null,
   "metadata": {},
   "outputs": [],
   "source": []
  }
 ],
 "metadata": {
  "kernelspec": {
   "display_name": "Python 3",
   "language": "python",
   "name": "python3"
  },
  "language_info": {
   "codemirror_mode": {
    "name": "ipython",
    "version": 3
   },
   "file_extension": ".py",
   "mimetype": "text/x-python",
   "name": "python",
   "nbconvert_exporter": "python",
   "pygments_lexer": "ipython3",
   "version": "3.7.4"
  }
 },
 "nbformat": 4,
 "nbformat_minor": 4
}
